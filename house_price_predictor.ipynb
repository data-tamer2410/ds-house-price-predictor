{
  "nbformat": 4,
  "nbformat_minor": 0,
  "metadata": {
    "colab": {
      "provenance": [],
      "collapsed_sections": [
        "EifokqmR9wAB",
        "YsOQmQ89Je4W",
        "dx7TTDyiJzb2",
        "2ZIG9A4SZ4vk",
        "qKMncBxhO9YJ",
        "nLoaPbveQibC",
        "P1m8KUpTaSvy",
        "5IH_Sdd_h67w",
        "adsIyVubhTIm",
        "UNJbBwG3ppyh",
        "C9rhocVuqo-0",
        "A9FRkSmNi5F-",
        "A7p8vn8K3ZeX",
        "PefbKJekIr_Y",
        "Kmek3pVF3aLK",
        "2_DGP5uHkTMR",
        "LcqA66xjYKau",
        "qOkxp1Ym-TjN"
      ],
      "authorship_tag": "ABX9TyMhBHnBL6Lu5QRSVNlHYI+I",
      "include_colab_link": true
    },
    "kernelspec": {
      "name": "python3",
      "display_name": "Python 3"
    },
    "language_info": {
      "name": "python"
    }
  },
  "cells": [
    {
      "cell_type": "markdown",
      "metadata": {
        "id": "view-in-github",
        "colab_type": "text"
      },
      "source": [
        "<a href=\"https://colab.research.google.com/github/data-tamer2410/ds-house-price-predictor/blob/main/house_price_predictor.ipynb\" target=\"_parent\"><img src=\"https://colab.research.google.com/assets/colab-badge.svg\" alt=\"Open In Colab\"/></a>"
      ]
    },
    {
      "cell_type": "code",
      "source": [
        "import numpy as np\n",
        "import pandas as pd\n",
        "import seaborn as sns\n",
        "import matplotlib.pyplot as plt\n",
        "import optuna\n",
        "from sklearn.linear_model import LinearRegression, Lasso\n",
        "from sklearn.ensemble import RandomForestRegressor, GradientBoostingRegressor\n",
        "from sklearn.metrics import mean_absolute_error,r2_score, root_mean_squared_error\n",
        "from sklearn.model_selection import cross_validate, train_test_split, ShuffleSplit\n",
        "from sklearn.preprocessing import StandardScaler, LabelEncoder\n",
        "%matplotlib inline"
      ],
      "metadata": {
        "id": "zXo3MoE56MI9"
      },
      "execution_count": 1,
      "outputs": []
    },
    {
      "cell_type": "markdown",
      "source": [
        "# Task."
      ],
      "metadata": {
        "id": "EifokqmR9wAB"
      }
    },
    {
      "cell_type": "markdown",
      "source": [
        "Build a stable model that predicts house prices based on their characteristics."
      ],
      "metadata": {
        "id": "D3xlUbZo9zRO"
      }
    },
    {
      "cell_type": "markdown",
      "source": [
        "# Solving the task"
      ],
      "metadata": {
        "id": "Dy4rfJUf-IRI"
      }
    },
    {
      "cell_type": "markdown",
      "source": [
        "\n",
        "## Loading data."
      ],
      "metadata": {
        "id": "YsOQmQ89Je4W"
      }
    },
    {
      "cell_type": "code",
      "source": [
        "df = pd.read_csv('Housing.csv')\n",
        "df.head()"
      ],
      "metadata": {
        "colab": {
          "base_uri": "https://localhost:8080/",
          "height": 206
        },
        "id": "m94Y1qjSrEs3",
        "outputId": "92549371-372b-4ef4-abc1-3f1116ebca13"
      },
      "execution_count": 2,
      "outputs": [
        {
          "output_type": "execute_result",
          "data": {
            "text/plain": [
              "      price  area  bedrooms  bathrooms  stories mainroad guestroom basement  \\\n",
              "0  13300000  7420         4          2        3      yes        no       no   \n",
              "1  12250000  8960         4          4        4      yes        no       no   \n",
              "2  12250000  9960         3          2        2      yes        no      yes   \n",
              "3  12215000  7500         4          2        2      yes        no      yes   \n",
              "4  11410000  7420         4          1        2      yes       yes      yes   \n",
              "\n",
              "  hotwaterheating airconditioning  parking prefarea furnishingstatus  \n",
              "0              no             yes        2      yes        furnished  \n",
              "1              no             yes        3       no        furnished  \n",
              "2              no              no        2      yes   semi-furnished  \n",
              "3              no             yes        3      yes        furnished  \n",
              "4              no             yes        2       no        furnished  "
            ],
            "text/html": [
              "\n",
              "  <div id=\"df-0a6fc4c7-7aed-4ff2-a2c6-02cbac647047\" class=\"colab-df-container\">\n",
              "    <div>\n",
              "<style scoped>\n",
              "    .dataframe tbody tr th:only-of-type {\n",
              "        vertical-align: middle;\n",
              "    }\n",
              "\n",
              "    .dataframe tbody tr th {\n",
              "        vertical-align: top;\n",
              "    }\n",
              "\n",
              "    .dataframe thead th {\n",
              "        text-align: right;\n",
              "    }\n",
              "</style>\n",
              "<table border=\"1\" class=\"dataframe\">\n",
              "  <thead>\n",
              "    <tr style=\"text-align: right;\">\n",
              "      <th></th>\n",
              "      <th>price</th>\n",
              "      <th>area</th>\n",
              "      <th>bedrooms</th>\n",
              "      <th>bathrooms</th>\n",
              "      <th>stories</th>\n",
              "      <th>mainroad</th>\n",
              "      <th>guestroom</th>\n",
              "      <th>basement</th>\n",
              "      <th>hotwaterheating</th>\n",
              "      <th>airconditioning</th>\n",
              "      <th>parking</th>\n",
              "      <th>prefarea</th>\n",
              "      <th>furnishingstatus</th>\n",
              "    </tr>\n",
              "  </thead>\n",
              "  <tbody>\n",
              "    <tr>\n",
              "      <th>0</th>\n",
              "      <td>13300000</td>\n",
              "      <td>7420</td>\n",
              "      <td>4</td>\n",
              "      <td>2</td>\n",
              "      <td>3</td>\n",
              "      <td>yes</td>\n",
              "      <td>no</td>\n",
              "      <td>no</td>\n",
              "      <td>no</td>\n",
              "      <td>yes</td>\n",
              "      <td>2</td>\n",
              "      <td>yes</td>\n",
              "      <td>furnished</td>\n",
              "    </tr>\n",
              "    <tr>\n",
              "      <th>1</th>\n",
              "      <td>12250000</td>\n",
              "      <td>8960</td>\n",
              "      <td>4</td>\n",
              "      <td>4</td>\n",
              "      <td>4</td>\n",
              "      <td>yes</td>\n",
              "      <td>no</td>\n",
              "      <td>no</td>\n",
              "      <td>no</td>\n",
              "      <td>yes</td>\n",
              "      <td>3</td>\n",
              "      <td>no</td>\n",
              "      <td>furnished</td>\n",
              "    </tr>\n",
              "    <tr>\n",
              "      <th>2</th>\n",
              "      <td>12250000</td>\n",
              "      <td>9960</td>\n",
              "      <td>3</td>\n",
              "      <td>2</td>\n",
              "      <td>2</td>\n",
              "      <td>yes</td>\n",
              "      <td>no</td>\n",
              "      <td>yes</td>\n",
              "      <td>no</td>\n",
              "      <td>no</td>\n",
              "      <td>2</td>\n",
              "      <td>yes</td>\n",
              "      <td>semi-furnished</td>\n",
              "    </tr>\n",
              "    <tr>\n",
              "      <th>3</th>\n",
              "      <td>12215000</td>\n",
              "      <td>7500</td>\n",
              "      <td>4</td>\n",
              "      <td>2</td>\n",
              "      <td>2</td>\n",
              "      <td>yes</td>\n",
              "      <td>no</td>\n",
              "      <td>yes</td>\n",
              "      <td>no</td>\n",
              "      <td>yes</td>\n",
              "      <td>3</td>\n",
              "      <td>yes</td>\n",
              "      <td>furnished</td>\n",
              "    </tr>\n",
              "    <tr>\n",
              "      <th>4</th>\n",
              "      <td>11410000</td>\n",
              "      <td>7420</td>\n",
              "      <td>4</td>\n",
              "      <td>1</td>\n",
              "      <td>2</td>\n",
              "      <td>yes</td>\n",
              "      <td>yes</td>\n",
              "      <td>yes</td>\n",
              "      <td>no</td>\n",
              "      <td>yes</td>\n",
              "      <td>2</td>\n",
              "      <td>no</td>\n",
              "      <td>furnished</td>\n",
              "    </tr>\n",
              "  </tbody>\n",
              "</table>\n",
              "</div>\n",
              "    <div class=\"colab-df-buttons\">\n",
              "\n",
              "  <div class=\"colab-df-container\">\n",
              "    <button class=\"colab-df-convert\" onclick=\"convertToInteractive('df-0a6fc4c7-7aed-4ff2-a2c6-02cbac647047')\"\n",
              "            title=\"Convert this dataframe to an interactive table.\"\n",
              "            style=\"display:none;\">\n",
              "\n",
              "  <svg xmlns=\"http://www.w3.org/2000/svg\" height=\"24px\" viewBox=\"0 -960 960 960\">\n",
              "    <path d=\"M120-120v-720h720v720H120Zm60-500h600v-160H180v160Zm220 220h160v-160H400v160Zm0 220h160v-160H400v160ZM180-400h160v-160H180v160Zm440 0h160v-160H620v160ZM180-180h160v-160H180v160Zm440 0h160v-160H620v160Z\"/>\n",
              "  </svg>\n",
              "    </button>\n",
              "\n",
              "  <style>\n",
              "    .colab-df-container {\n",
              "      display:flex;\n",
              "      gap: 12px;\n",
              "    }\n",
              "\n",
              "    .colab-df-convert {\n",
              "      background-color: #E8F0FE;\n",
              "      border: none;\n",
              "      border-radius: 50%;\n",
              "      cursor: pointer;\n",
              "      display: none;\n",
              "      fill: #1967D2;\n",
              "      height: 32px;\n",
              "      padding: 0 0 0 0;\n",
              "      width: 32px;\n",
              "    }\n",
              "\n",
              "    .colab-df-convert:hover {\n",
              "      background-color: #E2EBFA;\n",
              "      box-shadow: 0px 1px 2px rgba(60, 64, 67, 0.3), 0px 1px 3px 1px rgba(60, 64, 67, 0.15);\n",
              "      fill: #174EA6;\n",
              "    }\n",
              "\n",
              "    .colab-df-buttons div {\n",
              "      margin-bottom: 4px;\n",
              "    }\n",
              "\n",
              "    [theme=dark] .colab-df-convert {\n",
              "      background-color: #3B4455;\n",
              "      fill: #D2E3FC;\n",
              "    }\n",
              "\n",
              "    [theme=dark] .colab-df-convert:hover {\n",
              "      background-color: #434B5C;\n",
              "      box-shadow: 0px 1px 3px 1px rgba(0, 0, 0, 0.15);\n",
              "      filter: drop-shadow(0px 1px 2px rgba(0, 0, 0, 0.3));\n",
              "      fill: #FFFFFF;\n",
              "    }\n",
              "  </style>\n",
              "\n",
              "    <script>\n",
              "      const buttonEl =\n",
              "        document.querySelector('#df-0a6fc4c7-7aed-4ff2-a2c6-02cbac647047 button.colab-df-convert');\n",
              "      buttonEl.style.display =\n",
              "        google.colab.kernel.accessAllowed ? 'block' : 'none';\n",
              "\n",
              "      async function convertToInteractive(key) {\n",
              "        const element = document.querySelector('#df-0a6fc4c7-7aed-4ff2-a2c6-02cbac647047');\n",
              "        const dataTable =\n",
              "          await google.colab.kernel.invokeFunction('convertToInteractive',\n",
              "                                                    [key], {});\n",
              "        if (!dataTable) return;\n",
              "\n",
              "        const docLinkHtml = 'Like what you see? Visit the ' +\n",
              "          '<a target=\"_blank\" href=https://colab.research.google.com/notebooks/data_table.ipynb>data table notebook</a>'\n",
              "          + ' to learn more about interactive tables.';\n",
              "        element.innerHTML = '';\n",
              "        dataTable['output_type'] = 'display_data';\n",
              "        await google.colab.output.renderOutput(dataTable, element);\n",
              "        const docLink = document.createElement('div');\n",
              "        docLink.innerHTML = docLinkHtml;\n",
              "        element.appendChild(docLink);\n",
              "      }\n",
              "    </script>\n",
              "  </div>\n",
              "\n",
              "\n",
              "<div id=\"df-aaffd876-f601-4dd9-ae3d-f158ac500e10\">\n",
              "  <button class=\"colab-df-quickchart\" onclick=\"quickchart('df-aaffd876-f601-4dd9-ae3d-f158ac500e10')\"\n",
              "            title=\"Suggest charts\"\n",
              "            style=\"display:none;\">\n",
              "\n",
              "<svg xmlns=\"http://www.w3.org/2000/svg\" height=\"24px\"viewBox=\"0 0 24 24\"\n",
              "     width=\"24px\">\n",
              "    <g>\n",
              "        <path d=\"M19 3H5c-1.1 0-2 .9-2 2v14c0 1.1.9 2 2 2h14c1.1 0 2-.9 2-2V5c0-1.1-.9-2-2-2zM9 17H7v-7h2v7zm4 0h-2V7h2v10zm4 0h-2v-4h2v4z\"/>\n",
              "    </g>\n",
              "</svg>\n",
              "  </button>\n",
              "\n",
              "<style>\n",
              "  .colab-df-quickchart {\n",
              "      --bg-color: #E8F0FE;\n",
              "      --fill-color: #1967D2;\n",
              "      --hover-bg-color: #E2EBFA;\n",
              "      --hover-fill-color: #174EA6;\n",
              "      --disabled-fill-color: #AAA;\n",
              "      --disabled-bg-color: #DDD;\n",
              "  }\n",
              "\n",
              "  [theme=dark] .colab-df-quickchart {\n",
              "      --bg-color: #3B4455;\n",
              "      --fill-color: #D2E3FC;\n",
              "      --hover-bg-color: #434B5C;\n",
              "      --hover-fill-color: #FFFFFF;\n",
              "      --disabled-bg-color: #3B4455;\n",
              "      --disabled-fill-color: #666;\n",
              "  }\n",
              "\n",
              "  .colab-df-quickchart {\n",
              "    background-color: var(--bg-color);\n",
              "    border: none;\n",
              "    border-radius: 50%;\n",
              "    cursor: pointer;\n",
              "    display: none;\n",
              "    fill: var(--fill-color);\n",
              "    height: 32px;\n",
              "    padding: 0;\n",
              "    width: 32px;\n",
              "  }\n",
              "\n",
              "  .colab-df-quickchart:hover {\n",
              "    background-color: var(--hover-bg-color);\n",
              "    box-shadow: 0 1px 2px rgba(60, 64, 67, 0.3), 0 1px 3px 1px rgba(60, 64, 67, 0.15);\n",
              "    fill: var(--button-hover-fill-color);\n",
              "  }\n",
              "\n",
              "  .colab-df-quickchart-complete:disabled,\n",
              "  .colab-df-quickchart-complete:disabled:hover {\n",
              "    background-color: var(--disabled-bg-color);\n",
              "    fill: var(--disabled-fill-color);\n",
              "    box-shadow: none;\n",
              "  }\n",
              "\n",
              "  .colab-df-spinner {\n",
              "    border: 2px solid var(--fill-color);\n",
              "    border-color: transparent;\n",
              "    border-bottom-color: var(--fill-color);\n",
              "    animation:\n",
              "      spin 1s steps(1) infinite;\n",
              "  }\n",
              "\n",
              "  @keyframes spin {\n",
              "    0% {\n",
              "      border-color: transparent;\n",
              "      border-bottom-color: var(--fill-color);\n",
              "      border-left-color: var(--fill-color);\n",
              "    }\n",
              "    20% {\n",
              "      border-color: transparent;\n",
              "      border-left-color: var(--fill-color);\n",
              "      border-top-color: var(--fill-color);\n",
              "    }\n",
              "    30% {\n",
              "      border-color: transparent;\n",
              "      border-left-color: var(--fill-color);\n",
              "      border-top-color: var(--fill-color);\n",
              "      border-right-color: var(--fill-color);\n",
              "    }\n",
              "    40% {\n",
              "      border-color: transparent;\n",
              "      border-right-color: var(--fill-color);\n",
              "      border-top-color: var(--fill-color);\n",
              "    }\n",
              "    60% {\n",
              "      border-color: transparent;\n",
              "      border-right-color: var(--fill-color);\n",
              "    }\n",
              "    80% {\n",
              "      border-color: transparent;\n",
              "      border-right-color: var(--fill-color);\n",
              "      border-bottom-color: var(--fill-color);\n",
              "    }\n",
              "    90% {\n",
              "      border-color: transparent;\n",
              "      border-bottom-color: var(--fill-color);\n",
              "    }\n",
              "  }\n",
              "</style>\n",
              "\n",
              "  <script>\n",
              "    async function quickchart(key) {\n",
              "      const quickchartButtonEl =\n",
              "        document.querySelector('#' + key + ' button');\n",
              "      quickchartButtonEl.disabled = true;  // To prevent multiple clicks.\n",
              "      quickchartButtonEl.classList.add('colab-df-spinner');\n",
              "      try {\n",
              "        const charts = await google.colab.kernel.invokeFunction(\n",
              "            'suggestCharts', [key], {});\n",
              "      } catch (error) {\n",
              "        console.error('Error during call to suggestCharts:', error);\n",
              "      }\n",
              "      quickchartButtonEl.classList.remove('colab-df-spinner');\n",
              "      quickchartButtonEl.classList.add('colab-df-quickchart-complete');\n",
              "    }\n",
              "    (() => {\n",
              "      let quickchartButtonEl =\n",
              "        document.querySelector('#df-aaffd876-f601-4dd9-ae3d-f158ac500e10 button');\n",
              "      quickchartButtonEl.style.display =\n",
              "        google.colab.kernel.accessAllowed ? 'block' : 'none';\n",
              "    })();\n",
              "  </script>\n",
              "</div>\n",
              "\n",
              "    </div>\n",
              "  </div>\n"
            ],
            "application/vnd.google.colaboratory.intrinsic+json": {
              "type": "dataframe",
              "variable_name": "df",
              "summary": "{\n  \"name\": \"df\",\n  \"rows\": 545,\n  \"fields\": [\n    {\n      \"column\": \"price\",\n      \"properties\": {\n        \"dtype\": \"number\",\n        \"std\": 1870439,\n        \"min\": 1750000,\n        \"max\": 13300000,\n        \"num_unique_values\": 219,\n        \"samples\": [\n          3773000,\n          5285000,\n          1820000\n        ],\n        \"semantic_type\": \"\",\n        \"description\": \"\"\n      }\n    },\n    {\n      \"column\": \"area\",\n      \"properties\": {\n        \"dtype\": \"number\",\n        \"std\": 2170,\n        \"min\": 1650,\n        \"max\": 16200,\n        \"num_unique_values\": 284,\n        \"samples\": [\n          6000,\n          2684,\n          5360\n        ],\n        \"semantic_type\": \"\",\n        \"description\": \"\"\n      }\n    },\n    {\n      \"column\": \"bedrooms\",\n      \"properties\": {\n        \"dtype\": \"number\",\n        \"std\": 0,\n        \"min\": 1,\n        \"max\": 6,\n        \"num_unique_values\": 6,\n        \"samples\": [\n          4,\n          3,\n          1\n        ],\n        \"semantic_type\": \"\",\n        \"description\": \"\"\n      }\n    },\n    {\n      \"column\": \"bathrooms\",\n      \"properties\": {\n        \"dtype\": \"number\",\n        \"std\": 0,\n        \"min\": 1,\n        \"max\": 4,\n        \"num_unique_values\": 4,\n        \"samples\": [\n          4,\n          3,\n          2\n        ],\n        \"semantic_type\": \"\",\n        \"description\": \"\"\n      }\n    },\n    {\n      \"column\": \"stories\",\n      \"properties\": {\n        \"dtype\": \"number\",\n        \"std\": 0,\n        \"min\": 1,\n        \"max\": 4,\n        \"num_unique_values\": 4,\n        \"samples\": [\n          4,\n          1,\n          3\n        ],\n        \"semantic_type\": \"\",\n        \"description\": \"\"\n      }\n    },\n    {\n      \"column\": \"mainroad\",\n      \"properties\": {\n        \"dtype\": \"category\",\n        \"num_unique_values\": 2,\n        \"samples\": [\n          \"no\",\n          \"yes\"\n        ],\n        \"semantic_type\": \"\",\n        \"description\": \"\"\n      }\n    },\n    {\n      \"column\": \"guestroom\",\n      \"properties\": {\n        \"dtype\": \"category\",\n        \"num_unique_values\": 2,\n        \"samples\": [\n          \"yes\",\n          \"no\"\n        ],\n        \"semantic_type\": \"\",\n        \"description\": \"\"\n      }\n    },\n    {\n      \"column\": \"basement\",\n      \"properties\": {\n        \"dtype\": \"category\",\n        \"num_unique_values\": 2,\n        \"samples\": [\n          \"yes\",\n          \"no\"\n        ],\n        \"semantic_type\": \"\",\n        \"description\": \"\"\n      }\n    },\n    {\n      \"column\": \"hotwaterheating\",\n      \"properties\": {\n        \"dtype\": \"category\",\n        \"num_unique_values\": 2,\n        \"samples\": [\n          \"yes\",\n          \"no\"\n        ],\n        \"semantic_type\": \"\",\n        \"description\": \"\"\n      }\n    },\n    {\n      \"column\": \"airconditioning\",\n      \"properties\": {\n        \"dtype\": \"category\",\n        \"num_unique_values\": 2,\n        \"samples\": [\n          \"no\",\n          \"yes\"\n        ],\n        \"semantic_type\": \"\",\n        \"description\": \"\"\n      }\n    },\n    {\n      \"column\": \"parking\",\n      \"properties\": {\n        \"dtype\": \"number\",\n        \"std\": 0,\n        \"min\": 0,\n        \"max\": 3,\n        \"num_unique_values\": 4,\n        \"samples\": [\n          3,\n          1\n        ],\n        \"semantic_type\": \"\",\n        \"description\": \"\"\n      }\n    },\n    {\n      \"column\": \"prefarea\",\n      \"properties\": {\n        \"dtype\": \"category\",\n        \"num_unique_values\": 2,\n        \"samples\": [\n          \"no\",\n          \"yes\"\n        ],\n        \"semantic_type\": \"\",\n        \"description\": \"\"\n      }\n    },\n    {\n      \"column\": \"furnishingstatus\",\n      \"properties\": {\n        \"dtype\": \"category\",\n        \"num_unique_values\": 3,\n        \"samples\": [\n          \"furnished\",\n          \"semi-furnished\"\n        ],\n        \"semantic_type\": \"\",\n        \"description\": \"\"\n      }\n    }\n  ]\n}"
            }
          },
          "metadata": {},
          "execution_count": 2
        }
      ]
    },
    {
      "cell_type": "code",
      "source": [
        "df.agg(['min','max'])"
      ],
      "metadata": {
        "colab": {
          "base_uri": "https://localhost:8080/",
          "height": 112
        },
        "id": "jupWr0pzUHyY",
        "outputId": "c26d4552-5500-4ede-f376-05e3b68f44c1"
      },
      "execution_count": 3,
      "outputs": [
        {
          "output_type": "execute_result",
          "data": {
            "text/plain": [
              "        price   area  bedrooms  bathrooms  stories mainroad guestroom  \\\n",
              "min   1750000   1650         1          1        1       no        no   \n",
              "max  13300000  16200         6          4        4      yes       yes   \n",
              "\n",
              "    basement hotwaterheating airconditioning  parking prefarea  \\\n",
              "min       no              no              no        0       no   \n",
              "max      yes             yes             yes        3      yes   \n",
              "\n",
              "    furnishingstatus  \n",
              "min        furnished  \n",
              "max      unfurnished  "
            ],
            "text/html": [
              "\n",
              "  <div id=\"df-1693c697-f26e-4141-b58a-8b5153b6d029\" class=\"colab-df-container\">\n",
              "    <div>\n",
              "<style scoped>\n",
              "    .dataframe tbody tr th:only-of-type {\n",
              "        vertical-align: middle;\n",
              "    }\n",
              "\n",
              "    .dataframe tbody tr th {\n",
              "        vertical-align: top;\n",
              "    }\n",
              "\n",
              "    .dataframe thead th {\n",
              "        text-align: right;\n",
              "    }\n",
              "</style>\n",
              "<table border=\"1\" class=\"dataframe\">\n",
              "  <thead>\n",
              "    <tr style=\"text-align: right;\">\n",
              "      <th></th>\n",
              "      <th>price</th>\n",
              "      <th>area</th>\n",
              "      <th>bedrooms</th>\n",
              "      <th>bathrooms</th>\n",
              "      <th>stories</th>\n",
              "      <th>mainroad</th>\n",
              "      <th>guestroom</th>\n",
              "      <th>basement</th>\n",
              "      <th>hotwaterheating</th>\n",
              "      <th>airconditioning</th>\n",
              "      <th>parking</th>\n",
              "      <th>prefarea</th>\n",
              "      <th>furnishingstatus</th>\n",
              "    </tr>\n",
              "  </thead>\n",
              "  <tbody>\n",
              "    <tr>\n",
              "      <th>min</th>\n",
              "      <td>1750000</td>\n",
              "      <td>1650</td>\n",
              "      <td>1</td>\n",
              "      <td>1</td>\n",
              "      <td>1</td>\n",
              "      <td>no</td>\n",
              "      <td>no</td>\n",
              "      <td>no</td>\n",
              "      <td>no</td>\n",
              "      <td>no</td>\n",
              "      <td>0</td>\n",
              "      <td>no</td>\n",
              "      <td>furnished</td>\n",
              "    </tr>\n",
              "    <tr>\n",
              "      <th>max</th>\n",
              "      <td>13300000</td>\n",
              "      <td>16200</td>\n",
              "      <td>6</td>\n",
              "      <td>4</td>\n",
              "      <td>4</td>\n",
              "      <td>yes</td>\n",
              "      <td>yes</td>\n",
              "      <td>yes</td>\n",
              "      <td>yes</td>\n",
              "      <td>yes</td>\n",
              "      <td>3</td>\n",
              "      <td>yes</td>\n",
              "      <td>unfurnished</td>\n",
              "    </tr>\n",
              "  </tbody>\n",
              "</table>\n",
              "</div>\n",
              "    <div class=\"colab-df-buttons\">\n",
              "\n",
              "  <div class=\"colab-df-container\">\n",
              "    <button class=\"colab-df-convert\" onclick=\"convertToInteractive('df-1693c697-f26e-4141-b58a-8b5153b6d029')\"\n",
              "            title=\"Convert this dataframe to an interactive table.\"\n",
              "            style=\"display:none;\">\n",
              "\n",
              "  <svg xmlns=\"http://www.w3.org/2000/svg\" height=\"24px\" viewBox=\"0 -960 960 960\">\n",
              "    <path d=\"M120-120v-720h720v720H120Zm60-500h600v-160H180v160Zm220 220h160v-160H400v160Zm0 220h160v-160H400v160ZM180-400h160v-160H180v160Zm440 0h160v-160H620v160ZM180-180h160v-160H180v160Zm440 0h160v-160H620v160Z\"/>\n",
              "  </svg>\n",
              "    </button>\n",
              "\n",
              "  <style>\n",
              "    .colab-df-container {\n",
              "      display:flex;\n",
              "      gap: 12px;\n",
              "    }\n",
              "\n",
              "    .colab-df-convert {\n",
              "      background-color: #E8F0FE;\n",
              "      border: none;\n",
              "      border-radius: 50%;\n",
              "      cursor: pointer;\n",
              "      display: none;\n",
              "      fill: #1967D2;\n",
              "      height: 32px;\n",
              "      padding: 0 0 0 0;\n",
              "      width: 32px;\n",
              "    }\n",
              "\n",
              "    .colab-df-convert:hover {\n",
              "      background-color: #E2EBFA;\n",
              "      box-shadow: 0px 1px 2px rgba(60, 64, 67, 0.3), 0px 1px 3px 1px rgba(60, 64, 67, 0.15);\n",
              "      fill: #174EA6;\n",
              "    }\n",
              "\n",
              "    .colab-df-buttons div {\n",
              "      margin-bottom: 4px;\n",
              "    }\n",
              "\n",
              "    [theme=dark] .colab-df-convert {\n",
              "      background-color: #3B4455;\n",
              "      fill: #D2E3FC;\n",
              "    }\n",
              "\n",
              "    [theme=dark] .colab-df-convert:hover {\n",
              "      background-color: #434B5C;\n",
              "      box-shadow: 0px 1px 3px 1px rgba(0, 0, 0, 0.15);\n",
              "      filter: drop-shadow(0px 1px 2px rgba(0, 0, 0, 0.3));\n",
              "      fill: #FFFFFF;\n",
              "    }\n",
              "  </style>\n",
              "\n",
              "    <script>\n",
              "      const buttonEl =\n",
              "        document.querySelector('#df-1693c697-f26e-4141-b58a-8b5153b6d029 button.colab-df-convert');\n",
              "      buttonEl.style.display =\n",
              "        google.colab.kernel.accessAllowed ? 'block' : 'none';\n",
              "\n",
              "      async function convertToInteractive(key) {\n",
              "        const element = document.querySelector('#df-1693c697-f26e-4141-b58a-8b5153b6d029');\n",
              "        const dataTable =\n",
              "          await google.colab.kernel.invokeFunction('convertToInteractive',\n",
              "                                                    [key], {});\n",
              "        if (!dataTable) return;\n",
              "\n",
              "        const docLinkHtml = 'Like what you see? Visit the ' +\n",
              "          '<a target=\"_blank\" href=https://colab.research.google.com/notebooks/data_table.ipynb>data table notebook</a>'\n",
              "          + ' to learn more about interactive tables.';\n",
              "        element.innerHTML = '';\n",
              "        dataTable['output_type'] = 'display_data';\n",
              "        await google.colab.output.renderOutput(dataTable, element);\n",
              "        const docLink = document.createElement('div');\n",
              "        docLink.innerHTML = docLinkHtml;\n",
              "        element.appendChild(docLink);\n",
              "      }\n",
              "    </script>\n",
              "  </div>\n",
              "\n",
              "\n",
              "<div id=\"df-c581efae-c03a-4383-b535-d10b06b2bb5e\">\n",
              "  <button class=\"colab-df-quickchart\" onclick=\"quickchart('df-c581efae-c03a-4383-b535-d10b06b2bb5e')\"\n",
              "            title=\"Suggest charts\"\n",
              "            style=\"display:none;\">\n",
              "\n",
              "<svg xmlns=\"http://www.w3.org/2000/svg\" height=\"24px\"viewBox=\"0 0 24 24\"\n",
              "     width=\"24px\">\n",
              "    <g>\n",
              "        <path d=\"M19 3H5c-1.1 0-2 .9-2 2v14c0 1.1.9 2 2 2h14c1.1 0 2-.9 2-2V5c0-1.1-.9-2-2-2zM9 17H7v-7h2v7zm4 0h-2V7h2v10zm4 0h-2v-4h2v4z\"/>\n",
              "    </g>\n",
              "</svg>\n",
              "  </button>\n",
              "\n",
              "<style>\n",
              "  .colab-df-quickchart {\n",
              "      --bg-color: #E8F0FE;\n",
              "      --fill-color: #1967D2;\n",
              "      --hover-bg-color: #E2EBFA;\n",
              "      --hover-fill-color: #174EA6;\n",
              "      --disabled-fill-color: #AAA;\n",
              "      --disabled-bg-color: #DDD;\n",
              "  }\n",
              "\n",
              "  [theme=dark] .colab-df-quickchart {\n",
              "      --bg-color: #3B4455;\n",
              "      --fill-color: #D2E3FC;\n",
              "      --hover-bg-color: #434B5C;\n",
              "      --hover-fill-color: #FFFFFF;\n",
              "      --disabled-bg-color: #3B4455;\n",
              "      --disabled-fill-color: #666;\n",
              "  }\n",
              "\n",
              "  .colab-df-quickchart {\n",
              "    background-color: var(--bg-color);\n",
              "    border: none;\n",
              "    border-radius: 50%;\n",
              "    cursor: pointer;\n",
              "    display: none;\n",
              "    fill: var(--fill-color);\n",
              "    height: 32px;\n",
              "    padding: 0;\n",
              "    width: 32px;\n",
              "  }\n",
              "\n",
              "  .colab-df-quickchart:hover {\n",
              "    background-color: var(--hover-bg-color);\n",
              "    box-shadow: 0 1px 2px rgba(60, 64, 67, 0.3), 0 1px 3px 1px rgba(60, 64, 67, 0.15);\n",
              "    fill: var(--button-hover-fill-color);\n",
              "  }\n",
              "\n",
              "  .colab-df-quickchart-complete:disabled,\n",
              "  .colab-df-quickchart-complete:disabled:hover {\n",
              "    background-color: var(--disabled-bg-color);\n",
              "    fill: var(--disabled-fill-color);\n",
              "    box-shadow: none;\n",
              "  }\n",
              "\n",
              "  .colab-df-spinner {\n",
              "    border: 2px solid var(--fill-color);\n",
              "    border-color: transparent;\n",
              "    border-bottom-color: var(--fill-color);\n",
              "    animation:\n",
              "      spin 1s steps(1) infinite;\n",
              "  }\n",
              "\n",
              "  @keyframes spin {\n",
              "    0% {\n",
              "      border-color: transparent;\n",
              "      border-bottom-color: var(--fill-color);\n",
              "      border-left-color: var(--fill-color);\n",
              "    }\n",
              "    20% {\n",
              "      border-color: transparent;\n",
              "      border-left-color: var(--fill-color);\n",
              "      border-top-color: var(--fill-color);\n",
              "    }\n",
              "    30% {\n",
              "      border-color: transparent;\n",
              "      border-left-color: var(--fill-color);\n",
              "      border-top-color: var(--fill-color);\n",
              "      border-right-color: var(--fill-color);\n",
              "    }\n",
              "    40% {\n",
              "      border-color: transparent;\n",
              "      border-right-color: var(--fill-color);\n",
              "      border-top-color: var(--fill-color);\n",
              "    }\n",
              "    60% {\n",
              "      border-color: transparent;\n",
              "      border-right-color: var(--fill-color);\n",
              "    }\n",
              "    80% {\n",
              "      border-color: transparent;\n",
              "      border-right-color: var(--fill-color);\n",
              "      border-bottom-color: var(--fill-color);\n",
              "    }\n",
              "    90% {\n",
              "      border-color: transparent;\n",
              "      border-bottom-color: var(--fill-color);\n",
              "    }\n",
              "  }\n",
              "</style>\n",
              "\n",
              "  <script>\n",
              "    async function quickchart(key) {\n",
              "      const quickchartButtonEl =\n",
              "        document.querySelector('#' + key + ' button');\n",
              "      quickchartButtonEl.disabled = true;  // To prevent multiple clicks.\n",
              "      quickchartButtonEl.classList.add('colab-df-spinner');\n",
              "      try {\n",
              "        const charts = await google.colab.kernel.invokeFunction(\n",
              "            'suggestCharts', [key], {});\n",
              "      } catch (error) {\n",
              "        console.error('Error during call to suggestCharts:', error);\n",
              "      }\n",
              "      quickchartButtonEl.classList.remove('colab-df-spinner');\n",
              "      quickchartButtonEl.classList.add('colab-df-quickchart-complete');\n",
              "    }\n",
              "    (() => {\n",
              "      let quickchartButtonEl =\n",
              "        document.querySelector('#df-c581efae-c03a-4383-b535-d10b06b2bb5e button');\n",
              "      quickchartButtonEl.style.display =\n",
              "        google.colab.kernel.accessAllowed ? 'block' : 'none';\n",
              "    })();\n",
              "  </script>\n",
              "</div>\n",
              "\n",
              "    </div>\n",
              "  </div>\n"
            ],
            "application/vnd.google.colaboratory.intrinsic+json": {
              "type": "dataframe",
              "summary": "{\n  \"name\": \"df\",\n  \"rows\": 2,\n  \"fields\": [\n    {\n      \"column\": \"price\",\n      \"properties\": {\n        \"dtype\": \"number\",\n        \"std\": 8167083,\n        \"min\": 1750000,\n        \"max\": 13300000,\n        \"num_unique_values\": 2,\n        \"samples\": [\n          13300000,\n          1750000\n        ],\n        \"semantic_type\": \"\",\n        \"description\": \"\"\n      }\n    },\n    {\n      \"column\": \"area\",\n      \"properties\": {\n        \"dtype\": \"number\",\n        \"std\": 10288,\n        \"min\": 1650,\n        \"max\": 16200,\n        \"num_unique_values\": 2,\n        \"samples\": [\n          16200,\n          1650\n        ],\n        \"semantic_type\": \"\",\n        \"description\": \"\"\n      }\n    },\n    {\n      \"column\": \"bedrooms\",\n      \"properties\": {\n        \"dtype\": \"number\",\n        \"std\": 3,\n        \"min\": 1,\n        \"max\": 6,\n        \"num_unique_values\": 2,\n        \"samples\": [\n          6,\n          1\n        ],\n        \"semantic_type\": \"\",\n        \"description\": \"\"\n      }\n    },\n    {\n      \"column\": \"bathrooms\",\n      \"properties\": {\n        \"dtype\": \"number\",\n        \"std\": 2,\n        \"min\": 1,\n        \"max\": 4,\n        \"num_unique_values\": 2,\n        \"samples\": [\n          4,\n          1\n        ],\n        \"semantic_type\": \"\",\n        \"description\": \"\"\n      }\n    },\n    {\n      \"column\": \"stories\",\n      \"properties\": {\n        \"dtype\": \"number\",\n        \"std\": 2,\n        \"min\": 1,\n        \"max\": 4,\n        \"num_unique_values\": 2,\n        \"samples\": [\n          4,\n          1\n        ],\n        \"semantic_type\": \"\",\n        \"description\": \"\"\n      }\n    },\n    {\n      \"column\": \"mainroad\",\n      \"properties\": {\n        \"dtype\": \"string\",\n        \"num_unique_values\": 2,\n        \"samples\": [\n          \"yes\",\n          \"no\"\n        ],\n        \"semantic_type\": \"\",\n        \"description\": \"\"\n      }\n    },\n    {\n      \"column\": \"guestroom\",\n      \"properties\": {\n        \"dtype\": \"string\",\n        \"num_unique_values\": 2,\n        \"samples\": [\n          \"yes\",\n          \"no\"\n        ],\n        \"semantic_type\": \"\",\n        \"description\": \"\"\n      }\n    },\n    {\n      \"column\": \"basement\",\n      \"properties\": {\n        \"dtype\": \"string\",\n        \"num_unique_values\": 2,\n        \"samples\": [\n          \"yes\",\n          \"no\"\n        ],\n        \"semantic_type\": \"\",\n        \"description\": \"\"\n      }\n    },\n    {\n      \"column\": \"hotwaterheating\",\n      \"properties\": {\n        \"dtype\": \"string\",\n        \"num_unique_values\": 2,\n        \"samples\": [\n          \"yes\",\n          \"no\"\n        ],\n        \"semantic_type\": \"\",\n        \"description\": \"\"\n      }\n    },\n    {\n      \"column\": \"airconditioning\",\n      \"properties\": {\n        \"dtype\": \"string\",\n        \"num_unique_values\": 2,\n        \"samples\": [\n          \"yes\",\n          \"no\"\n        ],\n        \"semantic_type\": \"\",\n        \"description\": \"\"\n      }\n    },\n    {\n      \"column\": \"parking\",\n      \"properties\": {\n        \"dtype\": \"number\",\n        \"std\": 2,\n        \"min\": 0,\n        \"max\": 3,\n        \"num_unique_values\": 2,\n        \"samples\": [\n          3,\n          0\n        ],\n        \"semantic_type\": \"\",\n        \"description\": \"\"\n      }\n    },\n    {\n      \"column\": \"prefarea\",\n      \"properties\": {\n        \"dtype\": \"string\",\n        \"num_unique_values\": 2,\n        \"samples\": [\n          \"yes\",\n          \"no\"\n        ],\n        \"semantic_type\": \"\",\n        \"description\": \"\"\n      }\n    },\n    {\n      \"column\": \"furnishingstatus\",\n      \"properties\": {\n        \"dtype\": \"string\",\n        \"num_unique_values\": 2,\n        \"samples\": [\n          \"unfurnished\",\n          \"furnished\"\n        ],\n        \"semantic_type\": \"\",\n        \"description\": \"\"\n      }\n    }\n  ]\n}"
            }
          },
          "metadata": {},
          "execution_count": 3
        }
      ]
    },
    {
      "cell_type": "markdown",
      "source": [
        "\n",
        "\n",
        "*   **price**: real estate price (target variable);\n",
        "\n",
        "*  **area**: area (square meter);\n",
        "\n",
        "*  **bedrooms**: the number of bedrooms (1 - 6);\n",
        "\n",
        "*  **bathrooms**: the number of bathrooms (1 - 4);\n",
        "\n",
        "*  **stories**: the number of stories (floors) in the house (1 - 4);\n",
        "\n",
        "*  **mainroom**: indicates if the property is located on a main road (yes/no);\n",
        "\n",
        "*  **guestroom**: indicates if there is a guest room available (yes/no);\n",
        "\n",
        "*  **basement**: indicates if the property has a basement (yes/no);\n",
        "\n",
        "*  **hotwaterheating**: indicates if there is a hot water heating system (yes/no);\n",
        "\n",
        "*  **airconditioning**: indicates if the property has air conditioning (yes/no);\n",
        "\n",
        "*  **parking**: the number of parking spaces available (0 - 3);\n",
        "\n",
        "*  **prefarea**: indicates if the property is in a preferred area (yes/no);\n",
        "\n",
        "*  **furnishingstatus**: the status of the furnishings (e.g., furnished, semi-furnished, or unfurnished).\n",
        "\n",
        "\n",
        "\n",
        "\n"
      ],
      "metadata": {
        "id": "FBXUT8XrTc_I"
      }
    },
    {
      "cell_type": "markdown",
      "source": [
        "\n",
        "The dataset contains data about houses and their prices.\n",
        "\n",
        "We will build a model that will predict the price of a house based on its characteristics."
      ],
      "metadata": {
        "id": "7ud74XCpJgET"
      }
    },
    {
      "cell_type": "markdown",
      "source": [
        "## Data analysis and preparation."
      ],
      "metadata": {
        "id": "dx7TTDyiJzb2"
      }
    },
    {
      "cell_type": "markdown",
      "source": [
        "### Check for missing values ​​in the data."
      ],
      "metadata": {
        "id": "2ZIG9A4SZ4vk"
      }
    },
    {
      "cell_type": "code",
      "source": [
        "df.isna().sum()"
      ],
      "metadata": {
        "colab": {
          "base_uri": "https://localhost:8080/"
        },
        "id": "esUJL3s8NjMa",
        "outputId": "889d88eb-e161-4fc7-c7c6-dc45e85ca2dc"
      },
      "execution_count": null,
      "outputs": [
        {
          "output_type": "execute_result",
          "data": {
            "text/plain": [
              "price               0\n",
              "area                0\n",
              "bedrooms            0\n",
              "bathrooms           0\n",
              "stories             0\n",
              "mainroad            0\n",
              "guestroom           0\n",
              "basement            0\n",
              "hotwaterheating     0\n",
              "airconditioning     0\n",
              "parking             0\n",
              "prefarea            0\n",
              "furnishingstatus    0\n",
              "dtype: int64"
            ],
            "text/html": [
              "<div>\n",
              "<style scoped>\n",
              "    .dataframe tbody tr th:only-of-type {\n",
              "        vertical-align: middle;\n",
              "    }\n",
              "\n",
              "    .dataframe tbody tr th {\n",
              "        vertical-align: top;\n",
              "    }\n",
              "\n",
              "    .dataframe thead th {\n",
              "        text-align: right;\n",
              "    }\n",
              "</style>\n",
              "<table border=\"1\" class=\"dataframe\">\n",
              "  <thead>\n",
              "    <tr style=\"text-align: right;\">\n",
              "      <th></th>\n",
              "      <th>0</th>\n",
              "    </tr>\n",
              "  </thead>\n",
              "  <tbody>\n",
              "    <tr>\n",
              "      <th>price</th>\n",
              "      <td>0</td>\n",
              "    </tr>\n",
              "    <tr>\n",
              "      <th>area</th>\n",
              "      <td>0</td>\n",
              "    </tr>\n",
              "    <tr>\n",
              "      <th>bedrooms</th>\n",
              "      <td>0</td>\n",
              "    </tr>\n",
              "    <tr>\n",
              "      <th>bathrooms</th>\n",
              "      <td>0</td>\n",
              "    </tr>\n",
              "    <tr>\n",
              "      <th>stories</th>\n",
              "      <td>0</td>\n",
              "    </tr>\n",
              "    <tr>\n",
              "      <th>mainroad</th>\n",
              "      <td>0</td>\n",
              "    </tr>\n",
              "    <tr>\n",
              "      <th>guestroom</th>\n",
              "      <td>0</td>\n",
              "    </tr>\n",
              "    <tr>\n",
              "      <th>basement</th>\n",
              "      <td>0</td>\n",
              "    </tr>\n",
              "    <tr>\n",
              "      <th>hotwaterheating</th>\n",
              "      <td>0</td>\n",
              "    </tr>\n",
              "    <tr>\n",
              "      <th>airconditioning</th>\n",
              "      <td>0</td>\n",
              "    </tr>\n",
              "    <tr>\n",
              "      <th>parking</th>\n",
              "      <td>0</td>\n",
              "    </tr>\n",
              "    <tr>\n",
              "      <th>prefarea</th>\n",
              "      <td>0</td>\n",
              "    </tr>\n",
              "    <tr>\n",
              "      <th>furnishingstatus</th>\n",
              "      <td>0</td>\n",
              "    </tr>\n",
              "  </tbody>\n",
              "</table>\n",
              "</div><br><label><b>dtype:</b> int64</label>"
            ]
          },
          "metadata": {},
          "execution_count": 405
        }
      ]
    },
    {
      "cell_type": "markdown",
      "source": [
        "The data has no missing values, which is good."
      ],
      "metadata": {
        "id": "xKQCpdHENrbO"
      }
    },
    {
      "cell_type": "markdown",
      "source": [
        "### Encode data."
      ],
      "metadata": {
        "id": "qKMncBxhO9YJ"
      }
    },
    {
      "cell_type": "code",
      "source": [
        "df.dtypes"
      ],
      "metadata": {
        "colab": {
          "base_uri": "https://localhost:8080/"
        },
        "id": "pyCeMO9XJ8Hp",
        "outputId": "6fade71f-4ef6-4184-ca7d-e447c465f5c3"
      },
      "execution_count": null,
      "outputs": [
        {
          "output_type": "execute_result",
          "data": {
            "text/plain": [
              "price                int64\n",
              "area                 int64\n",
              "bedrooms             int64\n",
              "bathrooms            int64\n",
              "stories              int64\n",
              "mainroad            object\n",
              "guestroom           object\n",
              "basement            object\n",
              "hotwaterheating     object\n",
              "airconditioning     object\n",
              "parking              int64\n",
              "prefarea            object\n",
              "furnishingstatus    object\n",
              "dtype: object"
            ],
            "text/html": [
              "<div>\n",
              "<style scoped>\n",
              "    .dataframe tbody tr th:only-of-type {\n",
              "        vertical-align: middle;\n",
              "    }\n",
              "\n",
              "    .dataframe tbody tr th {\n",
              "        vertical-align: top;\n",
              "    }\n",
              "\n",
              "    .dataframe thead th {\n",
              "        text-align: right;\n",
              "    }\n",
              "</style>\n",
              "<table border=\"1\" class=\"dataframe\">\n",
              "  <thead>\n",
              "    <tr style=\"text-align: right;\">\n",
              "      <th></th>\n",
              "      <th>0</th>\n",
              "    </tr>\n",
              "  </thead>\n",
              "  <tbody>\n",
              "    <tr>\n",
              "      <th>price</th>\n",
              "      <td>int64</td>\n",
              "    </tr>\n",
              "    <tr>\n",
              "      <th>area</th>\n",
              "      <td>int64</td>\n",
              "    </tr>\n",
              "    <tr>\n",
              "      <th>bedrooms</th>\n",
              "      <td>int64</td>\n",
              "    </tr>\n",
              "    <tr>\n",
              "      <th>bathrooms</th>\n",
              "      <td>int64</td>\n",
              "    </tr>\n",
              "    <tr>\n",
              "      <th>stories</th>\n",
              "      <td>int64</td>\n",
              "    </tr>\n",
              "    <tr>\n",
              "      <th>mainroad</th>\n",
              "      <td>object</td>\n",
              "    </tr>\n",
              "    <tr>\n",
              "      <th>guestroom</th>\n",
              "      <td>object</td>\n",
              "    </tr>\n",
              "    <tr>\n",
              "      <th>basement</th>\n",
              "      <td>object</td>\n",
              "    </tr>\n",
              "    <tr>\n",
              "      <th>hotwaterheating</th>\n",
              "      <td>object</td>\n",
              "    </tr>\n",
              "    <tr>\n",
              "      <th>airconditioning</th>\n",
              "      <td>object</td>\n",
              "    </tr>\n",
              "    <tr>\n",
              "      <th>parking</th>\n",
              "      <td>int64</td>\n",
              "    </tr>\n",
              "    <tr>\n",
              "      <th>prefarea</th>\n",
              "      <td>object</td>\n",
              "    </tr>\n",
              "    <tr>\n",
              "      <th>furnishingstatus</th>\n",
              "      <td>object</td>\n",
              "    </tr>\n",
              "  </tbody>\n",
              "</table>\n",
              "</div><br><label><b>dtype:</b> object</label>"
            ]
          },
          "metadata": {},
          "execution_count": 406
        }
      ]
    },
    {
      "cell_type": "markdown",
      "source": [
        "In the dataset, some columns have non-numeric values, let's encode them."
      ],
      "metadata": {
        "id": "6EMmDgP8KcCi"
      }
    },
    {
      "cell_type": "code",
      "source": [
        "label_encoder = LabelEncoder()\n",
        "\n",
        "for col in df:\n",
        "    if df[col].dtype == 'object':\n",
        "        df[col] = label_encoder.fit_transform(df[col])\n",
        "\n",
        "df.head()"
      ],
      "metadata": {
        "colab": {
          "base_uri": "https://localhost:8080/"
        },
        "id": "XsqBNUOBLe8a",
        "outputId": "4255aecf-1bef-4008-edce-189fe27c4500"
      },
      "execution_count": null,
      "outputs": [
        {
          "output_type": "execute_result",
          "data": {
            "text/plain": [
              "      price  area  bedrooms  bathrooms  ...  airconditioning  parking  prefarea  furnishingstatus\n",
              "0  13300000  7420         4          2  ...                1        2         1                 0\n",
              "1  12250000  8960         4          4  ...                1        3         0                 0\n",
              "2  12250000  9960         3          2  ...                0        2         1                 1\n",
              "3  12215000  7500         4          2  ...                1        3         1                 0\n",
              "4  11410000  7420         4          1  ...                1        2         0                 0\n",
              "\n",
              "[5 rows x 13 columns]"
            ],
            "text/html": [
              "\n",
              "  <div id=\"df-53335b91-646f-4b4b-9023-6f5db5e3f28a\" class=\"colab-df-container\">\n",
              "    <div>\n",
              "<style scoped>\n",
              "    .dataframe tbody tr th:only-of-type {\n",
              "        vertical-align: middle;\n",
              "    }\n",
              "\n",
              "    .dataframe tbody tr th {\n",
              "        vertical-align: top;\n",
              "    }\n",
              "\n",
              "    .dataframe thead th {\n",
              "        text-align: right;\n",
              "    }\n",
              "</style>\n",
              "<table border=\"1\" class=\"dataframe\">\n",
              "  <thead>\n",
              "    <tr style=\"text-align: right;\">\n",
              "      <th></th>\n",
              "      <th>price</th>\n",
              "      <th>area</th>\n",
              "      <th>bedrooms</th>\n",
              "      <th>bathrooms</th>\n",
              "      <th>stories</th>\n",
              "      <th>mainroad</th>\n",
              "      <th>guestroom</th>\n",
              "      <th>basement</th>\n",
              "      <th>hotwaterheating</th>\n",
              "      <th>airconditioning</th>\n",
              "      <th>parking</th>\n",
              "      <th>prefarea</th>\n",
              "      <th>furnishingstatus</th>\n",
              "    </tr>\n",
              "  </thead>\n",
              "  <tbody>\n",
              "    <tr>\n",
              "      <th>0</th>\n",
              "      <td>13300000</td>\n",
              "      <td>7420</td>\n",
              "      <td>4</td>\n",
              "      <td>2</td>\n",
              "      <td>3</td>\n",
              "      <td>1</td>\n",
              "      <td>0</td>\n",
              "      <td>0</td>\n",
              "      <td>0</td>\n",
              "      <td>1</td>\n",
              "      <td>2</td>\n",
              "      <td>1</td>\n",
              "      <td>0</td>\n",
              "    </tr>\n",
              "    <tr>\n",
              "      <th>1</th>\n",
              "      <td>12250000</td>\n",
              "      <td>8960</td>\n",
              "      <td>4</td>\n",
              "      <td>4</td>\n",
              "      <td>4</td>\n",
              "      <td>1</td>\n",
              "      <td>0</td>\n",
              "      <td>0</td>\n",
              "      <td>0</td>\n",
              "      <td>1</td>\n",
              "      <td>3</td>\n",
              "      <td>0</td>\n",
              "      <td>0</td>\n",
              "    </tr>\n",
              "    <tr>\n",
              "      <th>2</th>\n",
              "      <td>12250000</td>\n",
              "      <td>9960</td>\n",
              "      <td>3</td>\n",
              "      <td>2</td>\n",
              "      <td>2</td>\n",
              "      <td>1</td>\n",
              "      <td>0</td>\n",
              "      <td>1</td>\n",
              "      <td>0</td>\n",
              "      <td>0</td>\n",
              "      <td>2</td>\n",
              "      <td>1</td>\n",
              "      <td>1</td>\n",
              "    </tr>\n",
              "    <tr>\n",
              "      <th>3</th>\n",
              "      <td>12215000</td>\n",
              "      <td>7500</td>\n",
              "      <td>4</td>\n",
              "      <td>2</td>\n",
              "      <td>2</td>\n",
              "      <td>1</td>\n",
              "      <td>0</td>\n",
              "      <td>1</td>\n",
              "      <td>0</td>\n",
              "      <td>1</td>\n",
              "      <td>3</td>\n",
              "      <td>1</td>\n",
              "      <td>0</td>\n",
              "    </tr>\n",
              "    <tr>\n",
              "      <th>4</th>\n",
              "      <td>11410000</td>\n",
              "      <td>7420</td>\n",
              "      <td>4</td>\n",
              "      <td>1</td>\n",
              "      <td>2</td>\n",
              "      <td>1</td>\n",
              "      <td>1</td>\n",
              "      <td>1</td>\n",
              "      <td>0</td>\n",
              "      <td>1</td>\n",
              "      <td>2</td>\n",
              "      <td>0</td>\n",
              "      <td>0</td>\n",
              "    </tr>\n",
              "  </tbody>\n",
              "</table>\n",
              "</div>\n",
              "    <div class=\"colab-df-buttons\">\n",
              "\n",
              "  <div class=\"colab-df-container\">\n",
              "    <button class=\"colab-df-convert\" onclick=\"convertToInteractive('df-53335b91-646f-4b4b-9023-6f5db5e3f28a')\"\n",
              "            title=\"Convert this dataframe to an interactive table.\"\n",
              "            style=\"display:none;\">\n",
              "\n",
              "  <svg xmlns=\"http://www.w3.org/2000/svg\" height=\"24px\" viewBox=\"0 -960 960 960\">\n",
              "    <path d=\"M120-120v-720h720v720H120Zm60-500h600v-160H180v160Zm220 220h160v-160H400v160Zm0 220h160v-160H400v160ZM180-400h160v-160H180v160Zm440 0h160v-160H620v160ZM180-180h160v-160H180v160Zm440 0h160v-160H620v160Z\"/>\n",
              "  </svg>\n",
              "    </button>\n",
              "\n",
              "  <style>\n",
              "    .colab-df-container {\n",
              "      display:flex;\n",
              "      gap: 12px;\n",
              "    }\n",
              "\n",
              "    .colab-df-convert {\n",
              "      background-color: #E8F0FE;\n",
              "      border: none;\n",
              "      border-radius: 50%;\n",
              "      cursor: pointer;\n",
              "      display: none;\n",
              "      fill: #1967D2;\n",
              "      height: 32px;\n",
              "      padding: 0 0 0 0;\n",
              "      width: 32px;\n",
              "    }\n",
              "\n",
              "    .colab-df-convert:hover {\n",
              "      background-color: #E2EBFA;\n",
              "      box-shadow: 0px 1px 2px rgba(60, 64, 67, 0.3), 0px 1px 3px 1px rgba(60, 64, 67, 0.15);\n",
              "      fill: #174EA6;\n",
              "    }\n",
              "\n",
              "    .colab-df-buttons div {\n",
              "      margin-bottom: 4px;\n",
              "    }\n",
              "\n",
              "    [theme=dark] .colab-df-convert {\n",
              "      background-color: #3B4455;\n",
              "      fill: #D2E3FC;\n",
              "    }\n",
              "\n",
              "    [theme=dark] .colab-df-convert:hover {\n",
              "      background-color: #434B5C;\n",
              "      box-shadow: 0px 1px 3px 1px rgba(0, 0, 0, 0.15);\n",
              "      filter: drop-shadow(0px 1px 2px rgba(0, 0, 0, 0.3));\n",
              "      fill: #FFFFFF;\n",
              "    }\n",
              "  </style>\n",
              "\n",
              "    <script>\n",
              "      const buttonEl =\n",
              "        document.querySelector('#df-53335b91-646f-4b4b-9023-6f5db5e3f28a button.colab-df-convert');\n",
              "      buttonEl.style.display =\n",
              "        google.colab.kernel.accessAllowed ? 'block' : 'none';\n",
              "\n",
              "      async function convertToInteractive(key) {\n",
              "        const element = document.querySelector('#df-53335b91-646f-4b4b-9023-6f5db5e3f28a');\n",
              "        const dataTable =\n",
              "          await google.colab.kernel.invokeFunction('convertToInteractive',\n",
              "                                                    [key], {});\n",
              "        if (!dataTable) return;\n",
              "\n",
              "        const docLinkHtml = 'Like what you see? Visit the ' +\n",
              "          '<a target=\"_blank\" href=https://colab.research.google.com/notebooks/data_table.ipynb>data table notebook</a>'\n",
              "          + ' to learn more about interactive tables.';\n",
              "        element.innerHTML = '';\n",
              "        dataTable['output_type'] = 'display_data';\n",
              "        await google.colab.output.renderOutput(dataTable, element);\n",
              "        const docLink = document.createElement('div');\n",
              "        docLink.innerHTML = docLinkHtml;\n",
              "        element.appendChild(docLink);\n",
              "      }\n",
              "    </script>\n",
              "  </div>\n",
              "\n",
              "\n",
              "<div id=\"df-b183b980-2bd8-448d-b0ab-264fd12c5441\">\n",
              "  <button class=\"colab-df-quickchart\" onclick=\"quickchart('df-b183b980-2bd8-448d-b0ab-264fd12c5441')\"\n",
              "            title=\"Suggest charts\"\n",
              "            style=\"display:none;\">\n",
              "\n",
              "<svg xmlns=\"http://www.w3.org/2000/svg\" height=\"24px\"viewBox=\"0 0 24 24\"\n",
              "     width=\"24px\">\n",
              "    <g>\n",
              "        <path d=\"M19 3H5c-1.1 0-2 .9-2 2v14c0 1.1.9 2 2 2h14c1.1 0 2-.9 2-2V5c0-1.1-.9-2-2-2zM9 17H7v-7h2v7zm4 0h-2V7h2v10zm4 0h-2v-4h2v4z\"/>\n",
              "    </g>\n",
              "</svg>\n",
              "  </button>\n",
              "\n",
              "<style>\n",
              "  .colab-df-quickchart {\n",
              "      --bg-color: #E8F0FE;\n",
              "      --fill-color: #1967D2;\n",
              "      --hover-bg-color: #E2EBFA;\n",
              "      --hover-fill-color: #174EA6;\n",
              "      --disabled-fill-color: #AAA;\n",
              "      --disabled-bg-color: #DDD;\n",
              "  }\n",
              "\n",
              "  [theme=dark] .colab-df-quickchart {\n",
              "      --bg-color: #3B4455;\n",
              "      --fill-color: #D2E3FC;\n",
              "      --hover-bg-color: #434B5C;\n",
              "      --hover-fill-color: #FFFFFF;\n",
              "      --disabled-bg-color: #3B4455;\n",
              "      --disabled-fill-color: #666;\n",
              "  }\n",
              "\n",
              "  .colab-df-quickchart {\n",
              "    background-color: var(--bg-color);\n",
              "    border: none;\n",
              "    border-radius: 50%;\n",
              "    cursor: pointer;\n",
              "    display: none;\n",
              "    fill: var(--fill-color);\n",
              "    height: 32px;\n",
              "    padding: 0;\n",
              "    width: 32px;\n",
              "  }\n",
              "\n",
              "  .colab-df-quickchart:hover {\n",
              "    background-color: var(--hover-bg-color);\n",
              "    box-shadow: 0 1px 2px rgba(60, 64, 67, 0.3), 0 1px 3px 1px rgba(60, 64, 67, 0.15);\n",
              "    fill: var(--button-hover-fill-color);\n",
              "  }\n",
              "\n",
              "  .colab-df-quickchart-complete:disabled,\n",
              "  .colab-df-quickchart-complete:disabled:hover {\n",
              "    background-color: var(--disabled-bg-color);\n",
              "    fill: var(--disabled-fill-color);\n",
              "    box-shadow: none;\n",
              "  }\n",
              "\n",
              "  .colab-df-spinner {\n",
              "    border: 2px solid var(--fill-color);\n",
              "    border-color: transparent;\n",
              "    border-bottom-color: var(--fill-color);\n",
              "    animation:\n",
              "      spin 1s steps(1) infinite;\n",
              "  }\n",
              "\n",
              "  @keyframes spin {\n",
              "    0% {\n",
              "      border-color: transparent;\n",
              "      border-bottom-color: var(--fill-color);\n",
              "      border-left-color: var(--fill-color);\n",
              "    }\n",
              "    20% {\n",
              "      border-color: transparent;\n",
              "      border-left-color: var(--fill-color);\n",
              "      border-top-color: var(--fill-color);\n",
              "    }\n",
              "    30% {\n",
              "      border-color: transparent;\n",
              "      border-left-color: var(--fill-color);\n",
              "      border-top-color: var(--fill-color);\n",
              "      border-right-color: var(--fill-color);\n",
              "    }\n",
              "    40% {\n",
              "      border-color: transparent;\n",
              "      border-right-color: var(--fill-color);\n",
              "      border-top-color: var(--fill-color);\n",
              "    }\n",
              "    60% {\n",
              "      border-color: transparent;\n",
              "      border-right-color: var(--fill-color);\n",
              "    }\n",
              "    80% {\n",
              "      border-color: transparent;\n",
              "      border-right-color: var(--fill-color);\n",
              "      border-bottom-color: var(--fill-color);\n",
              "    }\n",
              "    90% {\n",
              "      border-color: transparent;\n",
              "      border-bottom-color: var(--fill-color);\n",
              "    }\n",
              "  }\n",
              "</style>\n",
              "\n",
              "  <script>\n",
              "    async function quickchart(key) {\n",
              "      const quickchartButtonEl =\n",
              "        document.querySelector('#' + key + ' button');\n",
              "      quickchartButtonEl.disabled = true;  // To prevent multiple clicks.\n",
              "      quickchartButtonEl.classList.add('colab-df-spinner');\n",
              "      try {\n",
              "        const charts = await google.colab.kernel.invokeFunction(\n",
              "            'suggestCharts', [key], {});\n",
              "      } catch (error) {\n",
              "        console.error('Error during call to suggestCharts:', error);\n",
              "      }\n",
              "      quickchartButtonEl.classList.remove('colab-df-spinner');\n",
              "      quickchartButtonEl.classList.add('colab-df-quickchart-complete');\n",
              "    }\n",
              "    (() => {\n",
              "      let quickchartButtonEl =\n",
              "        document.querySelector('#df-b183b980-2bd8-448d-b0ab-264fd12c5441 button');\n",
              "      quickchartButtonEl.style.display =\n",
              "        google.colab.kernel.accessAllowed ? 'block' : 'none';\n",
              "    })();\n",
              "  </script>\n",
              "</div>\n",
              "\n",
              "    </div>\n",
              "  </div>\n"
            ],
            "application/vnd.google.colaboratory.intrinsic+json": {
              "type": "dataframe",
              "variable_name": "df",
              "summary": "{\n  \"name\": \"df\",\n  \"rows\": 545,\n  \"fields\": [\n    {\n      \"column\": \"price\",\n      \"properties\": {\n        \"dtype\": \"number\",\n        \"std\": 1870439,\n        \"min\": 1750000,\n        \"max\": 13300000,\n        \"num_unique_values\": 219,\n        \"samples\": [\n          3773000,\n          5285000,\n          1820000\n        ],\n        \"semantic_type\": \"\",\n        \"description\": \"\"\n      }\n    },\n    {\n      \"column\": \"area\",\n      \"properties\": {\n        \"dtype\": \"number\",\n        \"std\": 2170,\n        \"min\": 1650,\n        \"max\": 16200,\n        \"num_unique_values\": 284,\n        \"samples\": [\n          6000,\n          2684,\n          5360\n        ],\n        \"semantic_type\": \"\",\n        \"description\": \"\"\n      }\n    },\n    {\n      \"column\": \"bedrooms\",\n      \"properties\": {\n        \"dtype\": \"number\",\n        \"std\": 0,\n        \"min\": 1,\n        \"max\": 6,\n        \"num_unique_values\": 6,\n        \"samples\": [\n          4,\n          3,\n          1\n        ],\n        \"semantic_type\": \"\",\n        \"description\": \"\"\n      }\n    },\n    {\n      \"column\": \"bathrooms\",\n      \"properties\": {\n        \"dtype\": \"number\",\n        \"std\": 0,\n        \"min\": 1,\n        \"max\": 4,\n        \"num_unique_values\": 4,\n        \"samples\": [\n          4,\n          3,\n          2\n        ],\n        \"semantic_type\": \"\",\n        \"description\": \"\"\n      }\n    },\n    {\n      \"column\": \"stories\",\n      \"properties\": {\n        \"dtype\": \"number\",\n        \"std\": 0,\n        \"min\": 1,\n        \"max\": 4,\n        \"num_unique_values\": 4,\n        \"samples\": [\n          4,\n          1,\n          3\n        ],\n        \"semantic_type\": \"\",\n        \"description\": \"\"\n      }\n    },\n    {\n      \"column\": \"mainroad\",\n      \"properties\": {\n        \"dtype\": \"number\",\n        \"std\": 0,\n        \"min\": 0,\n        \"max\": 1,\n        \"num_unique_values\": 2,\n        \"samples\": [\n          0,\n          1\n        ],\n        \"semantic_type\": \"\",\n        \"description\": \"\"\n      }\n    },\n    {\n      \"column\": \"guestroom\",\n      \"properties\": {\n        \"dtype\": \"number\",\n        \"std\": 0,\n        \"min\": 0,\n        \"max\": 1,\n        \"num_unique_values\": 2,\n        \"samples\": [\n          1,\n          0\n        ],\n        \"semantic_type\": \"\",\n        \"description\": \"\"\n      }\n    },\n    {\n      \"column\": \"basement\",\n      \"properties\": {\n        \"dtype\": \"number\",\n        \"std\": 0,\n        \"min\": 0,\n        \"max\": 1,\n        \"num_unique_values\": 2,\n        \"samples\": [\n          1,\n          0\n        ],\n        \"semantic_type\": \"\",\n        \"description\": \"\"\n      }\n    },\n    {\n      \"column\": \"hotwaterheating\",\n      \"properties\": {\n        \"dtype\": \"number\",\n        \"std\": 0,\n        \"min\": 0,\n        \"max\": 1,\n        \"num_unique_values\": 2,\n        \"samples\": [\n          1,\n          0\n        ],\n        \"semantic_type\": \"\",\n        \"description\": \"\"\n      }\n    },\n    {\n      \"column\": \"airconditioning\",\n      \"properties\": {\n        \"dtype\": \"number\",\n        \"std\": 0,\n        \"min\": 0,\n        \"max\": 1,\n        \"num_unique_values\": 2,\n        \"samples\": [\n          0,\n          1\n        ],\n        \"semantic_type\": \"\",\n        \"description\": \"\"\n      }\n    },\n    {\n      \"column\": \"parking\",\n      \"properties\": {\n        \"dtype\": \"number\",\n        \"std\": 0,\n        \"min\": 0,\n        \"max\": 3,\n        \"num_unique_values\": 4,\n        \"samples\": [\n          3,\n          1\n        ],\n        \"semantic_type\": \"\",\n        \"description\": \"\"\n      }\n    },\n    {\n      \"column\": \"prefarea\",\n      \"properties\": {\n        \"dtype\": \"number\",\n        \"std\": 0,\n        \"min\": 0,\n        \"max\": 1,\n        \"num_unique_values\": 2,\n        \"samples\": [\n          0,\n          1\n        ],\n        \"semantic_type\": \"\",\n        \"description\": \"\"\n      }\n    },\n    {\n      \"column\": \"furnishingstatus\",\n      \"properties\": {\n        \"dtype\": \"number\",\n        \"std\": 0,\n        \"min\": 0,\n        \"max\": 2,\n        \"num_unique_values\": 3,\n        \"samples\": [\n          0,\n          1\n        ],\n        \"semantic_type\": \"\",\n        \"description\": \"\"\n      }\n    }\n  ]\n}"
            }
          },
          "metadata": {},
          "execution_count": 407
        }
      ]
    },
    {
      "cell_type": "markdown",
      "source": [
        "We encode into numeric values ​​because machine learning algorithms only work with numeric values."
      ],
      "metadata": {
        "id": "AjsQzJTwMn0Z"
      }
    },
    {
      "cell_type": "markdown",
      "source": [
        "### Data normalization."
      ],
      "metadata": {
        "id": "nLoaPbveQibC"
      }
    },
    {
      "cell_type": "code",
      "source": [
        "df.agg(['min','max','mean','std'])"
      ],
      "metadata": {
        "colab": {
          "base_uri": "https://localhost:8080/"
        },
        "id": "qIygmA3JQ7ev",
        "outputId": "a2ee150a-aaf2-47cb-8203-115a71ccb56c"
      },
      "execution_count": null,
      "outputs": [
        {
          "output_type": "execute_result",
          "data": {
            "text/plain": [
              "             price          area  bedrooms  ...   parking  prefarea  furnishingstatus\n",
              "min   1.750000e+06   1650.000000  1.000000  ...  0.000000  0.000000          0.000000\n",
              "max   1.330000e+07  16200.000000  6.000000  ...  3.000000  1.000000          2.000000\n",
              "mean  4.766729e+06   5150.541284  2.965138  ...  0.693578  0.234862          1.069725\n",
              "std   1.870440e+06   2170.141023  0.738064  ...  0.861586  0.424302          0.761373\n",
              "\n",
              "[4 rows x 13 columns]"
            ],
            "text/html": [
              "\n",
              "  <div id=\"df-70e587c9-ba5b-456a-85a1-e71aceb4cfb7\" class=\"colab-df-container\">\n",
              "    <div>\n",
              "<style scoped>\n",
              "    .dataframe tbody tr th:only-of-type {\n",
              "        vertical-align: middle;\n",
              "    }\n",
              "\n",
              "    .dataframe tbody tr th {\n",
              "        vertical-align: top;\n",
              "    }\n",
              "\n",
              "    .dataframe thead th {\n",
              "        text-align: right;\n",
              "    }\n",
              "</style>\n",
              "<table border=\"1\" class=\"dataframe\">\n",
              "  <thead>\n",
              "    <tr style=\"text-align: right;\">\n",
              "      <th></th>\n",
              "      <th>price</th>\n",
              "      <th>area</th>\n",
              "      <th>bedrooms</th>\n",
              "      <th>bathrooms</th>\n",
              "      <th>stories</th>\n",
              "      <th>mainroad</th>\n",
              "      <th>guestroom</th>\n",
              "      <th>basement</th>\n",
              "      <th>hotwaterheating</th>\n",
              "      <th>airconditioning</th>\n",
              "      <th>parking</th>\n",
              "      <th>prefarea</th>\n",
              "      <th>furnishingstatus</th>\n",
              "    </tr>\n",
              "  </thead>\n",
              "  <tbody>\n",
              "    <tr>\n",
              "      <th>min</th>\n",
              "      <td>1.750000e+06</td>\n",
              "      <td>1650.000000</td>\n",
              "      <td>1.000000</td>\n",
              "      <td>1.000000</td>\n",
              "      <td>1.000000</td>\n",
              "      <td>0.000000</td>\n",
              "      <td>0.000000</td>\n",
              "      <td>0.000000</td>\n",
              "      <td>0.000000</td>\n",
              "      <td>0.000000</td>\n",
              "      <td>0.000000</td>\n",
              "      <td>0.000000</td>\n",
              "      <td>0.000000</td>\n",
              "    </tr>\n",
              "    <tr>\n",
              "      <th>max</th>\n",
              "      <td>1.330000e+07</td>\n",
              "      <td>16200.000000</td>\n",
              "      <td>6.000000</td>\n",
              "      <td>4.000000</td>\n",
              "      <td>4.000000</td>\n",
              "      <td>1.000000</td>\n",
              "      <td>1.000000</td>\n",
              "      <td>1.000000</td>\n",
              "      <td>1.000000</td>\n",
              "      <td>1.000000</td>\n",
              "      <td>3.000000</td>\n",
              "      <td>1.000000</td>\n",
              "      <td>2.000000</td>\n",
              "    </tr>\n",
              "    <tr>\n",
              "      <th>mean</th>\n",
              "      <td>4.766729e+06</td>\n",
              "      <td>5150.541284</td>\n",
              "      <td>2.965138</td>\n",
              "      <td>1.286239</td>\n",
              "      <td>1.805505</td>\n",
              "      <td>0.858716</td>\n",
              "      <td>0.177982</td>\n",
              "      <td>0.350459</td>\n",
              "      <td>0.045872</td>\n",
              "      <td>0.315596</td>\n",
              "      <td>0.693578</td>\n",
              "      <td>0.234862</td>\n",
              "      <td>1.069725</td>\n",
              "    </tr>\n",
              "    <tr>\n",
              "      <th>std</th>\n",
              "      <td>1.870440e+06</td>\n",
              "      <td>2170.141023</td>\n",
              "      <td>0.738064</td>\n",
              "      <td>0.502470</td>\n",
              "      <td>0.867492</td>\n",
              "      <td>0.348635</td>\n",
              "      <td>0.382849</td>\n",
              "      <td>0.477552</td>\n",
              "      <td>0.209399</td>\n",
              "      <td>0.465180</td>\n",
              "      <td>0.861586</td>\n",
              "      <td>0.424302</td>\n",
              "      <td>0.761373</td>\n",
              "    </tr>\n",
              "  </tbody>\n",
              "</table>\n",
              "</div>\n",
              "    <div class=\"colab-df-buttons\">\n",
              "\n",
              "  <div class=\"colab-df-container\">\n",
              "    <button class=\"colab-df-convert\" onclick=\"convertToInteractive('df-70e587c9-ba5b-456a-85a1-e71aceb4cfb7')\"\n",
              "            title=\"Convert this dataframe to an interactive table.\"\n",
              "            style=\"display:none;\">\n",
              "\n",
              "  <svg xmlns=\"http://www.w3.org/2000/svg\" height=\"24px\" viewBox=\"0 -960 960 960\">\n",
              "    <path d=\"M120-120v-720h720v720H120Zm60-500h600v-160H180v160Zm220 220h160v-160H400v160Zm0 220h160v-160H400v160ZM180-400h160v-160H180v160Zm440 0h160v-160H620v160ZM180-180h160v-160H180v160Zm440 0h160v-160H620v160Z\"/>\n",
              "  </svg>\n",
              "    </button>\n",
              "\n",
              "  <style>\n",
              "    .colab-df-container {\n",
              "      display:flex;\n",
              "      gap: 12px;\n",
              "    }\n",
              "\n",
              "    .colab-df-convert {\n",
              "      background-color: #E8F0FE;\n",
              "      border: none;\n",
              "      border-radius: 50%;\n",
              "      cursor: pointer;\n",
              "      display: none;\n",
              "      fill: #1967D2;\n",
              "      height: 32px;\n",
              "      padding: 0 0 0 0;\n",
              "      width: 32px;\n",
              "    }\n",
              "\n",
              "    .colab-df-convert:hover {\n",
              "      background-color: #E2EBFA;\n",
              "      box-shadow: 0px 1px 2px rgba(60, 64, 67, 0.3), 0px 1px 3px 1px rgba(60, 64, 67, 0.15);\n",
              "      fill: #174EA6;\n",
              "    }\n",
              "\n",
              "    .colab-df-buttons div {\n",
              "      margin-bottom: 4px;\n",
              "    }\n",
              "\n",
              "    [theme=dark] .colab-df-convert {\n",
              "      background-color: #3B4455;\n",
              "      fill: #D2E3FC;\n",
              "    }\n",
              "\n",
              "    [theme=dark] .colab-df-convert:hover {\n",
              "      background-color: #434B5C;\n",
              "      box-shadow: 0px 1px 3px 1px rgba(0, 0, 0, 0.15);\n",
              "      filter: drop-shadow(0px 1px 2px rgba(0, 0, 0, 0.3));\n",
              "      fill: #FFFFFF;\n",
              "    }\n",
              "  </style>\n",
              "\n",
              "    <script>\n",
              "      const buttonEl =\n",
              "        document.querySelector('#df-70e587c9-ba5b-456a-85a1-e71aceb4cfb7 button.colab-df-convert');\n",
              "      buttonEl.style.display =\n",
              "        google.colab.kernel.accessAllowed ? 'block' : 'none';\n",
              "\n",
              "      async function convertToInteractive(key) {\n",
              "        const element = document.querySelector('#df-70e587c9-ba5b-456a-85a1-e71aceb4cfb7');\n",
              "        const dataTable =\n",
              "          await google.colab.kernel.invokeFunction('convertToInteractive',\n",
              "                                                    [key], {});\n",
              "        if (!dataTable) return;\n",
              "\n",
              "        const docLinkHtml = 'Like what you see? Visit the ' +\n",
              "          '<a target=\"_blank\" href=https://colab.research.google.com/notebooks/data_table.ipynb>data table notebook</a>'\n",
              "          + ' to learn more about interactive tables.';\n",
              "        element.innerHTML = '';\n",
              "        dataTable['output_type'] = 'display_data';\n",
              "        await google.colab.output.renderOutput(dataTable, element);\n",
              "        const docLink = document.createElement('div');\n",
              "        docLink.innerHTML = docLinkHtml;\n",
              "        element.appendChild(docLink);\n",
              "      }\n",
              "    </script>\n",
              "  </div>\n",
              "\n",
              "\n",
              "<div id=\"df-36315554-59c4-47c2-acd9-58940e7f9a84\">\n",
              "  <button class=\"colab-df-quickchart\" onclick=\"quickchart('df-36315554-59c4-47c2-acd9-58940e7f9a84')\"\n",
              "            title=\"Suggest charts\"\n",
              "            style=\"display:none;\">\n",
              "\n",
              "<svg xmlns=\"http://www.w3.org/2000/svg\" height=\"24px\"viewBox=\"0 0 24 24\"\n",
              "     width=\"24px\">\n",
              "    <g>\n",
              "        <path d=\"M19 3H5c-1.1 0-2 .9-2 2v14c0 1.1.9 2 2 2h14c1.1 0 2-.9 2-2V5c0-1.1-.9-2-2-2zM9 17H7v-7h2v7zm4 0h-2V7h2v10zm4 0h-2v-4h2v4z\"/>\n",
              "    </g>\n",
              "</svg>\n",
              "  </button>\n",
              "\n",
              "<style>\n",
              "  .colab-df-quickchart {\n",
              "      --bg-color: #E8F0FE;\n",
              "      --fill-color: #1967D2;\n",
              "      --hover-bg-color: #E2EBFA;\n",
              "      --hover-fill-color: #174EA6;\n",
              "      --disabled-fill-color: #AAA;\n",
              "      --disabled-bg-color: #DDD;\n",
              "  }\n",
              "\n",
              "  [theme=dark] .colab-df-quickchart {\n",
              "      --bg-color: #3B4455;\n",
              "      --fill-color: #D2E3FC;\n",
              "      --hover-bg-color: #434B5C;\n",
              "      --hover-fill-color: #FFFFFF;\n",
              "      --disabled-bg-color: #3B4455;\n",
              "      --disabled-fill-color: #666;\n",
              "  }\n",
              "\n",
              "  .colab-df-quickchart {\n",
              "    background-color: var(--bg-color);\n",
              "    border: none;\n",
              "    border-radius: 50%;\n",
              "    cursor: pointer;\n",
              "    display: none;\n",
              "    fill: var(--fill-color);\n",
              "    height: 32px;\n",
              "    padding: 0;\n",
              "    width: 32px;\n",
              "  }\n",
              "\n",
              "  .colab-df-quickchart:hover {\n",
              "    background-color: var(--hover-bg-color);\n",
              "    box-shadow: 0 1px 2px rgba(60, 64, 67, 0.3), 0 1px 3px 1px rgba(60, 64, 67, 0.15);\n",
              "    fill: var(--button-hover-fill-color);\n",
              "  }\n",
              "\n",
              "  .colab-df-quickchart-complete:disabled,\n",
              "  .colab-df-quickchart-complete:disabled:hover {\n",
              "    background-color: var(--disabled-bg-color);\n",
              "    fill: var(--disabled-fill-color);\n",
              "    box-shadow: none;\n",
              "  }\n",
              "\n",
              "  .colab-df-spinner {\n",
              "    border: 2px solid var(--fill-color);\n",
              "    border-color: transparent;\n",
              "    border-bottom-color: var(--fill-color);\n",
              "    animation:\n",
              "      spin 1s steps(1) infinite;\n",
              "  }\n",
              "\n",
              "  @keyframes spin {\n",
              "    0% {\n",
              "      border-color: transparent;\n",
              "      border-bottom-color: var(--fill-color);\n",
              "      border-left-color: var(--fill-color);\n",
              "    }\n",
              "    20% {\n",
              "      border-color: transparent;\n",
              "      border-left-color: var(--fill-color);\n",
              "      border-top-color: var(--fill-color);\n",
              "    }\n",
              "    30% {\n",
              "      border-color: transparent;\n",
              "      border-left-color: var(--fill-color);\n",
              "      border-top-color: var(--fill-color);\n",
              "      border-right-color: var(--fill-color);\n",
              "    }\n",
              "    40% {\n",
              "      border-color: transparent;\n",
              "      border-right-color: var(--fill-color);\n",
              "      border-top-color: var(--fill-color);\n",
              "    }\n",
              "    60% {\n",
              "      border-color: transparent;\n",
              "      border-right-color: var(--fill-color);\n",
              "    }\n",
              "    80% {\n",
              "      border-color: transparent;\n",
              "      border-right-color: var(--fill-color);\n",
              "      border-bottom-color: var(--fill-color);\n",
              "    }\n",
              "    90% {\n",
              "      border-color: transparent;\n",
              "      border-bottom-color: var(--fill-color);\n",
              "    }\n",
              "  }\n",
              "</style>\n",
              "\n",
              "  <script>\n",
              "    async function quickchart(key) {\n",
              "      const quickchartButtonEl =\n",
              "        document.querySelector('#' + key + ' button');\n",
              "      quickchartButtonEl.disabled = true;  // To prevent multiple clicks.\n",
              "      quickchartButtonEl.classList.add('colab-df-spinner');\n",
              "      try {\n",
              "        const charts = await google.colab.kernel.invokeFunction(\n",
              "            'suggestCharts', [key], {});\n",
              "      } catch (error) {\n",
              "        console.error('Error during call to suggestCharts:', error);\n",
              "      }\n",
              "      quickchartButtonEl.classList.remove('colab-df-spinner');\n",
              "      quickchartButtonEl.classList.add('colab-df-quickchart-complete');\n",
              "    }\n",
              "    (() => {\n",
              "      let quickchartButtonEl =\n",
              "        document.querySelector('#df-36315554-59c4-47c2-acd9-58940e7f9a84 button');\n",
              "      quickchartButtonEl.style.display =\n",
              "        google.colab.kernel.accessAllowed ? 'block' : 'none';\n",
              "    })();\n",
              "  </script>\n",
              "</div>\n",
              "\n",
              "    </div>\n",
              "  </div>\n"
            ],
            "application/vnd.google.colaboratory.intrinsic+json": {
              "type": "dataframe",
              "summary": "{\n  \"name\": \"df\",\n  \"rows\": 4,\n  \"fields\": [\n    {\n      \"column\": \"price\",\n      \"properties\": {\n        \"dtype\": \"number\",\n        \"std\": 5434133.7472727625,\n        \"min\": 1750000.0,\n        \"max\": 13300000.0,\n        \"num_unique_values\": 4,\n        \"samples\": [\n          13300000.0,\n          1870439.615657394,\n          1750000.0\n        ],\n        \"semantic_type\": \"\",\n        \"description\": \"\"\n      }\n    },\n    {\n      \"column\": \"area\",\n      \"properties\": {\n        \"dtype\": \"number\",\n        \"std\": 6782.557915492823,\n        \"min\": 1650.0,\n        \"max\": 16200.0,\n        \"num_unique_values\": 4,\n        \"samples\": [\n          16200.0,\n          2170.141022508803,\n          1650.0\n        ],\n        \"semantic_type\": \"\",\n        \"description\": \"\"\n      }\n    },\n    {\n      \"column\": \"bedrooms\",\n      \"properties\": {\n        \"dtype\": \"number\",\n        \"std\": 2.4287959212557797,\n        \"min\": 0.738063860568575,\n        \"max\": 6.0,\n        \"num_unique_values\": 4,\n        \"samples\": [\n          6.0,\n          0.738063860568575,\n          1.0\n        ],\n        \"semantic_type\": \"\",\n        \"description\": \"\"\n      }\n    },\n    {\n      \"column\": \"bathrooms\",\n      \"properties\": {\n        \"dtype\": \"number\",\n        \"std\": 1.568996037418691,\n        \"min\": 0.502469616053218,\n        \"max\": 4.0,\n        \"num_unique_values\": 4,\n        \"samples\": [\n          4.0,\n          0.502469616053218,\n          1.0\n        ],\n        \"semantic_type\": \"\",\n        \"description\": \"\"\n      }\n    },\n    {\n      \"column\": \"stories\",\n      \"properties\": {\n        \"dtype\": \"number\",\n        \"std\": 1.4484093637313549,\n        \"min\": 0.8674924629255298,\n        \"max\": 4.0,\n        \"num_unique_values\": 4,\n        \"samples\": [\n          4.0,\n          0.8674924629255298,\n          1.0\n        ],\n        \"semantic_type\": \"\",\n        \"description\": \"\"\n      }\n    },\n    {\n      \"column\": \"mainroad\",\n      \"properties\": {\n        \"dtype\": \"number\",\n        \"std\": 0.46218315421548634,\n        \"min\": 0.0,\n        \"max\": 1.0,\n        \"num_unique_values\": 4,\n        \"samples\": [\n          1.0,\n          0.34863468185528623,\n          0.0\n        ],\n        \"semantic_type\": \"\",\n        \"description\": \"\"\n      }\n    },\n    {\n      \"column\": \"guestroom\",\n      \"properties\": {\n        \"dtype\": \"number\",\n        \"std\": 0.43558495111773254,\n        \"min\": 0.0,\n        \"max\": 1.0,\n        \"num_unique_values\": 4,\n        \"samples\": [\n          1.0,\n          0.38284869682775224,\n          0.0\n        ],\n        \"semantic_type\": \"\",\n        \"description\": \"\"\n      }\n    },\n    {\n      \"column\": \"basement\",\n      \"properties\": {\n        \"dtype\": \"number\",\n        \"std\": 0.4145163557249794,\n        \"min\": 0.0,\n        \"max\": 1.0,\n        \"num_unique_values\": 4,\n        \"samples\": [\n          1.0,\n          0.47755193997058787,\n          0.0\n        ],\n        \"semantic_type\": \"\",\n        \"description\": \"\"\n      }\n    },\n    {\n      \"column\": \"hotwaterheating\",\n      \"properties\": {\n        \"dtype\": \"number\",\n        \"std\": 0.4661995852875116,\n        \"min\": 0.0,\n        \"max\": 1.0,\n        \"num_unique_values\": 4,\n        \"samples\": [\n          1.0,\n          0.20939869711891632,\n          0.0\n        ],\n        \"semantic_type\": \"\",\n        \"description\": \"\"\n      }\n    },\n    {\n      \"column\": \"airconditioning\",\n      \"properties\": {\n        \"dtype\": \"number\",\n        \"std\": 0.4176132131357245,\n        \"min\": 0.0,\n        \"max\": 1.0,\n        \"num_unique_values\": 4,\n        \"samples\": [\n          1.0,\n          0.46517989719163083,\n          0.0\n        ],\n        \"semantic_type\": \"\",\n        \"description\": \"\"\n      }\n    },\n    {\n      \"column\": \"parking\",\n      \"properties\": {\n        \"dtype\": \"number\",\n        \"std\": 1.295633855871494,\n        \"min\": 0.0,\n        \"max\": 3.0,\n        \"num_unique_values\": 4,\n        \"samples\": [\n          3.0,\n          0.8615857504605449,\n          0.0\n        ],\n        \"semantic_type\": \"\",\n        \"description\": \"\"\n      }\n    },\n    {\n      \"column\": \"prefarea\",\n      \"properties\": {\n        \"dtype\": \"number\",\n        \"std\": 0.4269995773546605,\n        \"min\": 0.0,\n        \"max\": 1.0,\n        \"num_unique_values\": 4,\n        \"samples\": [\n          1.0,\n          0.424302227102856,\n          0.0\n        ],\n        \"semantic_type\": \"\",\n        \"description\": \"\"\n      }\n    },\n    {\n      \"column\": \"furnishingstatus\",\n      \"properties\": {\n        \"dtype\": \"number\",\n        \"std\": 0.8275813207713097,\n        \"min\": 0.0,\n        \"max\": 2.0,\n        \"num_unique_values\": 4,\n        \"samples\": [\n          2.0,\n          0.7613726703968294,\n          0.0\n        ],\n        \"semantic_type\": \"\",\n        \"description\": \"\"\n      }\n    }\n  ]\n}"
            }
          },
          "metadata": {},
          "execution_count": 408
        }
      ]
    },
    {
      "cell_type": "markdown",
      "source": [
        "It can be seen that the features in our dataset have different scales:\n",
        "\n",
        "*   **area**: from 1,650 to 16,200\n",
        "\n",
        "*   **bedrooms**, **bathrooms**, **stories**: from 1 to 6 or 4\n",
        "\n",
        "*   Binary signs (**mainroad**, **guestroom**, **basement**): here are 0 to 1\n",
        "\n",
        "*   **parking**: from 0 to 3\n",
        "\n",
        "*   **furnishingstatus**: from 0 to 2\n",
        "\n",
        "This is bad because\n",
        "there are some algorithms sensitive to the scale of the data.\n",
        "\n",
        "We will solve this issue by normalizing the features using StandartScaler."
      ],
      "metadata": {
        "id": "xYlAf0JFPFux"
      }
    },
    {
      "cell_type": "code",
      "source": [
        "targets = df['price']\n",
        "features = df.drop(columns='price')  #for convenience, let's divide our data into the target variable and features."
      ],
      "metadata": {
        "id": "cdO7AiGRjb12"
      },
      "execution_count": null,
      "outputs": []
    },
    {
      "cell_type": "code",
      "source": [
        "features_names = features.columns\n",
        "\n",
        "features_scaler = StandardScaler()\n",
        "features_norm = features_scaler.fit_transform(features)\n",
        "features = pd.DataFrame(features_norm,columns=features_names)\n",
        "\n",
        "features.head()"
      ],
      "metadata": {
        "colab": {
          "base_uri": "https://localhost:8080/"
        },
        "id": "uwh-OHrIWghc",
        "outputId": "e3b05b7a-a7d2-4a89-bf54-36e4a8334376"
      },
      "execution_count": null,
      "outputs": [
        {
          "output_type": "execute_result",
          "data": {
            "text/plain": [
              "       area  bedrooms  bathrooms   stories  ...  airconditioning   parking  prefarea  furnishingstatus\n",
              "0  1.046726  1.403419   1.421812  1.378217  ...         1.472618  1.517692  1.804941         -1.406286\n",
              "1  1.757010  1.403419   5.405809  2.532024  ...         1.472618  2.679409 -0.554035         -1.406286\n",
              "2  2.218232  0.047278   1.421812  0.224410  ...        -0.679063  1.517692  1.804941         -0.091662\n",
              "3  1.083624  1.403419   1.421812  0.224410  ...         1.472618  2.679409  1.804941         -1.406286\n",
              "4  1.046726  1.403419  -0.570187  0.224410  ...         1.472618  1.517692 -0.554035         -1.406286\n",
              "\n",
              "[5 rows x 12 columns]"
            ],
            "text/html": [
              "\n",
              "  <div id=\"df-09451d1b-7ebd-424c-b1d9-73997e263e90\" class=\"colab-df-container\">\n",
              "    <div>\n",
              "<style scoped>\n",
              "    .dataframe tbody tr th:only-of-type {\n",
              "        vertical-align: middle;\n",
              "    }\n",
              "\n",
              "    .dataframe tbody tr th {\n",
              "        vertical-align: top;\n",
              "    }\n",
              "\n",
              "    .dataframe thead th {\n",
              "        text-align: right;\n",
              "    }\n",
              "</style>\n",
              "<table border=\"1\" class=\"dataframe\">\n",
              "  <thead>\n",
              "    <tr style=\"text-align: right;\">\n",
              "      <th></th>\n",
              "      <th>area</th>\n",
              "      <th>bedrooms</th>\n",
              "      <th>bathrooms</th>\n",
              "      <th>stories</th>\n",
              "      <th>mainroad</th>\n",
              "      <th>guestroom</th>\n",
              "      <th>basement</th>\n",
              "      <th>hotwaterheating</th>\n",
              "      <th>airconditioning</th>\n",
              "      <th>parking</th>\n",
              "      <th>prefarea</th>\n",
              "      <th>furnishingstatus</th>\n",
              "    </tr>\n",
              "  </thead>\n",
              "  <tbody>\n",
              "    <tr>\n",
              "      <th>0</th>\n",
              "      <td>1.046726</td>\n",
              "      <td>1.403419</td>\n",
              "      <td>1.421812</td>\n",
              "      <td>1.378217</td>\n",
              "      <td>0.405623</td>\n",
              "      <td>-0.465315</td>\n",
              "      <td>-0.734539</td>\n",
              "      <td>-0.219265</td>\n",
              "      <td>1.472618</td>\n",
              "      <td>1.517692</td>\n",
              "      <td>1.804941</td>\n",
              "      <td>-1.406286</td>\n",
              "    </tr>\n",
              "    <tr>\n",
              "      <th>1</th>\n",
              "      <td>1.757010</td>\n",
              "      <td>1.403419</td>\n",
              "      <td>5.405809</td>\n",
              "      <td>2.532024</td>\n",
              "      <td>0.405623</td>\n",
              "      <td>-0.465315</td>\n",
              "      <td>-0.734539</td>\n",
              "      <td>-0.219265</td>\n",
              "      <td>1.472618</td>\n",
              "      <td>2.679409</td>\n",
              "      <td>-0.554035</td>\n",
              "      <td>-1.406286</td>\n",
              "    </tr>\n",
              "    <tr>\n",
              "      <th>2</th>\n",
              "      <td>2.218232</td>\n",
              "      <td>0.047278</td>\n",
              "      <td>1.421812</td>\n",
              "      <td>0.224410</td>\n",
              "      <td>0.405623</td>\n",
              "      <td>-0.465315</td>\n",
              "      <td>1.361397</td>\n",
              "      <td>-0.219265</td>\n",
              "      <td>-0.679063</td>\n",
              "      <td>1.517692</td>\n",
              "      <td>1.804941</td>\n",
              "      <td>-0.091662</td>\n",
              "    </tr>\n",
              "    <tr>\n",
              "      <th>3</th>\n",
              "      <td>1.083624</td>\n",
              "      <td>1.403419</td>\n",
              "      <td>1.421812</td>\n",
              "      <td>0.224410</td>\n",
              "      <td>0.405623</td>\n",
              "      <td>-0.465315</td>\n",
              "      <td>1.361397</td>\n",
              "      <td>-0.219265</td>\n",
              "      <td>1.472618</td>\n",
              "      <td>2.679409</td>\n",
              "      <td>1.804941</td>\n",
              "      <td>-1.406286</td>\n",
              "    </tr>\n",
              "    <tr>\n",
              "      <th>4</th>\n",
              "      <td>1.046726</td>\n",
              "      <td>1.403419</td>\n",
              "      <td>-0.570187</td>\n",
              "      <td>0.224410</td>\n",
              "      <td>0.405623</td>\n",
              "      <td>2.149083</td>\n",
              "      <td>1.361397</td>\n",
              "      <td>-0.219265</td>\n",
              "      <td>1.472618</td>\n",
              "      <td>1.517692</td>\n",
              "      <td>-0.554035</td>\n",
              "      <td>-1.406286</td>\n",
              "    </tr>\n",
              "  </tbody>\n",
              "</table>\n",
              "</div>\n",
              "    <div class=\"colab-df-buttons\">\n",
              "\n",
              "  <div class=\"colab-df-container\">\n",
              "    <button class=\"colab-df-convert\" onclick=\"convertToInteractive('df-09451d1b-7ebd-424c-b1d9-73997e263e90')\"\n",
              "            title=\"Convert this dataframe to an interactive table.\"\n",
              "            style=\"display:none;\">\n",
              "\n",
              "  <svg xmlns=\"http://www.w3.org/2000/svg\" height=\"24px\" viewBox=\"0 -960 960 960\">\n",
              "    <path d=\"M120-120v-720h720v720H120Zm60-500h600v-160H180v160Zm220 220h160v-160H400v160Zm0 220h160v-160H400v160ZM180-400h160v-160H180v160Zm440 0h160v-160H620v160ZM180-180h160v-160H180v160Zm440 0h160v-160H620v160Z\"/>\n",
              "  </svg>\n",
              "    </button>\n",
              "\n",
              "  <style>\n",
              "    .colab-df-container {\n",
              "      display:flex;\n",
              "      gap: 12px;\n",
              "    }\n",
              "\n",
              "    .colab-df-convert {\n",
              "      background-color: #E8F0FE;\n",
              "      border: none;\n",
              "      border-radius: 50%;\n",
              "      cursor: pointer;\n",
              "      display: none;\n",
              "      fill: #1967D2;\n",
              "      height: 32px;\n",
              "      padding: 0 0 0 0;\n",
              "      width: 32px;\n",
              "    }\n",
              "\n",
              "    .colab-df-convert:hover {\n",
              "      background-color: #E2EBFA;\n",
              "      box-shadow: 0px 1px 2px rgba(60, 64, 67, 0.3), 0px 1px 3px 1px rgba(60, 64, 67, 0.15);\n",
              "      fill: #174EA6;\n",
              "    }\n",
              "\n",
              "    .colab-df-buttons div {\n",
              "      margin-bottom: 4px;\n",
              "    }\n",
              "\n",
              "    [theme=dark] .colab-df-convert {\n",
              "      background-color: #3B4455;\n",
              "      fill: #D2E3FC;\n",
              "    }\n",
              "\n",
              "    [theme=dark] .colab-df-convert:hover {\n",
              "      background-color: #434B5C;\n",
              "      box-shadow: 0px 1px 3px 1px rgba(0, 0, 0, 0.15);\n",
              "      filter: drop-shadow(0px 1px 2px rgba(0, 0, 0, 0.3));\n",
              "      fill: #FFFFFF;\n",
              "    }\n",
              "  </style>\n",
              "\n",
              "    <script>\n",
              "      const buttonEl =\n",
              "        document.querySelector('#df-09451d1b-7ebd-424c-b1d9-73997e263e90 button.colab-df-convert');\n",
              "      buttonEl.style.display =\n",
              "        google.colab.kernel.accessAllowed ? 'block' : 'none';\n",
              "\n",
              "      async function convertToInteractive(key) {\n",
              "        const element = document.querySelector('#df-09451d1b-7ebd-424c-b1d9-73997e263e90');\n",
              "        const dataTable =\n",
              "          await google.colab.kernel.invokeFunction('convertToInteractive',\n",
              "                                                    [key], {});\n",
              "        if (!dataTable) return;\n",
              "\n",
              "        const docLinkHtml = 'Like what you see? Visit the ' +\n",
              "          '<a target=\"_blank\" href=https://colab.research.google.com/notebooks/data_table.ipynb>data table notebook</a>'\n",
              "          + ' to learn more about interactive tables.';\n",
              "        element.innerHTML = '';\n",
              "        dataTable['output_type'] = 'display_data';\n",
              "        await google.colab.output.renderOutput(dataTable, element);\n",
              "        const docLink = document.createElement('div');\n",
              "        docLink.innerHTML = docLinkHtml;\n",
              "        element.appendChild(docLink);\n",
              "      }\n",
              "    </script>\n",
              "  </div>\n",
              "\n",
              "\n",
              "<div id=\"df-3ac7109d-5de0-41d9-97ae-1c570034dc51\">\n",
              "  <button class=\"colab-df-quickchart\" onclick=\"quickchart('df-3ac7109d-5de0-41d9-97ae-1c570034dc51')\"\n",
              "            title=\"Suggest charts\"\n",
              "            style=\"display:none;\">\n",
              "\n",
              "<svg xmlns=\"http://www.w3.org/2000/svg\" height=\"24px\"viewBox=\"0 0 24 24\"\n",
              "     width=\"24px\">\n",
              "    <g>\n",
              "        <path d=\"M19 3H5c-1.1 0-2 .9-2 2v14c0 1.1.9 2 2 2h14c1.1 0 2-.9 2-2V5c0-1.1-.9-2-2-2zM9 17H7v-7h2v7zm4 0h-2V7h2v10zm4 0h-2v-4h2v4z\"/>\n",
              "    </g>\n",
              "</svg>\n",
              "  </button>\n",
              "\n",
              "<style>\n",
              "  .colab-df-quickchart {\n",
              "      --bg-color: #E8F0FE;\n",
              "      --fill-color: #1967D2;\n",
              "      --hover-bg-color: #E2EBFA;\n",
              "      --hover-fill-color: #174EA6;\n",
              "      --disabled-fill-color: #AAA;\n",
              "      --disabled-bg-color: #DDD;\n",
              "  }\n",
              "\n",
              "  [theme=dark] .colab-df-quickchart {\n",
              "      --bg-color: #3B4455;\n",
              "      --fill-color: #D2E3FC;\n",
              "      --hover-bg-color: #434B5C;\n",
              "      --hover-fill-color: #FFFFFF;\n",
              "      --disabled-bg-color: #3B4455;\n",
              "      --disabled-fill-color: #666;\n",
              "  }\n",
              "\n",
              "  .colab-df-quickchart {\n",
              "    background-color: var(--bg-color);\n",
              "    border: none;\n",
              "    border-radius: 50%;\n",
              "    cursor: pointer;\n",
              "    display: none;\n",
              "    fill: var(--fill-color);\n",
              "    height: 32px;\n",
              "    padding: 0;\n",
              "    width: 32px;\n",
              "  }\n",
              "\n",
              "  .colab-df-quickchart:hover {\n",
              "    background-color: var(--hover-bg-color);\n",
              "    box-shadow: 0 1px 2px rgba(60, 64, 67, 0.3), 0 1px 3px 1px rgba(60, 64, 67, 0.15);\n",
              "    fill: var(--button-hover-fill-color);\n",
              "  }\n",
              "\n",
              "  .colab-df-quickchart-complete:disabled,\n",
              "  .colab-df-quickchart-complete:disabled:hover {\n",
              "    background-color: var(--disabled-bg-color);\n",
              "    fill: var(--disabled-fill-color);\n",
              "    box-shadow: none;\n",
              "  }\n",
              "\n",
              "  .colab-df-spinner {\n",
              "    border: 2px solid var(--fill-color);\n",
              "    border-color: transparent;\n",
              "    border-bottom-color: var(--fill-color);\n",
              "    animation:\n",
              "      spin 1s steps(1) infinite;\n",
              "  }\n",
              "\n",
              "  @keyframes spin {\n",
              "    0% {\n",
              "      border-color: transparent;\n",
              "      border-bottom-color: var(--fill-color);\n",
              "      border-left-color: var(--fill-color);\n",
              "    }\n",
              "    20% {\n",
              "      border-color: transparent;\n",
              "      border-left-color: var(--fill-color);\n",
              "      border-top-color: var(--fill-color);\n",
              "    }\n",
              "    30% {\n",
              "      border-color: transparent;\n",
              "      border-left-color: var(--fill-color);\n",
              "      border-top-color: var(--fill-color);\n",
              "      border-right-color: var(--fill-color);\n",
              "    }\n",
              "    40% {\n",
              "      border-color: transparent;\n",
              "      border-right-color: var(--fill-color);\n",
              "      border-top-color: var(--fill-color);\n",
              "    }\n",
              "    60% {\n",
              "      border-color: transparent;\n",
              "      border-right-color: var(--fill-color);\n",
              "    }\n",
              "    80% {\n",
              "      border-color: transparent;\n",
              "      border-right-color: var(--fill-color);\n",
              "      border-bottom-color: var(--fill-color);\n",
              "    }\n",
              "    90% {\n",
              "      border-color: transparent;\n",
              "      border-bottom-color: var(--fill-color);\n",
              "    }\n",
              "  }\n",
              "</style>\n",
              "\n",
              "  <script>\n",
              "    async function quickchart(key) {\n",
              "      const quickchartButtonEl =\n",
              "        document.querySelector('#' + key + ' button');\n",
              "      quickchartButtonEl.disabled = true;  // To prevent multiple clicks.\n",
              "      quickchartButtonEl.classList.add('colab-df-spinner');\n",
              "      try {\n",
              "        const charts = await google.colab.kernel.invokeFunction(\n",
              "            'suggestCharts', [key], {});\n",
              "      } catch (error) {\n",
              "        console.error('Error during call to suggestCharts:', error);\n",
              "      }\n",
              "      quickchartButtonEl.classList.remove('colab-df-spinner');\n",
              "      quickchartButtonEl.classList.add('colab-df-quickchart-complete');\n",
              "    }\n",
              "    (() => {\n",
              "      let quickchartButtonEl =\n",
              "        document.querySelector('#df-3ac7109d-5de0-41d9-97ae-1c570034dc51 button');\n",
              "      quickchartButtonEl.style.display =\n",
              "        google.colab.kernel.accessAllowed ? 'block' : 'none';\n",
              "    })();\n",
              "  </script>\n",
              "</div>\n",
              "\n",
              "    </div>\n",
              "  </div>\n"
            ],
            "application/vnd.google.colaboratory.intrinsic+json": {
              "type": "dataframe",
              "variable_name": "features",
              "summary": "{\n  \"name\": \"features\",\n  \"rows\": 545,\n  \"fields\": [\n    {\n      \"column\": \"area\",\n      \"properties\": {\n        \"dtype\": \"number\",\n        \"std\": 1.0009186956462133,\n        \"min\": -1.6145297379755097,\n        \"max\": 5.096263187737839,\n        \"num_unique_values\": 284,\n        \"samples\": [\n          0.39178979651610985,\n          -1.1376252785124443,\n          0.09660715236102098\n        ],\n        \"semantic_type\": \"\",\n        \"description\": \"\"\n      }\n    },\n    {\n      \"column\": \"bedrooms\",\n      \"properties\": {\n        \"dtype\": \"number\",\n        \"std\": 1.000918695646215,\n        \"min\": -2.665003779665438,\n        \"max\": 4.115701448708341,\n        \"num_unique_values\": 6,\n        \"samples\": [\n          1.4034193573588298,\n          0.047278311684073836,\n          -2.665003779665438\n        ],\n        \"semantic_type\": \"\",\n        \"description\": \"\"\n      }\n    },\n    {\n      \"column\": \"bathrooms\",\n      \"properties\": {\n        \"dtype\": \"number\",\n        \"std\": 1.0009186956462097,\n        \"min\": -0.5701867118926005,\n        \"max\": 5.405808633904846,\n        \"num_unique_values\": 4,\n        \"samples\": [\n          5.405808633904846,\n          3.4138101853056977,\n          1.4218117367065486\n        ],\n        \"semantic_type\": \"\",\n        \"description\": \"\"\n      }\n    },\n    {\n      \"column\": \"stories\",\n      \"properties\": {\n        \"dtype\": \"number\",\n        \"std\": 1.0009186956462177,\n        \"min\": -0.9293966635677897,\n        \"max\": 2.53202371213457,\n        \"num_unique_values\": 4,\n        \"samples\": [\n          2.53202371213457,\n          -0.9293966635677897,\n          1.3782169202337835\n        ],\n        \"semantic_type\": \"\",\n        \"description\": \"\"\n      }\n    },\n    {\n      \"column\": \"mainroad\",\n      \"properties\": {\n        \"dtype\": \"number\",\n        \"std\": 1.0009186956462126,\n        \"min\": -2.465344210839955,\n        \"max\": 0.40562287229631716,\n        \"num_unique_values\": 2,\n        \"samples\": [\n          -2.465344210839955,\n          0.40562287229631716\n        ],\n        \"semantic_type\": \"\",\n        \"description\": \"\"\n      }\n    },\n    {\n      \"column\": \"guestroom\",\n      \"properties\": {\n        \"dtype\": \"number\",\n        \"std\": 1.0009186956462093,\n        \"min\": -0.4653147935998351,\n        \"max\": 2.1490827580693415,\n        \"num_unique_values\": 2,\n        \"samples\": [\n          2.1490827580693415,\n          -0.4653147935998351\n        ],\n        \"semantic_type\": \"\",\n        \"description\": \"\"\n      }\n    },\n    {\n      \"column\": \"basement\",\n      \"properties\": {\n        \"dtype\": \"number\",\n        \"std\": 1.0009186956462117,\n        \"min\": -0.7345393267884778,\n        \"max\": 1.3613974957231472,\n        \"num_unique_values\": 2,\n        \"samples\": [\n          1.3613974957231472,\n          -0.7345393267884778\n        ],\n        \"semantic_type\": \"\",\n        \"description\": \"\"\n      }\n    },\n    {\n      \"column\": \"hotwaterheating\",\n      \"properties\": {\n        \"dtype\": \"number\",\n        \"std\": 1.0009186956462082,\n        \"min\": -0.21926450482675733,\n        \"max\": 4.560701700396552,\n        \"num_unique_values\": 2,\n        \"samples\": [\n          4.560701700396552,\n          -0.21926450482675733\n        ],\n        \"semantic_type\": \"\",\n        \"description\": \"\"\n      }\n    },\n    {\n      \"column\": \"airconditioning\",\n      \"properties\": {\n        \"dtype\": \"number\",\n        \"std\": 1.0009186956462122,\n        \"min\": -0.6790625931104808,\n        \"max\": 1.4726182978500542,\n        \"num_unique_values\": 2,\n        \"samples\": [\n          -0.6790625931104808,\n          1.4726182978500542\n        ],\n        \"semantic_type\": \"\",\n        \"description\": \"\"\n      }\n    },\n    {\n      \"column\": \"parking\",\n      \"properties\": {\n        \"dtype\": \"number\",\n        \"std\": 1.0009186956462153,\n        \"min\": -0.8057412374245417,\n        \"max\": 2.679409353022881,\n        \"num_unique_values\": 4,\n        \"samples\": [\n          2.679409353022881,\n          0.35597562605793237\n        ],\n        \"semantic_type\": \"\",\n        \"description\": \"\"\n      }\n    },\n    {\n      \"column\": \"prefarea\",\n      \"properties\": {\n        \"dtype\": \"number\",\n        \"std\": 1.000918695646213,\n        \"min\": -0.554034688851555,\n        \"max\": 1.8049411347742066,\n        \"num_unique_values\": 2,\n        \"samples\": [\n          -0.554034688851555,\n          1.8049411347742066\n        ],\n        \"semantic_type\": \"\",\n        \"description\": \"\"\n      }\n    },\n    {\n      \"column\": \"furnishingstatus\",\n      \"properties\": {\n        \"dtype\": \"number\",\n        \"std\": 1.0009186956462128,\n        \"min\": -1.406285730710011,\n        \"max\": 1.2229620333961848,\n        \"num_unique_values\": 3,\n        \"samples\": [\n          -1.406285730710011,\n          -0.0916618486569131\n        ],\n        \"semantic_type\": \"\",\n        \"description\": \"\"\n      }\n    }\n  ]\n}"
            }
          },
          "metadata": {},
          "execution_count": 410
        }
      ]
    },
    {
      "cell_type": "markdown",
      "source": [
        "### Checking correlations in the data."
      ],
      "metadata": {
        "id": "P1m8KUpTaSvy"
      }
    },
    {
      "cell_type": "code",
      "source": [
        "features.corrwith(targets) #correlation of features with the target variable."
      ],
      "metadata": {
        "colab": {
          "base_uri": "https://localhost:8080/"
        },
        "id": "CQdLld-gY2Kv",
        "outputId": "7fa21002-f380-4fc8-89d4-4ef1e5a21a1a"
      },
      "execution_count": null,
      "outputs": [
        {
          "output_type": "execute_result",
          "data": {
            "text/plain": [
              "area                0.535997\n",
              "bedrooms            0.366494\n",
              "bathrooms           0.517545\n",
              "stories             0.420712\n",
              "mainroad            0.296898\n",
              "guestroom           0.255517\n",
              "basement            0.187057\n",
              "hotwaterheating     0.093073\n",
              "airconditioning     0.452954\n",
              "parking             0.384394\n",
              "prefarea            0.329777\n",
              "furnishingstatus   -0.304721\n",
              "dtype: float64"
            ],
            "text/html": [
              "<div>\n",
              "<style scoped>\n",
              "    .dataframe tbody tr th:only-of-type {\n",
              "        vertical-align: middle;\n",
              "    }\n",
              "\n",
              "    .dataframe tbody tr th {\n",
              "        vertical-align: top;\n",
              "    }\n",
              "\n",
              "    .dataframe thead th {\n",
              "        text-align: right;\n",
              "    }\n",
              "</style>\n",
              "<table border=\"1\" class=\"dataframe\">\n",
              "  <thead>\n",
              "    <tr style=\"text-align: right;\">\n",
              "      <th></th>\n",
              "      <th>0</th>\n",
              "    </tr>\n",
              "  </thead>\n",
              "  <tbody>\n",
              "    <tr>\n",
              "      <th>area</th>\n",
              "      <td>0.535997</td>\n",
              "    </tr>\n",
              "    <tr>\n",
              "      <th>bedrooms</th>\n",
              "      <td>0.366494</td>\n",
              "    </tr>\n",
              "    <tr>\n",
              "      <th>bathrooms</th>\n",
              "      <td>0.517545</td>\n",
              "    </tr>\n",
              "    <tr>\n",
              "      <th>stories</th>\n",
              "      <td>0.420712</td>\n",
              "    </tr>\n",
              "    <tr>\n",
              "      <th>mainroad</th>\n",
              "      <td>0.296898</td>\n",
              "    </tr>\n",
              "    <tr>\n",
              "      <th>guestroom</th>\n",
              "      <td>0.255517</td>\n",
              "    </tr>\n",
              "    <tr>\n",
              "      <th>basement</th>\n",
              "      <td>0.187057</td>\n",
              "    </tr>\n",
              "    <tr>\n",
              "      <th>hotwaterheating</th>\n",
              "      <td>0.093073</td>\n",
              "    </tr>\n",
              "    <tr>\n",
              "      <th>airconditioning</th>\n",
              "      <td>0.452954</td>\n",
              "    </tr>\n",
              "    <tr>\n",
              "      <th>parking</th>\n",
              "      <td>0.384394</td>\n",
              "    </tr>\n",
              "    <tr>\n",
              "      <th>prefarea</th>\n",
              "      <td>0.329777</td>\n",
              "    </tr>\n",
              "    <tr>\n",
              "      <th>furnishingstatus</th>\n",
              "      <td>-0.304721</td>\n",
              "    </tr>\n",
              "  </tbody>\n",
              "</table>\n",
              "</div><br><label><b>dtype:</b> float64</label>"
            ]
          },
          "metadata": {},
          "execution_count": 411
        }
      ]
    },
    {
      "cell_type": "markdown",
      "source": [
        "The higher the correlation between the features and the target variable, the better, as some algorithms for regression problems require this."
      ],
      "metadata": {
        "id": "3AvteXcNau-6"
      }
    },
    {
      "cell_type": "code",
      "source": [
        "features.corr() #correlation between features"
      ],
      "metadata": {
        "colab": {
          "base_uri": "https://localhost:8080/"
        },
        "id": "JmFWatPjez3d",
        "outputId": "b75263bb-6b8d-473e-d081-7d358f060350"
      },
      "execution_count": null,
      "outputs": [
        {
          "output_type": "execute_result",
          "data": {
            "text/plain": [
              "                      area  bedrooms  bathrooms  ...   parking  prefarea  furnishingstatus\n",
              "area              1.000000  0.151858   0.193820  ...  0.352980  0.234779         -0.171445\n",
              "bedrooms          0.151858  1.000000   0.373930  ...  0.139270  0.079023         -0.123244\n",
              "bathrooms         0.193820  0.373930   1.000000  ...  0.177496  0.063472         -0.143559\n",
              "stories           0.083996  0.408564   0.326165  ...  0.045547  0.044425         -0.104672\n",
              "mainroad          0.288874 -0.012033   0.042398  ...  0.204433  0.199876         -0.156726\n",
              "guestroom         0.140297  0.080549   0.126469  ...  0.037466  0.160897         -0.118328\n",
              "basement          0.047417  0.097312   0.102106  ...  0.051497  0.228083         -0.112831\n",
              "hotwaterheating  -0.009229  0.046049   0.067159  ...  0.067864 -0.059411         -0.031628\n",
              "airconditioning   0.222393  0.160603   0.186915  ...  0.159173  0.117382         -0.150477\n",
              "parking           0.352980  0.139270   0.177496  ...  1.000000  0.091627         -0.177539\n",
              "prefarea          0.234779  0.079023   0.063472  ...  0.091627  1.000000         -0.107686\n",
              "furnishingstatus -0.171445 -0.123244  -0.143559  ... -0.177539 -0.107686          1.000000\n",
              "\n",
              "[12 rows x 12 columns]"
            ],
            "text/html": [
              "\n",
              "  <div id=\"df-ed54f447-3874-4e4a-b9f4-546f36c971fb\" class=\"colab-df-container\">\n",
              "    <div>\n",
              "<style scoped>\n",
              "    .dataframe tbody tr th:only-of-type {\n",
              "        vertical-align: middle;\n",
              "    }\n",
              "\n",
              "    .dataframe tbody tr th {\n",
              "        vertical-align: top;\n",
              "    }\n",
              "\n",
              "    .dataframe thead th {\n",
              "        text-align: right;\n",
              "    }\n",
              "</style>\n",
              "<table border=\"1\" class=\"dataframe\">\n",
              "  <thead>\n",
              "    <tr style=\"text-align: right;\">\n",
              "      <th></th>\n",
              "      <th>area</th>\n",
              "      <th>bedrooms</th>\n",
              "      <th>bathrooms</th>\n",
              "      <th>stories</th>\n",
              "      <th>mainroad</th>\n",
              "      <th>guestroom</th>\n",
              "      <th>basement</th>\n",
              "      <th>hotwaterheating</th>\n",
              "      <th>airconditioning</th>\n",
              "      <th>parking</th>\n",
              "      <th>prefarea</th>\n",
              "      <th>furnishingstatus</th>\n",
              "    </tr>\n",
              "  </thead>\n",
              "  <tbody>\n",
              "    <tr>\n",
              "      <th>area</th>\n",
              "      <td>1.000000</td>\n",
              "      <td>0.151858</td>\n",
              "      <td>0.193820</td>\n",
              "      <td>0.083996</td>\n",
              "      <td>0.288874</td>\n",
              "      <td>0.140297</td>\n",
              "      <td>0.047417</td>\n",
              "      <td>-0.009229</td>\n",
              "      <td>0.222393</td>\n",
              "      <td>0.352980</td>\n",
              "      <td>0.234779</td>\n",
              "      <td>-0.171445</td>\n",
              "    </tr>\n",
              "    <tr>\n",
              "      <th>bedrooms</th>\n",
              "      <td>0.151858</td>\n",
              "      <td>1.000000</td>\n",
              "      <td>0.373930</td>\n",
              "      <td>0.408564</td>\n",
              "      <td>-0.012033</td>\n",
              "      <td>0.080549</td>\n",
              "      <td>0.097312</td>\n",
              "      <td>0.046049</td>\n",
              "      <td>0.160603</td>\n",
              "      <td>0.139270</td>\n",
              "      <td>0.079023</td>\n",
              "      <td>-0.123244</td>\n",
              "    </tr>\n",
              "    <tr>\n",
              "      <th>bathrooms</th>\n",
              "      <td>0.193820</td>\n",
              "      <td>0.373930</td>\n",
              "      <td>1.000000</td>\n",
              "      <td>0.326165</td>\n",
              "      <td>0.042398</td>\n",
              "      <td>0.126469</td>\n",
              "      <td>0.102106</td>\n",
              "      <td>0.067159</td>\n",
              "      <td>0.186915</td>\n",
              "      <td>0.177496</td>\n",
              "      <td>0.063472</td>\n",
              "      <td>-0.143559</td>\n",
              "    </tr>\n",
              "    <tr>\n",
              "      <th>stories</th>\n",
              "      <td>0.083996</td>\n",
              "      <td>0.408564</td>\n",
              "      <td>0.326165</td>\n",
              "      <td>1.000000</td>\n",
              "      <td>0.121706</td>\n",
              "      <td>0.043538</td>\n",
              "      <td>-0.172394</td>\n",
              "      <td>0.018847</td>\n",
              "      <td>0.293602</td>\n",
              "      <td>0.045547</td>\n",
              "      <td>0.044425</td>\n",
              "      <td>-0.104672</td>\n",
              "    </tr>\n",
              "    <tr>\n",
              "      <th>mainroad</th>\n",
              "      <td>0.288874</td>\n",
              "      <td>-0.012033</td>\n",
              "      <td>0.042398</td>\n",
              "      <td>0.121706</td>\n",
              "      <td>1.000000</td>\n",
              "      <td>0.092337</td>\n",
              "      <td>0.044002</td>\n",
              "      <td>-0.011781</td>\n",
              "      <td>0.105423</td>\n",
              "      <td>0.204433</td>\n",
              "      <td>0.199876</td>\n",
              "      <td>-0.156726</td>\n",
              "    </tr>\n",
              "    <tr>\n",
              "      <th>guestroom</th>\n",
              "      <td>0.140297</td>\n",
              "      <td>0.080549</td>\n",
              "      <td>0.126469</td>\n",
              "      <td>0.043538</td>\n",
              "      <td>0.092337</td>\n",
              "      <td>1.000000</td>\n",
              "      <td>0.372066</td>\n",
              "      <td>-0.010308</td>\n",
              "      <td>0.138179</td>\n",
              "      <td>0.037466</td>\n",
              "      <td>0.160897</td>\n",
              "      <td>-0.118328</td>\n",
              "    </tr>\n",
              "    <tr>\n",
              "      <th>basement</th>\n",
              "      <td>0.047417</td>\n",
              "      <td>0.097312</td>\n",
              "      <td>0.102106</td>\n",
              "      <td>-0.172394</td>\n",
              "      <td>0.044002</td>\n",
              "      <td>0.372066</td>\n",
              "      <td>1.000000</td>\n",
              "      <td>0.004385</td>\n",
              "      <td>0.047341</td>\n",
              "      <td>0.051497</td>\n",
              "      <td>0.228083</td>\n",
              "      <td>-0.112831</td>\n",
              "    </tr>\n",
              "    <tr>\n",
              "      <th>hotwaterheating</th>\n",
              "      <td>-0.009229</td>\n",
              "      <td>0.046049</td>\n",
              "      <td>0.067159</td>\n",
              "      <td>0.018847</td>\n",
              "      <td>-0.011781</td>\n",
              "      <td>-0.010308</td>\n",
              "      <td>0.004385</td>\n",
              "      <td>1.000000</td>\n",
              "      <td>-0.130023</td>\n",
              "      <td>0.067864</td>\n",
              "      <td>-0.059411</td>\n",
              "      <td>-0.031628</td>\n",
              "    </tr>\n",
              "    <tr>\n",
              "      <th>airconditioning</th>\n",
              "      <td>0.222393</td>\n",
              "      <td>0.160603</td>\n",
              "      <td>0.186915</td>\n",
              "      <td>0.293602</td>\n",
              "      <td>0.105423</td>\n",
              "      <td>0.138179</td>\n",
              "      <td>0.047341</td>\n",
              "      <td>-0.130023</td>\n",
              "      <td>1.000000</td>\n",
              "      <td>0.159173</td>\n",
              "      <td>0.117382</td>\n",
              "      <td>-0.150477</td>\n",
              "    </tr>\n",
              "    <tr>\n",
              "      <th>parking</th>\n",
              "      <td>0.352980</td>\n",
              "      <td>0.139270</td>\n",
              "      <td>0.177496</td>\n",
              "      <td>0.045547</td>\n",
              "      <td>0.204433</td>\n",
              "      <td>0.037466</td>\n",
              "      <td>0.051497</td>\n",
              "      <td>0.067864</td>\n",
              "      <td>0.159173</td>\n",
              "      <td>1.000000</td>\n",
              "      <td>0.091627</td>\n",
              "      <td>-0.177539</td>\n",
              "    </tr>\n",
              "    <tr>\n",
              "      <th>prefarea</th>\n",
              "      <td>0.234779</td>\n",
              "      <td>0.079023</td>\n",
              "      <td>0.063472</td>\n",
              "      <td>0.044425</td>\n",
              "      <td>0.199876</td>\n",
              "      <td>0.160897</td>\n",
              "      <td>0.228083</td>\n",
              "      <td>-0.059411</td>\n",
              "      <td>0.117382</td>\n",
              "      <td>0.091627</td>\n",
              "      <td>1.000000</td>\n",
              "      <td>-0.107686</td>\n",
              "    </tr>\n",
              "    <tr>\n",
              "      <th>furnishingstatus</th>\n",
              "      <td>-0.171445</td>\n",
              "      <td>-0.123244</td>\n",
              "      <td>-0.143559</td>\n",
              "      <td>-0.104672</td>\n",
              "      <td>-0.156726</td>\n",
              "      <td>-0.118328</td>\n",
              "      <td>-0.112831</td>\n",
              "      <td>-0.031628</td>\n",
              "      <td>-0.150477</td>\n",
              "      <td>-0.177539</td>\n",
              "      <td>-0.107686</td>\n",
              "      <td>1.000000</td>\n",
              "    </tr>\n",
              "  </tbody>\n",
              "</table>\n",
              "</div>\n",
              "    <div class=\"colab-df-buttons\">\n",
              "\n",
              "  <div class=\"colab-df-container\">\n",
              "    <button class=\"colab-df-convert\" onclick=\"convertToInteractive('df-ed54f447-3874-4e4a-b9f4-546f36c971fb')\"\n",
              "            title=\"Convert this dataframe to an interactive table.\"\n",
              "            style=\"display:none;\">\n",
              "\n",
              "  <svg xmlns=\"http://www.w3.org/2000/svg\" height=\"24px\" viewBox=\"0 -960 960 960\">\n",
              "    <path d=\"M120-120v-720h720v720H120Zm60-500h600v-160H180v160Zm220 220h160v-160H400v160Zm0 220h160v-160H400v160ZM180-400h160v-160H180v160Zm440 0h160v-160H620v160ZM180-180h160v-160H180v160Zm440 0h160v-160H620v160Z\"/>\n",
              "  </svg>\n",
              "    </button>\n",
              "\n",
              "  <style>\n",
              "    .colab-df-container {\n",
              "      display:flex;\n",
              "      gap: 12px;\n",
              "    }\n",
              "\n",
              "    .colab-df-convert {\n",
              "      background-color: #E8F0FE;\n",
              "      border: none;\n",
              "      border-radius: 50%;\n",
              "      cursor: pointer;\n",
              "      display: none;\n",
              "      fill: #1967D2;\n",
              "      height: 32px;\n",
              "      padding: 0 0 0 0;\n",
              "      width: 32px;\n",
              "    }\n",
              "\n",
              "    .colab-df-convert:hover {\n",
              "      background-color: #E2EBFA;\n",
              "      box-shadow: 0px 1px 2px rgba(60, 64, 67, 0.3), 0px 1px 3px 1px rgba(60, 64, 67, 0.15);\n",
              "      fill: #174EA6;\n",
              "    }\n",
              "\n",
              "    .colab-df-buttons div {\n",
              "      margin-bottom: 4px;\n",
              "    }\n",
              "\n",
              "    [theme=dark] .colab-df-convert {\n",
              "      background-color: #3B4455;\n",
              "      fill: #D2E3FC;\n",
              "    }\n",
              "\n",
              "    [theme=dark] .colab-df-convert:hover {\n",
              "      background-color: #434B5C;\n",
              "      box-shadow: 0px 1px 3px 1px rgba(0, 0, 0, 0.15);\n",
              "      filter: drop-shadow(0px 1px 2px rgba(0, 0, 0, 0.3));\n",
              "      fill: #FFFFFF;\n",
              "    }\n",
              "  </style>\n",
              "\n",
              "    <script>\n",
              "      const buttonEl =\n",
              "        document.querySelector('#df-ed54f447-3874-4e4a-b9f4-546f36c971fb button.colab-df-convert');\n",
              "      buttonEl.style.display =\n",
              "        google.colab.kernel.accessAllowed ? 'block' : 'none';\n",
              "\n",
              "      async function convertToInteractive(key) {\n",
              "        const element = document.querySelector('#df-ed54f447-3874-4e4a-b9f4-546f36c971fb');\n",
              "        const dataTable =\n",
              "          await google.colab.kernel.invokeFunction('convertToInteractive',\n",
              "                                                    [key], {});\n",
              "        if (!dataTable) return;\n",
              "\n",
              "        const docLinkHtml = 'Like what you see? Visit the ' +\n",
              "          '<a target=\"_blank\" href=https://colab.research.google.com/notebooks/data_table.ipynb>data table notebook</a>'\n",
              "          + ' to learn more about interactive tables.';\n",
              "        element.innerHTML = '';\n",
              "        dataTable['output_type'] = 'display_data';\n",
              "        await google.colab.output.renderOutput(dataTable, element);\n",
              "        const docLink = document.createElement('div');\n",
              "        docLink.innerHTML = docLinkHtml;\n",
              "        element.appendChild(docLink);\n",
              "      }\n",
              "    </script>\n",
              "  </div>\n",
              "\n",
              "\n",
              "<div id=\"df-61fa004b-5bef-4300-b5f1-3265944c7104\">\n",
              "  <button class=\"colab-df-quickchart\" onclick=\"quickchart('df-61fa004b-5bef-4300-b5f1-3265944c7104')\"\n",
              "            title=\"Suggest charts\"\n",
              "            style=\"display:none;\">\n",
              "\n",
              "<svg xmlns=\"http://www.w3.org/2000/svg\" height=\"24px\"viewBox=\"0 0 24 24\"\n",
              "     width=\"24px\">\n",
              "    <g>\n",
              "        <path d=\"M19 3H5c-1.1 0-2 .9-2 2v14c0 1.1.9 2 2 2h14c1.1 0 2-.9 2-2V5c0-1.1-.9-2-2-2zM9 17H7v-7h2v7zm4 0h-2V7h2v10zm4 0h-2v-4h2v4z\"/>\n",
              "    </g>\n",
              "</svg>\n",
              "  </button>\n",
              "\n",
              "<style>\n",
              "  .colab-df-quickchart {\n",
              "      --bg-color: #E8F0FE;\n",
              "      --fill-color: #1967D2;\n",
              "      --hover-bg-color: #E2EBFA;\n",
              "      --hover-fill-color: #174EA6;\n",
              "      --disabled-fill-color: #AAA;\n",
              "      --disabled-bg-color: #DDD;\n",
              "  }\n",
              "\n",
              "  [theme=dark] .colab-df-quickchart {\n",
              "      --bg-color: #3B4455;\n",
              "      --fill-color: #D2E3FC;\n",
              "      --hover-bg-color: #434B5C;\n",
              "      --hover-fill-color: #FFFFFF;\n",
              "      --disabled-bg-color: #3B4455;\n",
              "      --disabled-fill-color: #666;\n",
              "  }\n",
              "\n",
              "  .colab-df-quickchart {\n",
              "    background-color: var(--bg-color);\n",
              "    border: none;\n",
              "    border-radius: 50%;\n",
              "    cursor: pointer;\n",
              "    display: none;\n",
              "    fill: var(--fill-color);\n",
              "    height: 32px;\n",
              "    padding: 0;\n",
              "    width: 32px;\n",
              "  }\n",
              "\n",
              "  .colab-df-quickchart:hover {\n",
              "    background-color: var(--hover-bg-color);\n",
              "    box-shadow: 0 1px 2px rgba(60, 64, 67, 0.3), 0 1px 3px 1px rgba(60, 64, 67, 0.15);\n",
              "    fill: var(--button-hover-fill-color);\n",
              "  }\n",
              "\n",
              "  .colab-df-quickchart-complete:disabled,\n",
              "  .colab-df-quickchart-complete:disabled:hover {\n",
              "    background-color: var(--disabled-bg-color);\n",
              "    fill: var(--disabled-fill-color);\n",
              "    box-shadow: none;\n",
              "  }\n",
              "\n",
              "  .colab-df-spinner {\n",
              "    border: 2px solid var(--fill-color);\n",
              "    border-color: transparent;\n",
              "    border-bottom-color: var(--fill-color);\n",
              "    animation:\n",
              "      spin 1s steps(1) infinite;\n",
              "  }\n",
              "\n",
              "  @keyframes spin {\n",
              "    0% {\n",
              "      border-color: transparent;\n",
              "      border-bottom-color: var(--fill-color);\n",
              "      border-left-color: var(--fill-color);\n",
              "    }\n",
              "    20% {\n",
              "      border-color: transparent;\n",
              "      border-left-color: var(--fill-color);\n",
              "      border-top-color: var(--fill-color);\n",
              "    }\n",
              "    30% {\n",
              "      border-color: transparent;\n",
              "      border-left-color: var(--fill-color);\n",
              "      border-top-color: var(--fill-color);\n",
              "      border-right-color: var(--fill-color);\n",
              "    }\n",
              "    40% {\n",
              "      border-color: transparent;\n",
              "      border-right-color: var(--fill-color);\n",
              "      border-top-color: var(--fill-color);\n",
              "    }\n",
              "    60% {\n",
              "      border-color: transparent;\n",
              "      border-right-color: var(--fill-color);\n",
              "    }\n",
              "    80% {\n",
              "      border-color: transparent;\n",
              "      border-right-color: var(--fill-color);\n",
              "      border-bottom-color: var(--fill-color);\n",
              "    }\n",
              "    90% {\n",
              "      border-color: transparent;\n",
              "      border-bottom-color: var(--fill-color);\n",
              "    }\n",
              "  }\n",
              "</style>\n",
              "\n",
              "  <script>\n",
              "    async function quickchart(key) {\n",
              "      const quickchartButtonEl =\n",
              "        document.querySelector('#' + key + ' button');\n",
              "      quickchartButtonEl.disabled = true;  // To prevent multiple clicks.\n",
              "      quickchartButtonEl.classList.add('colab-df-spinner');\n",
              "      try {\n",
              "        const charts = await google.colab.kernel.invokeFunction(\n",
              "            'suggestCharts', [key], {});\n",
              "      } catch (error) {\n",
              "        console.error('Error during call to suggestCharts:', error);\n",
              "      }\n",
              "      quickchartButtonEl.classList.remove('colab-df-spinner');\n",
              "      quickchartButtonEl.classList.add('colab-df-quickchart-complete');\n",
              "    }\n",
              "    (() => {\n",
              "      let quickchartButtonEl =\n",
              "        document.querySelector('#df-61fa004b-5bef-4300-b5f1-3265944c7104 button');\n",
              "      quickchartButtonEl.style.display =\n",
              "        google.colab.kernel.accessAllowed ? 'block' : 'none';\n",
              "    })();\n",
              "  </script>\n",
              "</div>\n",
              "\n",
              "    </div>\n",
              "  </div>\n"
            ],
            "application/vnd.google.colaboratory.intrinsic+json": {
              "type": "dataframe",
              "summary": "{\n  \"name\": \"features\",\n  \"rows\": 12,\n  \"fields\": [\n    {\n      \"column\": \"area\",\n      \"properties\": {\n        \"dtype\": \"number\",\n        \"std\": 0.28538403758733394,\n        \"min\": -0.17144536095782623,\n        \"max\": 1.0,\n        \"num_unique_values\": 12,\n        \"samples\": [\n          0.23477879839351135,\n          0.3529804812116821,\n          1.0\n        ],\n        \"semantic_type\": \"\",\n        \"description\": \"\"\n      }\n    },\n    {\n      \"column\": \"bedrooms\",\n      \"properties\": {\n        \"dtype\": \"number\",\n        \"std\": 0.2913764858209369,\n        \"min\": -0.12324399876430825,\n        \"max\": 1.0,\n        \"num_unique_values\": 12,\n        \"samples\": [\n          0.07902306408232171,\n          0.13926989686561245,\n          0.15185848557453643\n        ],\n        \"semantic_type\": \"\",\n        \"description\": \"\"\n      }\n    },\n    {\n      \"column\": \"bathrooms\",\n      \"properties\": {\n        \"dtype\": \"number\",\n        \"std\": 0.28282745622655536,\n        \"min\": -0.1435594982518332,\n        \"max\": 1.0,\n        \"num_unique_values\": 12,\n        \"samples\": [\n          0.06347174021699538,\n          0.17749582102283423,\n          0.19381953105205274\n        ],\n        \"semantic_type\": \"\",\n        \"description\": \"\"\n      }\n    },\n    {\n      \"column\": \"stories\",\n      \"properties\": {\n        \"dtype\": \"number\",\n        \"std\": 0.31007070783329166,\n        \"min\": -0.17239361748659704,\n        \"max\": 1.0,\n        \"num_unique_values\": 12,\n        \"samples\": [\n          0.04442487225791419,\n          0.0455470919168465,\n          0.08399605092891971\n        ],\n        \"semantic_type\": \"\",\n        \"description\": \"\"\n      }\n    },\n    {\n      \"column\": \"mainroad\",\n      \"properties\": {\n        \"dtype\": \"number\",\n        \"std\": 0.289435417294303,\n        \"min\": -0.15672586313241532,\n        \"max\": 1.0,\n        \"num_unique_values\": 12,\n        \"samples\": [\n          0.19987577692800712,\n          0.20443254752943812,\n          0.2888741141250677\n        ],\n        \"semantic_type\": \"\",\n        \"description\": \"\"\n      }\n    },\n    {\n      \"column\": \"guestroom\",\n      \"properties\": {\n        \"dtype\": \"number\",\n        \"std\": 0.28552876245306563,\n        \"min\": -0.11832756557090927,\n        \"max\": 1.0,\n        \"num_unique_values\": 12,\n        \"samples\": [\n          0.16089693624045312,\n          0.0374657458037159,\n          0.14029659048177012\n        ],\n        \"semantic_type\": \"\",\n        \"description\": \"\"\n      }\n    },\n    {\n      \"column\": \"basement\",\n      \"properties\": {\n        \"dtype\": \"number\",\n        \"std\": 0.30428926476428175,\n        \"min\": -0.17239361748659704,\n        \"max\": 1.0,\n        \"num_unique_values\": 12,\n        \"samples\": [\n          0.22808285272642245,\n          0.05149717539519693,\n          0.04741698856494315\n        ],\n        \"semantic_type\": \"\",\n        \"description\": \"\"\n      }\n    },\n    {\n      \"column\": \"hotwaterheating\",\n      \"properties\": {\n        \"dtype\": \"number\",\n        \"std\": 0.29509074244681976,\n        \"min\": -0.13002283342067722,\n        \"max\": 1.0,\n        \"num_unique_values\": 12,\n        \"samples\": [\n          -0.05941138180401141,\n          0.06786388846517238,\n          -0.009229236053235293\n        ],\n        \"semantic_type\": \"\",\n        \"description\": \"\"\n      }\n    },\n    {\n      \"column\": \"airconditioning\",\n      \"properties\": {\n        \"dtype\": \"number\",\n        \"std\": 0.28953134782774337,\n        \"min\": -0.15047728577374656,\n        \"max\": 1.0,\n        \"num_unique_values\": 12,\n        \"samples\": [\n          0.11738209724461171,\n          0.15917268297096526,\n          0.22239310353898062\n        ],\n        \"semantic_type\": \"\",\n        \"description\": \"\"\n      }\n    },\n    {\n      \"column\": \"parking\",\n      \"properties\": {\n        \"dtype\": \"number\",\n        \"std\": 0.2873284867251151,\n        \"min\": -0.17753860680724332,\n        \"max\": 1.0,\n        \"num_unique_values\": 12,\n        \"samples\": [\n          0.09162706193381093,\n          1.0,\n          0.3529804812116821\n        ],\n        \"semantic_type\": \"\",\n        \"description\": \"\"\n      }\n    },\n    {\n      \"column\": \"prefarea\",\n      \"properties\": {\n        \"dtype\": \"number\",\n        \"std\": 0.28146961989825364,\n        \"min\": -0.10768597141348135,\n        \"max\": 1.0,\n        \"num_unique_values\": 12,\n        \"samples\": [\n          1.0,\n          0.09162706193381093,\n          0.23477879839351135\n        ],\n        \"semantic_type\": \"\",\n        \"description\": \"\"\n      }\n    },\n    {\n      \"column\": \"furnishingstatus\",\n      \"properties\": {\n        \"dtype\": \"number\",\n        \"std\": 0.3276630849285308,\n        \"min\": -0.17753860680724332,\n        \"max\": 1.0,\n        \"num_unique_values\": 12,\n        \"samples\": [\n          -0.10768597141348135,\n          -0.17753860680724332,\n          -0.17144536095782623\n        ],\n        \"semantic_type\": \"\",\n        \"description\": \"\"\n      }\n    }\n  ]\n}"
            }
          },
          "metadata": {},
          "execution_count": 412
        }
      ]
    },
    {
      "cell_type": "markdown",
      "source": [
        "And in the case of correlation between features, on the contrary, it is better when the correlation is small, because large correlation values ​​between features can lead to multicollinearity, which increases the risk of overtraining.\n",
        "\n",
        "In our dataset, there is no high correlation between traits."
      ],
      "metadata": {
        "id": "PIDrGOFSe-Qr"
      }
    },
    {
      "cell_type": "markdown",
      "source": [
        "### Data visualization."
      ],
      "metadata": {
        "id": "5IH_Sdd_h67w"
      }
    },
    {
      "cell_type": "markdown",
      "source": [
        "Plot the graph of the dependence between the area and the target variable (price), and we will evaluate the dependence."
      ],
      "metadata": {
        "id": "ITYpYoaliJGH"
      }
    },
    {
      "cell_type": "code",
      "source": [
        "sns.regplot(df,x='area',y='price')"
      ],
      "metadata": {
        "colab": {
          "base_uri": "https://localhost:8080/"
        },
        "id": "1lEUjhAEiPCD",
        "outputId": "121282d7-da4a-4415-b15a-f63914d2adff"
      },
      "execution_count": null,
      "outputs": [
        {
          "output_type": "execute_result",
          "data": {
            "text/plain": [
              "<Axes: xlabel='area', ylabel='price'>"
            ]
          },
          "metadata": {},
          "execution_count": 413
        },
        {
          "output_type": "display_data",
          "data": {
            "text/plain": [
              "<Figure size 640x480 with 1 Axes>"
            ],
            "image/png": "[encoded data removed]"
          },
          "metadata": {}
        }
      ]
    },
    {
      "cell_type": "markdown",
      "source": [
        "The graph shows a growing regression line, which indicates a positive linear relationship between the area and the target price."
      ],
      "metadata": {
        "id": "nAVntoG5orE_"
      }
    },
    {
      "cell_type": "markdown",
      "source": [
        "Let's look at the price distributions using a histogram."
      ],
      "metadata": {
        "id": "Xu8Ox0ZbMzDW"
      }
    },
    {
      "cell_type": "code",
      "source": [
        "sns.histplot(targets,bins=30)"
      ],
      "metadata": {
        "colab": {
          "base_uri": "https://localhost:8080/"
        },
        "id": "aIclhT6zM90I",
        "outputId": "0d1ffac9-e303-4474-ed26-a880f4be24d9"
      },
      "execution_count": null,
      "outputs": [
        {
          "output_type": "execute_result",
          "data": {
            "text/plain": [
              "<Axes: xlabel='price', ylabel='Count'>"
            ]
          },
          "metadata": {},
          "execution_count": 414
        },
        {
          "output_type": "display_data",
          "data": {
            "text/plain": [
              "<Figure size 640x480 with 1 Axes>"
            ],
            "image/png": "[encoded data removed]"
          },
          "metadata": {}
        }
      ]
    },
    {
      "cell_type": "markdown",
      "source": [
        "As you can see, there are outliers, that is, a small number of prices for houses that differ significantly from the main mass of prices.\n",
        "\n",
        "This can go wrong with algorithms sensitive to these outliers such as LinearRegressor, because the model will adjust for the outliers and have a not very good overall score on all the data."
      ],
      "metadata": {
        "id": "iByi7hwmNlNW"
      }
    },
    {
      "cell_type": "markdown",
      "source": [
        "But to make sure of the presence of these anomalies, we will build another graph (BoxenPlot)."
      ],
      "metadata": {
        "id": "rFFQkyI_QGoS"
      }
    },
    {
      "cell_type": "code",
      "source": [
        "sns.boxenplot(targets)"
      ],
      "metadata": {
        "colab": {
          "base_uri": "https://localhost:8080/"
        },
        "id": "9tNo7W51QWak",
        "outputId": "b67de6e5-d1d0-4952-9dcf-7824b62e2c8e"
      },
      "execution_count": null,
      "outputs": [
        {
          "output_type": "execute_result",
          "data": {
            "text/plain": [
              "<Axes: ylabel='price'>"
            ]
          },
          "metadata": {},
          "execution_count": 415
        },
        {
          "output_type": "display_data",
          "data": {
            "text/plain": [
              "<Figure size 640x480 with 1 Axes>"
            ],
            "image/png": "[encoded data removed]"
          },
          "metadata": {}
        }
      ]
    },
    {
      "cell_type": "markdown",
      "source": [
        "Dots on the graph are outliers."
      ],
      "metadata": {
        "id": "Rr_l7-o5REaV"
      }
    },
    {
      "cell_type": "markdown",
      "source": [
        "### Data separation."
      ],
      "metadata": {
        "id": "adsIyVubhTIm"
      }
    },
    {
      "cell_type": "markdown",
      "source": [
        "In order to properly assess the quality of our models, we will divide the data into training and test data."
      ],
      "metadata": {
        "id": "HGa1xLO8hoIf"
      }
    },
    {
      "cell_type": "code",
      "source": [
        "x_train, x_test, y_train, y_test = train_test_split(features,targets,test_size=0.25,random_state=42)"
      ],
      "metadata": {
        "id": "Mu9lY4UCh2LE"
      },
      "execution_count": null,
      "outputs": []
    },
    {
      "cell_type": "markdown",
      "source": [
        "## Construction of models."
      ],
      "metadata": {
        "id": "UNJbBwG3ppyh"
      }
    },
    {
      "cell_type": "markdown",
      "source": [
        "### LinearRegression"
      ],
      "metadata": {
        "id": "C9rhocVuqo-0"
      }
    },
    {
      "cell_type": "code",
      "source": [
        "line_reg = LinearRegression(n_jobs=-1)"
      ],
      "metadata": {
        "id": "hMoYxOxBvC-7"
      },
      "execution_count": null,
      "outputs": []
    },
    {
      "cell_type": "markdown",
      "source": [
        "To evaluate the models, I will perform a cross-validation to detect overtraining if any, and a control test on the test data."
      ],
      "metadata": {
        "id": "aIwzPEJczGBU"
      }
    },
    {
      "cell_type": "markdown",
      "source": [
        "**CV test.**"
      ],
      "metadata": {
        "id": "mLLPE9qoHju8"
      }
    },
    {
      "cell_type": "code",
      "source": [
        "cv = ShuffleSplit(n_splits=10,test_size=0.25,random_state=3)\n",
        "scores = cross_validate(line_reg,features,targets,scoring=['neg_root_mean_squared_error','neg_mean_absolute_error','r2'],cv=cv,n_jobs=-1,return_train_score=True)\n",
        "scores_line_reg = {'RMSE': -scores[\"test_neg_root_mean_squared_error\"].mean(),\n",
        "                   'MAE': -scores[\"test_neg_mean_absolute_error\"].mean(),\n",
        "                   'R2': scores[\"test_r2\"].mean()}\n",
        "\n",
        "print('CV test:')\n",
        "for metric,value in scores_line_reg.items():\n",
        "    print(f'{metric}: {value:.4f}')"
      ],
      "metadata": {
        "colab": {
          "base_uri": "https://localhost:8080/"
        },
        "id": "Bswa5wPls2ZO",
        "outputId": "6409197a-c557-4db4-df4d-be1e53a4e0c2"
      },
      "execution_count": null,
      "outputs": [
        {
          "output_type": "stream",
          "name": "stdout",
          "text": [
            "CV test:\n",
            "RMSE: 1095661.2519\n",
            "MAE: 817581.9344\n",
            "R2: 0.6351\n"
          ]
        }
      ]
    },
    {
      "cell_type": "markdown",
      "source": [
        "Let's check what estimates are on the training data."
      ],
      "metadata": {
        "id": "xeZ0tFbPSn3f"
      }
    },
    {
      "cell_type": "code",
      "source": [
        "print(f'CV test on training data:\\nRMSE: {-scores[\"train_neg_root_mean_squared_error\"].mean():.4f}\\n'\n",
        "      f'MAE: {-scores[\"train_neg_mean_absolute_error\"].mean():.4f}\\n'\n",
        "      f'R2: {scores[\"train_r2\"].mean():.4f}')"
      ],
      "metadata": {
        "colab": {
          "base_uri": "https://localhost:8080/"
        },
        "id": "ILgH_MoxSrhR",
        "outputId": "fc57565c-afd5-435f-ff68-78a08470a4e6"
      },
      "execution_count": null,
      "outputs": [
        {
          "output_type": "stream",
          "name": "stdout",
          "text": [
            "CV test on training data:\n",
            "RMSE: 1048977.3419\n",
            "MAE: 767378.5140\n",
            "R2: 0.6894\n"
          ]
        }
      ]
    },
    {
      "cell_type": "markdown",
      "source": [
        "**Control test.**"
      ],
      "metadata": {
        "id": "F7NXnR_OAUb7"
      }
    },
    {
      "cell_type": "code",
      "source": [
        "line_reg.fit(x_train,y_train)\n",
        "y_pred = line_reg.predict(x_test)\n",
        "\n",
        "print(f'Control test:\\nRMSE: {root_mean_squared_error(y_test,y_pred):.4f}\\n'\n",
        "      f'MAE: {mean_absolute_error(y_test,y_pred):.4f}\\n'\n",
        "      f'R2: {r2_score(y_test,y_pred):.4f}')"
      ],
      "metadata": {
        "colab": {
          "base_uri": "https://localhost:8080/"
        },
        "id": "sUnpAtbXwVdx",
        "outputId": "4b21f98f-dcee-461b-e9ea-9cbe78a5d0c1"
      },
      "execution_count": null,
      "outputs": [
        {
          "output_type": "stream",
          "name": "stdout",
          "text": [
            "Control test:\n",
            "RMSE: 1249024.7582\n",
            "MAE: 919520.6452\n",
            "R2: 0.6615\n"
          ]
        }
      ]
    },
    {
      "cell_type": "markdown",
      "source": [
        "It can be seen that the cross-validation estimates on the training data are slightly better than on the test data, this indicates retraining, but not critical."
      ],
      "metadata": {
        "id": "_gyww1NG3vWF"
      }
    },
    {
      "cell_type": "markdown",
      "source": [
        "**Model coef.**"
      ],
      "metadata": {
        "id": "XONDiYg4ISlh"
      }
    },
    {
      "cell_type": "code",
      "source": [
        "print(f'Coef LinearRegressor: {line_reg.coef_}')"
      ],
      "metadata": {
        "colab": {
          "base_uri": "https://localhost:8080/"
        },
        "id": "l4wcVKmFR_lb",
        "outputId": "e5aea1d7-3ba5-47d0-c99e-a93ad99668f5"
      },
      "execution_count": null,
      "outputs": [
        {
          "output_type": "stream",
          "name": "stdout",
          "text": [
            "Coef LinearRegressor: [ 520022.98285557   53248.68254328  565055.44825915  334449.73180286\n",
            "  129517.26169348  104074.71330067  191559.48867826  144811.93337608\n",
            "  356313.72677031  223365.30844427  266144.47805509 -157510.27894053]\n"
          ]
        }
      ]
    },
    {
      "cell_type": "markdown",
      "source": [
        "**Visualization of the model work.**"
      ],
      "metadata": {
        "id": "ah2uTBVgCexU"
      }
    },
    {
      "cell_type": "code",
      "source": [
        "plt.figure(figsize=(12,6))\n",
        "\n",
        "plt.scatter(x=y_test,y=y_pred,alpha=0.6)\n",
        "plt.plot([y_test.min(), y_test.max()], [y_test.min(), y_test.max()], color='red', linestyle='--')"
      ],
      "metadata": {
        "colab": {
          "base_uri": "https://localhost:8080/"
        },
        "id": "VO-7I6SKB5ZH",
        "outputId": "329d1716-474e-49a9-8546-56aff3e240dc"
      },
      "execution_count": null,
      "outputs": [
        {
          "output_type": "execute_result",
          "data": {
            "text/plain": [
              "[<matplotlib.lines.Line2D at 0x7f04a1de03d0>]"
            ]
          },
          "metadata": {},
          "execution_count": 545
        },
        {
          "output_type": "display_data",
          "data": {
            "text/plain": [
              "<Figure size 1200x600 with 1 Axes>"
            ],
            "image/png": "[encoded data removed]"
          },
          "metadata": {}
        }
      ]
    },
    {
      "cell_type": "markdown",
      "source": [
        "### Linear regression from zero."
      ],
      "metadata": {
        "id": "A9FRkSmNi5F-"
      }
    },
    {
      "cell_type": "markdown",
      "source": [
        "\n",
        "For most understanding of the algorithm, I will build a linear regression from scratch."
      ],
      "metadata": {
        "id": "H0o2ZMHnztB4"
      }
    },
    {
      "cell_type": "code",
      "execution_count": null,
      "metadata": {
        "id": "7hMSCoV15uFC"
      },
      "outputs": [],
      "source": [
        "def predict(X,w):\n",
        "    return X @ w\n",
        "\n",
        "\n",
        "def gradient_step(X,y,w,alpha):\n",
        "    m = len(y)\n",
        "    prediction = predict(X,w)\n",
        "    gradient =  X.T @ (prediction - y) / m\n",
        "    new_w = w - alpha * gradient\n",
        "    return new_w"
      ]
    },
    {
      "cell_type": "markdown",
      "source": [
        "The first coefficient of the linear model is the intercept, so we added a new feature filled with 1 for the intercept to our features."
      ],
      "metadata": {
        "id": "Q7bZEWpZ4d_M"
      }
    },
    {
      "cell_type": "code",
      "source": [
        "i_features = features.copy()\n",
        "i_features.insert(0,column='intercept',value=np.ones(i_features.shape[0]))\n",
        "i_features = i_features.to_numpy()\n",
        "i_targets = targets.to_numpy()\n",
        "\n",
        "i_x_train = x_train.copy()\n",
        "i_x_train.insert(0,column='intercept',value=np.ones(i_x_train.shape[0]))\n",
        "i_x_train = i_x_train.to_numpy()\n",
        "i_y_train = y_train.to_numpy()\n",
        "\n",
        "i_x_test = x_test.copy()\n",
        "i_x_test.insert(0,column='intercept',value=np.ones(i_x_test.shape[0]))\n",
        "i_x_test = i_x_test.to_numpy()\n",
        "i_y_test = y_test.to_numpy()"
      ],
      "metadata": {
        "id": "ei4Y4MO84cm2"
      },
      "execution_count": null,
      "outputs": []
    },
    {
      "cell_type": "markdown",
      "source": [
        "**Selection of hyperparameters using optuna.**\n"
      ],
      "metadata": {
        "id": "FftL8uexrCIF"
      }
    },
    {
      "cell_type": "code",
      "source": [
        "def objective(trial):\n",
        "    n_iters = trial.suggest_int('n_iters',10,1000)\n",
        "    alpha = trial.suggest_float('alpha',0.00001,1)\n",
        "\n",
        "    cv = ShuffleSplit(n_splits=10,test_size=0.25,random_state=5)\n",
        "\n",
        "    rmse_list = []\n",
        "\n",
        "    for i_train, i_test in cv.split(i_features):\n",
        "        x_train = i_features[i_train]\n",
        "        y_train = i_targets[i_train]\n",
        "\n",
        "        x_test = i_features[i_test]\n",
        "        y_test = i_targets[i_test]\n",
        "\n",
        "        w = np.random.rand(x_train.shape[1])\n",
        "        for _ in range(n_iters):\n",
        "            w = gradient_step(x_train,y_train,w,alpha)\n",
        "\n",
        "        y_pred = predict(x_test,w)\n",
        "        rmse_list.append(root_mean_squared_error(y_test,y_pred))\n",
        "    return np.mean(rmse_list)\n",
        "\n",
        "study = optuna.create_study(direction='minimize',pruner=optuna.pruners.HyperbandPruner())\n",
        "study.optimize(objective,n_trials=100,n_jobs=-1,show_progress_bar=True)"
      ],
      "metadata": {
        "id": "x8o7Q2y4qr-a"
      },
      "execution_count": null,
      "outputs": []
    },
    {
      "cell_type": "code",
      "source": [
        "print(f'Best params: {study.best_params}\\nBest value: {study.best_value}')"
      ],
      "metadata": {
        "colab": {
          "base_uri": "https://localhost:8080/"
        },
        "id": "owvHrRzUFbO1",
        "outputId": "30ca4abd-c9e6-4634-8784-9bebd0027f2e"
      },
      "execution_count": null,
      "outputs": [
        {
          "output_type": "stream",
          "name": "stdout",
          "text": [
            "Best params: {'n_iters': 471, 'alpha': 0.015431322501967742}\n",
            "Best value: 1132574.302351724\n"
          ]
        }
      ]
    },
    {
      "cell_type": "code",
      "source": [
        "n_iters = 471\n",
        "alpha = 0.015431322501967742"
      ],
      "metadata": {
        "id": "tNvMNFlGnycl"
      },
      "execution_count": null,
      "outputs": []
    },
    {
      "cell_type": "markdown",
      "source": [
        "**CV test.**"
      ],
      "metadata": {
        "id": "e9hmAlNXHuwd"
      }
    },
    {
      "cell_type": "code",
      "source": [
        "cv = ShuffleSplit(n_splits=10,test_size=0.25,random_state=54)\n",
        "\n",
        "rmse_test_list = []\n",
        "mae_test_list = []\n",
        "r2_test_list = []\n",
        "\n",
        "rmse_train_list = []\n",
        "mae_train_list = []\n",
        "r2_train_list = []\n",
        "\n",
        "for i_train, i_test in cv.split(i_features):\n",
        "    features_train = i_features[i_train]\n",
        "    targets_train = i_targets[i_train]\n",
        "\n",
        "    features_test = i_features[i_test]\n",
        "    targets_test = i_targets[i_test]\n",
        "\n",
        "    w = np.random.rand(features_train.shape[1])\n",
        "    for _ in range(n_iters):\n",
        "        w = gradient_step(features_train,targets_train,w,alpha)\n",
        "\n",
        "    y_test_pred = predict(features_test,w)\n",
        "\n",
        "    rmse_test_list.append(root_mean_squared_error(targets_test,y_test_pred))\n",
        "    mae_test_list.append(mean_absolute_error(targets_test,y_test_pred))\n",
        "    r2_test_list.append(r2_score(targets_test,y_test_pred))\n",
        "\n",
        "    y_train_pred = predict(features_train,w)\n",
        "\n",
        "    rmse_train_list.append(root_mean_squared_error(targets_train,y_train_pred))\n",
        "    mae_train_list.append(mean_absolute_error(targets_train,y_train_pred))\n",
        "    r2_train_list.append(r2_score(targets_train,y_train_pred))\n",
        "\n",
        "scores_line_reg_zero = {'RMSE': np.mean(rmse_test_list),\n",
        "                        'MAE': np.mean(mae_test_list),\n",
        "                        'R2': np.mean(r2_test_list)}\n",
        "\n",
        "print('CV test:')\n",
        "for metric,value in scores_line_reg_zero.items():\n",
        "    print(f'{metric}: {value:.4f}')"
      ],
      "metadata": {
        "colab": {
          "base_uri": "https://localhost:8080/"
        },
        "id": "B8GmNj_liGNS",
        "outputId": "256637d1-715e-4326-978c-ff7a9b51dca1"
      },
      "execution_count": null,
      "outputs": [
        {
          "output_type": "stream",
          "name": "stdout",
          "text": [
            "CV test:\n",
            "RMSE: 1114398.0484\n",
            "MAE: 823742.0093\n",
            "R2: 0.6550\n"
          ]
        }
      ]
    },
    {
      "cell_type": "code",
      "source": [
        "print(f'CV test on training data:\\nRMSE: {np.mean(rmse_train_list):.4f}\\n'\n",
        "      f'MAE: {np.mean(mae_train_list):.4f}\\n'\n",
        "      f'R2: {np.mean(r2_train_list):.4f}')"
      ],
      "metadata": {
        "colab": {
          "base_uri": "https://localhost:8080/"
        },
        "id": "6mh5G4A-71qd",
        "outputId": "be896c97-e434-45cc-ee8e-0eec0a013902"
      },
      "execution_count": null,
      "outputs": [
        {
          "output_type": "stream",
          "name": "stdout",
          "text": [
            "CV test on training data:\n",
            "RMSE: 1041675.3447\n",
            "MAE: 763236.1098\n",
            "R2: 0.6836\n"
          ]
        }
      ]
    },
    {
      "cell_type": "markdown",
      "source": [
        "**Training and control test.**"
      ],
      "metadata": {
        "id": "OoVF2p2-H1ql"
      }
    },
    {
      "cell_type": "code",
      "source": [
        "rmse_list = []\n",
        "mae_list = []\n",
        "r2_list = []\n",
        "\n",
        "w = np.random.rand(i_features.shape[1])\n",
        "for i in range(n_iters):\n",
        "    y_pred = predict(i_x_train, w)\n",
        "\n",
        "    rmse_list.append(root_mean_squared_error(i_y_train,y_pred))\n",
        "    mae_list.append(mean_absolute_error(i_y_train,y_pred))\n",
        "    r2_list.append(r2_score(i_y_train,y_pred))\n",
        "\n",
        "    w = gradient_step(i_x_train,i_y_train,w,alpha)\n",
        "    if i % 100 == 0 or i == n_iters - 1:\n",
        "        print(f'Iter: {i}\\nRMSE: {rmse_list[-1]:.4f}\\n'\n",
        "              f'MAE: {mae_list[-1]:.4f}\\n'\n",
        "              f'R2: {r2_list[-1]:.4f}\\n')"
      ],
      "metadata": {
        "id": "g9PForFZV7vD",
        "colab": {
          "base_uri": "https://localhost:8080/"
        },
        "outputId": "a721648a-80a6-43b7-ff43-9b798234be5c"
      },
      "execution_count": null,
      "outputs": [
        {
          "output_type": "stream",
          "name": "stdout",
          "text": [
            "Iter: 0\n",
            "RMSE: 5068604.8871\n",
            "MAE: 4751248.9529\n",
            "R2: -7.2437\n",
            "\n",
            "Iter: 100\n",
            "RMSE: 1428798.7818\n",
            "MAE: 1130743.4648\n",
            "R2: 0.3449\n",
            "\n",
            "Iter: 200\n",
            "RMSE: 1019542.6348\n",
            "MAE: 746423.8446\n",
            "R2: 0.6665\n",
            "\n",
            "Iter: 300\n",
            "RMSE: 994353.8820\n",
            "MAE: 727748.4905\n",
            "R2: 0.6827\n",
            "\n",
            "Iter: 400\n",
            "RMSE: 992697.5676\n",
            "MAE: 727137.4552\n",
            "R2: 0.6838\n",
            "\n",
            "Iter: 470\n",
            "RMSE: 992549.3685\n",
            "MAE: 726981.1458\n",
            "R2: 0.6839\n",
            "\n"
          ]
        }
      ]
    },
    {
      "cell_type": "code",
      "source": [
        "y_pred = predict(i_x_test,w)\n",
        "\n",
        "print(f'Control test:\\nRMSE: {root_mean_squared_error(i_y_test,y_pred):.4f}\\n'\n",
        "      f'MAE: {mean_absolute_error(i_y_test,y_pred):.4f}\\n'\n",
        "      f'R2: {r2_score(i_y_test,y_pred):.4f}')"
      ],
      "metadata": {
        "colab": {
          "base_uri": "https://localhost:8080/"
        },
        "id": "WkpvZlw6nCeT",
        "outputId": "c21a2db5-a782-4db5-c8c3-76906e3b8731"
      },
      "execution_count": null,
      "outputs": [
        {
          "output_type": "stream",
          "name": "stdout",
          "text": [
            "Control test:\n",
            "RMSE: 1247948.3177\n",
            "MAE: 917251.3145\n",
            "R2: 0.6620\n"
          ]
        }
      ]
    },
    {
      "cell_type": "markdown",
      "source": [
        "**Model coef.**"
      ],
      "metadata": {
        "id": "cHYh8cvbIBNY"
      }
    },
    {
      "cell_type": "code",
      "source": [
        "print(f'Coef linear regression (zero): {w}')"
      ],
      "metadata": {
        "colab": {
          "base_uri": "https://localhost:8080/"
        },
        "id": "R1t7X2s5vpMd",
        "outputId": "8f47f295-243a-44c8-e8a8-1689861193cd"
      },
      "execution_count": null,
      "outputs": [
        {
          "output_type": "stream",
          "name": "stdout",
          "text": [
            "Coef linear regression (zero): [4763333.99472868  517288.92236932   62071.43475183  559142.3349145\n",
            "  327691.40437236  132198.46646528  107509.36923568  186744.53068777\n",
            "  145389.3172008   358312.0507989   223897.37253435  264923.84791675\n",
            " -159000.23168034]\n"
          ]
        }
      ]
    },
    {
      "cell_type": "markdown",
      "source": [
        "**Visualization of the model work.**"
      ],
      "metadata": {
        "id": "1I_CmgfQIpwN"
      }
    },
    {
      "cell_type": "markdown",
      "source": [
        "Let's build a graph that demonstrates how the algorithm reduces the loss function (RMSE) with learning."
      ],
      "metadata": {
        "id": "BwV_vNTgqdTq"
      }
    },
    {
      "cell_type": "code",
      "source": [
        "plt.figure(figsize=(10,6))\n",
        "\n",
        "plt.plot(range(n_iters),rmse_list)\n",
        "\n",
        "plt.title('The process of reducing the value of the loss function.')\n",
        "plt.ylabel('RMSE')\n",
        "plt.xlabel('Iter')\n",
        "\n",
        "plt.show()"
      ],
      "metadata": {
        "colab": {
          "base_uri": "https://localhost:8080/",
          "height": 564
        },
        "id": "qfB6YmOTrILQ",
        "outputId": "bf255335-8724-4a5d-b29a-8ca9e43b1add"
      },
      "execution_count": null,
      "outputs": [
        {
          "output_type": "display_data",
          "data": {
            "text/plain": [
              "<Figure size 1000x600 with 1 Axes>"
            ],
            "image/png": "[encoded data removed]"
          },
          "metadata": {}
        }
      ]
    },
    {
      "cell_type": "markdown",
      "source": [
        "### Analytical solution for finding parameters."
      ],
      "metadata": {
        "id": "A7p8vn8K3ZeX"
      }
    },
    {
      "cell_type": "markdown",
      "source": [
        "We will use the same hyperparameters as in the previous model.\n",
        "\n",
        "We immediately do cross-validation and a control test."
      ],
      "metadata": {
        "id": "aIGMAvnppUtn"
      }
    },
    {
      "cell_type": "markdown",
      "source": [
        "**CV test.**"
      ],
      "metadata": {
        "id": "9kiH1cniI0AB"
      }
    },
    {
      "cell_type": "code",
      "source": [
        "cv = ShuffleSplit(n_splits=10,test_size=0.25,random_state=54)\n",
        "\n",
        "rmse_list = []\n",
        "mae_list = []\n",
        "r2_list = []\n",
        "\n",
        "for i_train, i_test in cv.split(i_features):\n",
        "    features_train = i_features[i_train]\n",
        "    targets_train = i_targets[i_train]\n",
        "\n",
        "    features_test = i_features[i_test]\n",
        "    targets_test = i_targets[i_test]\n",
        "\n",
        "    w = np.linalg.inv((features_train.T @ features_train)) @ (features_train.T @ targets_train)\n",
        "\n",
        "    y_pred = predict(features_test,w)\n",
        "\n",
        "    rmse_list.append(root_mean_squared_error(targets_test,y_pred))\n",
        "    mae_list.append(mean_absolute_error(targets_test,y_pred))\n",
        "    r2_list.append(r2_score(targets_test,y_pred))\n",
        "\n",
        "\n",
        "scores_line_reg_analysis = {'RMSE': np.mean(rmse_list),\n",
        "                            'MAE': np.mean(mae_list),\n",
        "                            'R2': np.mean(r2_list)}\n",
        "\n",
        "print('CV test:')\n",
        "for metric,value in scores_line_reg_analysis.items():\n",
        "    print(f'{metric}: {value:.4f}')"
      ],
      "metadata": {
        "colab": {
          "base_uri": "https://localhost:8080/"
        },
        "id": "BS_O7zUhpcg0",
        "outputId": "a65c4234-797a-49dc-b1f8-630f60d7a246"
      },
      "execution_count": null,
      "outputs": [
        {
          "output_type": "stream",
          "name": "stdout",
          "text": [
            "CV test:\n",
            "RMSE: 1114879.6457\n",
            "MAE: 824206.1228\n",
            "R2: 0.6547\n"
          ]
        }
      ]
    },
    {
      "cell_type": "markdown",
      "source": [
        "**Control test.**"
      ],
      "metadata": {
        "id": "PHDbuw1QI4rs"
      }
    },
    {
      "cell_type": "code",
      "source": [
        "w = np.linalg.inv((i_x_train.T @ i_x_train)) @ (i_x_train.T @ i_y_train)\n",
        "y_pred = predict(i_x_test,w)\n",
        "\n",
        "print(f'Control test:\\nRMSE: {root_mean_squared_error(i_y_test,y_pred):.4f}\\n'\n",
        "      f'MAE: {mean_absolute_error(i_y_test,y_pred):.4f}\\n'\n",
        "      f'R2: {r2_score(i_y_test,y_pred):.4f}')"
      ],
      "metadata": {
        "id": "NoZTKDwU3kPK",
        "colab": {
          "base_uri": "https://localhost:8080/"
        },
        "outputId": "3718a19e-9502-413d-b522-0badbcd8ef1a"
      },
      "execution_count": null,
      "outputs": [
        {
          "output_type": "stream",
          "name": "stdout",
          "text": [
            "Control test:\n",
            "RMSE: 1249024.7582\n",
            "MAE: 919520.6452\n",
            "R2: 0.6615\n"
          ]
        }
      ]
    },
    {
      "cell_type": "markdown",
      "source": [
        "**Visualization of the model work.**"
      ],
      "metadata": {
        "id": "NSFQYsfDDfGZ"
      }
    },
    {
      "cell_type": "code",
      "source": [
        "plt.figure(figsize=(12,6))\n",
        "\n",
        "plt.scatter(x=y_test,y=y_pred,alpha=0.6)\n",
        "plt.plot([y_test.min(), y_test.max()], [y_test.min(), y_test.max()], color='red', linestyle='--')"
      ],
      "metadata": {
        "colab": {
          "base_uri": "https://localhost:8080/",
          "height": 573
        },
        "id": "2vpDXhK-BzAI",
        "outputId": "48b56227-d6b1-42c8-8217-e6914e303961"
      },
      "execution_count": null,
      "outputs": [
        {
          "output_type": "execute_result",
          "data": {
            "text/plain": [
              "[<matplotlib.lines.Line2D at 0x7f044a08be80>]"
            ]
          },
          "metadata": {},
          "execution_count": 530
        },
        {
          "output_type": "display_data",
          "data": {
            "text/plain": [
              "<Figure size 1200x600 with 1 Axes>"
            ],
            "image/png": "[encoded data removed]"
          },
          "metadata": {}
        }
      ]
    },
    {
      "cell_type": "markdown",
      "source": [
        "### Lasso"
      ],
      "metadata": {
        "id": "PefbKJekIr_Y"
      }
    },
    {
      "cell_type": "markdown",
      "source": [
        "Let's try another linear regression algorithm — Lasso (Least Absolute Shrinkage and Selection Operator), which differs in that it adds L1 regularization to the loss function. This means that the model tries to minimize the sum of the squared errors between the predictions and the actual values ​​(as in normal linear regression), but also penalizes large regression coefficients. Thus, Lasso helps reduce the weight of insignificant features until they are completely zero, which effectively performs feature selection."
      ],
      "metadata": {
        "id": "WL51HN47tYBq"
      }
    },
    {
      "cell_type": "markdown",
      "source": [
        "**Selection of hyperparameters using optuna.**\n"
      ],
      "metadata": {
        "id": "AqT2URJDu1oH"
      }
    },
    {
      "cell_type": "code",
      "source": [
        "def objective(trial):\n",
        "    alpha = trial.suggest_float('alpha',0.00001,100)\n",
        "\n",
        "    cv = ShuffleSplit(n_splits=10,test_size=0.25,random_state=9)\n",
        "    algo = Lasso(alpha=alpha,random_state=42)\n",
        "\n",
        "    scores = cross_validate(algo,features,targets,n_jobs=-1,cv=cv,scoring=['neg_root_mean_squared_error'])\n",
        "    return -scores['test_neg_root_mean_squared_error'].mean()\n",
        "\n",
        "study = optuna.create_study(direction='minimize',pruner=optuna.pruners.HyperbandPruner())\n",
        "study.optimize(objective,n_trials=100,n_jobs=-1,show_progress_bar=True)"
      ],
      "metadata": {
        "id": "zKcvFB0bIw9t"
      },
      "execution_count": null,
      "outputs": []
    },
    {
      "cell_type": "code",
      "source": [
        "print(f'Best params: {study.best_params}\\nBest value: {study.best_value}')"
      ],
      "metadata": {
        "colab": {
          "base_uri": "https://localhost:8080/"
        },
        "id": "-h9kieZ603vJ",
        "outputId": "a7e3ab4e-60f4-4159-f73e-3e72431159ec"
      },
      "execution_count": null,
      "outputs": [
        {
          "output_type": "stream",
          "name": "stdout",
          "text": [
            "Best params: {'alpha': 99.91926857210738}\n",
            "Best value: 1091153.6792186531\n"
          ]
        }
      ]
    },
    {
      "cell_type": "code",
      "source": [
        "lasso = Lasso(alpha=100,random_state=33)"
      ],
      "metadata": {
        "id": "upf6qZ672LFb"
      },
      "execution_count": null,
      "outputs": []
    },
    {
      "cell_type": "markdown",
      "source": [
        "**CV test.**"
      ],
      "metadata": {
        "id": "sTQHG-lD1z-G"
      }
    },
    {
      "cell_type": "code",
      "source": [
        "cv = ShuffleSplit(n_splits=10,test_size=0.25,random_state=43)\n",
        "scores = cross_validate(lasso,features,targets,scoring=['neg_root_mean_squared_error','neg_mean_absolute_error','r2'],cv=cv,n_jobs=-1,return_train_score=True)\n",
        "scores_lasso = {'RMSE': -scores[\"test_neg_root_mean_squared_error\"].mean(),\n",
        "                'MAE': -scores[\"test_neg_mean_absolute_error\"].mean(),\n",
        "                'R2': scores[\"test_r2\"].mean()}\n",
        "\n",
        "print('CV test:')\n",
        "for metric,value in scores_lasso.items():\n",
        "    print(f'{metric}: {value:.4f}')"
      ],
      "metadata": {
        "colab": {
          "base_uri": "https://localhost:8080/"
        },
        "id": "mQptt_6m2Alm",
        "outputId": "bf80b7ae-0c27-4f72-a492-6e73c7b3052c"
      },
      "execution_count": null,
      "outputs": [
        {
          "output_type": "stream",
          "name": "stdout",
          "text": [
            "CV test:\n",
            "RMSE: 1056228.5534\n",
            "MAE: 768210.7474\n",
            "R2: 0.6831\n"
          ]
        }
      ]
    },
    {
      "cell_type": "code",
      "source": [
        "print(f'CV test on training data:\\nRMSE: {-scores[\"train_neg_root_mean_squared_error\"].mean():.4f}\\n'\n",
        "      f'MAE: {-scores[\"train_neg_mean_absolute_error\"].mean():.4f}\\n'\n",
        "      f'R2: {scores[\"train_r2\"].mean():.4f}')"
      ],
      "metadata": {
        "colab": {
          "base_uri": "https://localhost:8080/"
        },
        "id": "ju2bY5RyHVeg",
        "outputId": "34098fc0-9291-4343-9cc4-f807ac6d022d"
      },
      "execution_count": null,
      "outputs": [
        {
          "output_type": "stream",
          "name": "stdout",
          "text": [
            "CV test on training data:\n",
            "RMSE: 1061022.0018\n",
            "MAE: 781197.8968\n",
            "R2: 0.6738\n"
          ]
        }
      ]
    },
    {
      "cell_type": "markdown",
      "source": [
        "**Control test.**"
      ],
      "metadata": {
        "id": "hcuafdb3JPYX"
      }
    },
    {
      "cell_type": "code",
      "source": [
        "lasso.fit(x_train,y_train)\n",
        "y_pred = lasso.predict(x_test)\n",
        "\n",
        "print(f'Control test\\nRMSE: {root_mean_squared_error(y_test,y_pred):.4f}\\n'\n",
        "      f'MAE: {mean_absolute_error(y_test,y_pred):.4f}\\n'\n",
        "      f'R2: {r2_score(y_test,y_pred):.4f}')"
      ],
      "metadata": {
        "colab": {
          "base_uri": "https://localhost:8080/"
        },
        "id": "P7Iy4tOc0UBp",
        "outputId": "4d395bf7-440d-412b-f3c2-de1d23b96b42"
      },
      "execution_count": null,
      "outputs": [
        {
          "output_type": "stream",
          "name": "stdout",
          "text": [
            "Control test\n",
            "RMSE: 1249067.4486\n",
            "MAE: 919522.2127\n",
            "R2: 0.6614\n"
          ]
        }
      ]
    },
    {
      "cell_type": "markdown",
      "source": [
        "**Model coef.**"
      ],
      "metadata": {
        "id": "xSn7sbnGJbMw"
      }
    },
    {
      "cell_type": "code",
      "source": [
        "print(f'Coef Lasso: {lasso.coef_}')"
      ],
      "metadata": {
        "colab": {
          "base_uri": "https://localhost:8080/"
        },
        "id": "HyMjIR98Rap9",
        "outputId": "59589825-1153-4e0e-f401-43e7cea09fd1"
      },
      "execution_count": null,
      "outputs": [
        {
          "output_type": "stream",
          "name": "stdout",
          "text": [
            "Coef Lasso: [ 520001.09316714   53231.94510797  565013.98539375  334385.34011636\n",
            "  129465.16062454  104035.86852275  191490.81347683  144715.86051158\n",
            "  356275.15693641  223318.68786424  266090.94770477 -157471.95840855]\n"
          ]
        }
      ]
    },
    {
      "cell_type": "markdown",
      "source": [
        "**Visualization of the model work.**"
      ],
      "metadata": {
        "id": "-IJRGeFxDpDR"
      }
    },
    {
      "cell_type": "code",
      "source": [
        "plt.figure(figsize=(12,6))\n",
        "\n",
        "plt.scatter(x=y_test,y=y_pred,alpha=0.6)\n",
        "plt.plot([y_test.min(), y_test.max()], [y_test.min(), y_test.max()], color='red', linestyle='--')"
      ],
      "metadata": {
        "colab": {
          "base_uri": "https://localhost:8080/",
          "height": 573
        },
        "id": "_hynbU_hBb4i",
        "outputId": "b8d3d53f-0708-4327-deea-09050eac2b24"
      },
      "execution_count": null,
      "outputs": [
        {
          "output_type": "execute_result",
          "data": {
            "text/plain": [
              "[<matplotlib.lines.Line2D at 0x7f0449807610>]"
            ]
          },
          "metadata": {},
          "execution_count": 527
        },
        {
          "output_type": "display_data",
          "data": {
            "text/plain": [
              "<Figure size 1200x600 with 1 Axes>"
            ],
            "image/png": "[encoded data removed]"
          },
          "metadata": {}
        }
      ]
    },
    {
      "cell_type": "markdown",
      "source": [
        "### RandomForestRegressor"
      ],
      "metadata": {
        "id": "Kmek3pVF3aLK"
      }
    },
    {
      "cell_type": "markdown",
      "source": [
        "And the next algorithm we will test is RandomForestRegressor, a robust ensemble learning method that operates by constructing multiple decision trees during training and outputting the average prediction (for regression tasks). Random forests reduce overfitting by averaging the predictions of multiple trees and tend to perform well on datasets with complex relationships or non-linearities between features."
      ],
      "metadata": {
        "id": "WxavX5l13ozp"
      }
    },
    {
      "cell_type": "markdown",
      "source": [
        "Minimum number of samples in a leaf node (min_samples_leaf): This parameter specifies the minimum number of samples that must be present in a leaf node. It helps prevent the creation of leaf nodes with very few samples, which can lead to overfitting. A higher value makes the model more generalized.\n",
        "\n",
        "Minimum number of samples required to split a node (min_samples_split): This defines the minimum number of samples needed in a node before it can be split into smaller nodes. If the number of samples is below this threshold, the node won’t be split. A larger value prevents the tree from growing too complex.\n",
        "\n",
        "Number of trees in the forest (n_estimators): This is the number of decision trees that the RandomForest algorithm will build. A higher number usually improves performance but increases computation time. Each tree learns a different part of the data, and the final prediction is the aggregate of all trees’ predictions.\n",
        "\n",
        "Number of samples for each tree (max_samples): This specifies the number of samples that each tree will be trained on. If not set, each tree will use all samples. It can be a fixed number or a percentage of the total samples (e.g., max_samples=0.8 means each tree will use 80% of the samples).\n",
        "\n",
        "Number of features considered for each split (max_features): This parameter controls how many features are considered when searching for the best split at each node. It can be set as a fixed number, a percentage of the total features, or a function (e.g., sqrt or log2).\n",
        "\n",
        "Maximum depth of the tree (max_depth): This limits how deep each tree can grow. Limiting the depth helps prevent overfitting, as deep trees can capture too many details from the training data, potentially harming generalization on unseen data.\n",
        "\n",
        "These are critical hyperparameters that need to be carefully tuned to optimize the performance of a RandomForest model."
      ],
      "metadata": {
        "id": "NkNq6yqNXtf0"
      }
    },
    {
      "cell_type": "markdown",
      "source": [
        "**Selection of hyperparameters using optuna.**\n",
        "\n",
        "I run the tests several times gradually decreasing the range of hyperparameter values ​​to find the best hyperparameters for the model."
      ],
      "metadata": {
        "id": "5pjRC97ddYdD"
      }
    },
    {
      "cell_type": "code",
      "source": [
        "def objective(trial):\n",
        "    n_estimators = trial.suggest_int('n_estimators',120,130)\n",
        "    min_samples_split = trial.suggest_int('min_samples_split',3,5)\n",
        "    min_samples_leaf = trial.suggest_int('min_samples_leaf',4,5)\n",
        "    max_features = trial.suggest_float('max_features', 0.9,0.93)\n",
        "    max_samples = trial.suggest_float('max_samples',0.5,0.515)\n",
        "\n",
        "    model = RandomForestRegressor(n_estimators=n_estimators,\n",
        "                                  max_depth=None,\n",
        "                                  min_samples_split=min_samples_split,\n",
        "                                  min_samples_leaf=min_samples_leaf,\n",
        "                                  max_features=max_features,\n",
        "                                  max_samples=max_samples,\n",
        "                                  n_jobs=-1,random_state=43)\n",
        "\n",
        "    cv = ShuffleSplit(n_splits=10,test_size=0.25,random_state=22)\n",
        "\n",
        "    scores = cross_validate(model,features,targets,scoring=['neg_root_mean_squared_error'],\n",
        "                            cv=cv,n_jobs=-1)\n",
        "    return -scores['test_neg_root_mean_squared_error'].mean()\n",
        "\n",
        "study = optuna.create_study(direction='minimize',pruner=optuna.pruners.HyperbandPruner())\n",
        "study.optimize(objective,n_trials=50,n_jobs=-1,show_progress_bar=True)"
      ],
      "metadata": {
        "id": "tN87VgnsdfCD"
      },
      "execution_count": null,
      "outputs": []
    },
    {
      "cell_type": "code",
      "source": [
        "print(f'Best params: {study.best_params}\\nBest value: {study.best_value}')"
      ],
      "metadata": {
        "colab": {
          "base_uri": "https://localhost:8080/"
        },
        "id": "AldhQfuMhNGp",
        "outputId": "127cd3e9-756a-403b-c5dd-e3bbe6c69684"
      },
      "execution_count": null,
      "outputs": [
        {
          "output_type": "stream",
          "name": "stdout",
          "text": [
            "Best params: {'n_estimators': 125, 'min_samples_split': 4, 'min_samples_leaf': 4, 'max_features': 0.9235169903498044, 'max_samples': 0.5053643178287779}\n",
            "Best value: 1110539.116462564\n"
          ]
        }
      ]
    },
    {
      "cell_type": "code",
      "source": [
        "forest = RandomForestRegressor(n_estimators=125,\n",
        "                               max_depth=None,\n",
        "                               min_samples_split=4,\n",
        "                               min_samples_leaf=4,\n",
        "                               max_features=0.9235169903498044,\n",
        "                               max_samples=0.5053643178287779,\n",
        "                               n_jobs=-1,random_state=43)"
      ],
      "metadata": {
        "id": "lfC-Rjn_t6jL"
      },
      "execution_count": null,
      "outputs": []
    },
    {
      "cell_type": "markdown",
      "source": [
        "**CV test.**"
      ],
      "metadata": {
        "id": "CJMJ3Q_ItnYG"
      }
    },
    {
      "cell_type": "code",
      "source": [
        "cv = ShuffleSplit(n_splits=10,test_size=0.3,random_state=22)\n",
        "scores = cross_validate(forest,features,targets,scoring=['neg_root_mean_squared_error',\n",
        "                                                         'neg_mean_absolute_error',\n",
        "                                                         'r2'],\n",
        "                                                         cv=cv,n_jobs=-1,return_train_score=True)\n",
        "\n",
        "scores_forest = {'RMSE': -scores[\"test_neg_root_mean_squared_error\"].mean(),\n",
        "                 'MAE': -scores[\"test_neg_mean_absolute_error\"].mean(),\n",
        "                 'R2': scores[\"test_r2\"].mean()}\n",
        "\n",
        "print('CV test:')\n",
        "for metric,value in scores_forest.items():\n",
        "    print(f'{metric}: {value:.4f}')"
      ],
      "metadata": {
        "colab": {
          "base_uri": "https://localhost:8080/"
        },
        "id": "9bPZC3b9uH2l",
        "outputId": "65fb2dcc-600b-4b43-b9e0-ba6a31530dce"
      },
      "execution_count": null,
      "outputs": [
        {
          "output_type": "stream",
          "name": "stdout",
          "text": [
            "CV test:\n",
            "RMSE: 1173384.9640\n",
            "MAE: 827325.7326\n",
            "R2: 0.6253\n"
          ]
        }
      ]
    },
    {
      "cell_type": "code",
      "source": [
        "print(f'CV test on training data:\\nRMSE: {-scores[\"train_neg_root_mean_squared_error\"].mean():.4f}\\n'\n",
        "      f'MAE: {-scores[\"train_neg_mean_absolute_error\"].mean():.4f}\\n'\n",
        "      f'R2: {scores[\"train_r2\"].mean():.4f}')"
      ],
      "metadata": {
        "colab": {
          "base_uri": "https://localhost:8080/"
        },
        "id": "L4HSA_twwAQD",
        "outputId": "69ea3746-ec67-4c47-fd5a-234b1537f368"
      },
      "execution_count": null,
      "outputs": [
        {
          "output_type": "stream",
          "name": "stdout",
          "text": [
            "CV test on training data:\n",
            "RMSE: 952391.8311\n",
            "MAE: 677050.8892\n",
            "R2: 0.7330\n"
          ]
        }
      ]
    },
    {
      "cell_type": "markdown",
      "source": [
        "You can see that the model is being retrained a little."
      ],
      "metadata": {
        "id": "v4GX0m8cxFIs"
      }
    },
    {
      "cell_type": "markdown",
      "source": [
        "**Control test.**"
      ],
      "metadata": {
        "id": "iscLr8Q8-T2J"
      }
    },
    {
      "cell_type": "code",
      "source": [
        "forest.fit(x_train,y_train)\n",
        "y_pred = forest.predict(x_test)\n",
        "\n",
        "print(f'Control test:\\nRMSE: {root_mean_squared_error(y_test,y_pred):.4f}\\n'\n",
        "      f'MAE: {mean_absolute_error(y_test,y_pred):.4f}\\n'\n",
        "      f'R2: {r2_score(y_test,y_pred):.4f}')"
      ],
      "metadata": {
        "colab": {
          "base_uri": "https://localhost:8080/"
        },
        "id": "mRYxIlI_dgP6",
        "outputId": "efe09774-ce7b-464f-a1dc-18c107ce3208"
      },
      "execution_count": null,
      "outputs": [
        {
          "output_type": "stream",
          "name": "stdout",
          "text": [
            "Control test:\n",
            "RMSE: 1360837.4556\n",
            "MAE: 1021244.5331\n",
            "R2: 0.5981\n"
          ]
        }
      ]
    },
    {
      "cell_type": "code",
      "source": [
        "forest.feature_importances_"
      ],
      "metadata": {
        "colab": {
          "base_uri": "https://localhost:8080/"
        },
        "id": "7Xn2AN8fd-4h",
        "outputId": "f33ba7f6-62de-4bae-fc7a-deab6733ca06"
      },
      "execution_count": null,
      "outputs": [
        {
          "output_type": "execute_result",
          "data": {
            "text/plain": [
              "array([0.51889931, 0.02906049, 0.17321911, 0.0417836 , 0.00582121,\n",
              "       0.01383403, 0.02848726, 0.00330225, 0.07143503, 0.04548266,\n",
              "       0.02286812, 0.04580694])"
            ]
          },
          "metadata": {},
          "execution_count": 520
        }
      ]
    },
    {
      "cell_type": "markdown",
      "source": [
        "**Visualization of the model work.**"
      ],
      "metadata": {
        "id": "cS4Hnl5D-m5Q"
      }
    },
    {
      "cell_type": "code",
      "source": [
        "plt.figure(figsize=(12,6))\n",
        "\n",
        "plt.scatter(x=y_test,y=y_pred,alpha=0.6)\n",
        "plt.plot([y_test.min(), y_test.max()], [y_test.min(), y_test.max()], color='red', linestyle='--')"
      ],
      "metadata": {
        "colab": {
          "base_uri": "https://localhost:8080/",
          "height": 573
        },
        "id": "rY20fP7AAUy1",
        "outputId": "e3b27685-295b-4ac3-d569-90a5704b2476"
      },
      "execution_count": null,
      "outputs": [
        {
          "output_type": "execute_result",
          "data": {
            "text/plain": [
              "[<matplotlib.lines.Line2D at 0x7f044998bfa0>]"
            ]
          },
          "metadata": {},
          "execution_count": 521
        },
        {
          "output_type": "display_data",
          "data": {
            "text/plain": [
              "<Figure size 1200x600 with 1 Axes>"
            ],
            "image/png": "[encoded data removed]"
          },
          "metadata": {}
        }
      ]
    },
    {
      "cell_type": "markdown",
      "source": [
        "### GradientBoostingRegressor"
      ],
      "metadata": {
        "id": "2_DGP5uHkTMR"
      }
    },
    {
      "cell_type": "markdown",
      "source": [
        "Gradient Boosting for regression builds a strong model by combining many weak models (decision trees) that learn from the errors of previous models. It adjusts predictions gradually to improve accuracy."
      ],
      "metadata": {
        "id": "qwtJK0iG1it8"
      }
    },
    {
      "cell_type": "markdown",
      "source": [
        "**Selection of hyperparameters using optuna.**"
      ],
      "metadata": {
        "id": "hPuLIOxakaDK"
      }
    },
    {
      "cell_type": "code",
      "source": [
        "def objective(trial):\n",
        "    n_estimators = trial.suggest_int('n_estimators',145,175)\n",
        "    learning_rate = trial.suggest_float('learning_rate',0.033,0.045)\n",
        "    max_depth = trial.suggest_int('max_depth',3,6)\n",
        "    subsample = trial.suggest_float('subsample',0.55,0.75)\n",
        "    min_samples_split = trial.suggest_int('min_samples_split',2,11)\n",
        "    min_samples_leaf = trial.suggest_int('min_samples_leaf',1,4)\n",
        "    max_features = trial.suggest_float('max_features',0.35,0.41)\n",
        "    alpha = trial.suggest_float('alpha',0.85,0.88)\n",
        "\n",
        "    model = GradientBoostingRegressor(n_estimators = n_estimators,\n",
        "                                      learning_rate = learning_rate,\n",
        "                                      max_depth = max_depth,\n",
        "                                      subsample = subsample,\n",
        "                                      min_samples_split = min_samples_split,\n",
        "                                      min_samples_leaf = min_samples_leaf,\n",
        "                                      max_features = max_features,\n",
        "                                      alpha = alpha,random_state=34)\n",
        "\n",
        "    cv = ShuffleSplit(n_splits=10,test_size=0.25,random_state=22)\n",
        "\n",
        "    scores = cross_validate(model,features,targets,scoring=['neg_root_mean_squared_error'],\n",
        "                            cv=cv,n_jobs=-1)\n",
        "    return -scores['test_neg_root_mean_squared_error'].mean()\n",
        "\n",
        "study = optuna.create_study(direction='minimize', pruner=optuna.pruners.HyperbandPruner())\n",
        "study.optimize(objective,n_trials=50,n_jobs=-1,show_progress_bar=True)"
      ],
      "metadata": {
        "id": "0qX9keM4keGR"
      },
      "execution_count": null,
      "outputs": []
    },
    {
      "cell_type": "code",
      "source": [
        "print(f'Best params: {study.best_params}\\nBest value: {study.best_value}')"
      ],
      "metadata": {
        "colab": {
          "base_uri": "https://localhost:8080/"
        },
        "id": "cW2saob7rq7N",
        "outputId": "2c630072-784c-4a13-94c5-28c60af425bb"
      },
      "execution_count": null,
      "outputs": [
        {
          "output_type": "stream",
          "name": "stdout",
          "text": [
            "Best params: {'n_estimators': 153, 'learning_rate': 0.039414461283773974, 'max_depth': 4, 'subsample': 0.5901402789046466, 'min_samples_split': 8, 'min_samples_leaf': 1, 'max_features': 0.3599075987250444, 'alpha': 0.8711857459424042}\n",
            "Best value: 1074724.6516526877\n"
          ]
        }
      ]
    },
    {
      "cell_type": "code",
      "source": [
        "gb = GradientBoostingRegressor(n_estimators=153,\n",
        "                               learning_rate=0.039414461283773974,\n",
        "                               max_depth=4,\n",
        "                               subsample=0.5901402789046466,\n",
        "                               min_samples_split=8,\n",
        "                               min_samples_leaf=1,\n",
        "                               max_features=0.3599075987250444,\n",
        "                               alpha=0.8711857459424042)"
      ],
      "metadata": {
        "id": "xFA8qF02kh1-"
      },
      "execution_count": null,
      "outputs": []
    },
    {
      "cell_type": "markdown",
      "source": [
        "**CV test.**"
      ],
      "metadata": {
        "id": "mh7EPadmtTh_"
      }
    },
    {
      "cell_type": "code",
      "source": [
        "cv = ShuffleSplit(n_splits=10,test_size=0.3,random_state=22)\n",
        "scores = cross_validate(gb,features,targets,scoring=['neg_root_mean_squared_error',\n",
        "                                                         'neg_mean_absolute_error',\n",
        "                                                         'r2'],\n",
        "                                                         cv=cv,n_jobs=-1,return_train_score=True)\n",
        "\n",
        "scores_gb = {'RMSE': -scores[\"test_neg_root_mean_squared_error\"].mean(),\n",
        "                 'MAE': -scores[\"test_neg_mean_absolute_error\"].mean(),\n",
        "                 'R2': scores[\"test_r2\"].mean()}\n",
        "\n",
        "print('CV test:')\n",
        "for metric,value in scores_gb.items():\n",
        "    print(f'{metric}: {value:.4f}')"
      ],
      "metadata": {
        "colab": {
          "base_uri": "https://localhost:8080/"
        },
        "outputId": "7a766f7a-6547-4ba1-d635-981848904df0",
        "id": "_mZzLRJUtknk"
      },
      "execution_count": null,
      "outputs": [
        {
          "output_type": "stream",
          "name": "stdout",
          "text": [
            "CV test:\n",
            "RMSE: 1089761.3512\n",
            "MAE: 776995.0883\n",
            "R2: 0.6763\n"
          ]
        }
      ]
    },
    {
      "cell_type": "code",
      "source": [
        "print(f'CV test on training data:\\nRMSE: {-scores[\"train_neg_root_mean_squared_error\"].mean():.4f}\\n'\n",
        "      f'MAE: {-scores[\"train_neg_mean_absolute_error\"].mean():.4f}\\n'\n",
        "      f'R2: {scores[\"train_r2\"].mean():.4f}')"
      ],
      "metadata": {
        "colab": {
          "base_uri": "https://localhost:8080/"
        },
        "outputId": "6ef7fdfc-2c9d-4cc1-964f-4d511852aff0",
        "id": "ue2-xgdLtknl"
      },
      "execution_count": null,
      "outputs": [
        {
          "output_type": "stream",
          "name": "stdout",
          "text": [
            "CV test on training data:\n",
            "RMSE: 710042.0171\n",
            "MAE: 530230.8720\n",
            "R2: 0.8516\n"
          ]
        }
      ]
    },
    {
      "cell_type": "markdown",
      "source": [
        "**Control test.**"
      ],
      "metadata": {
        "id": "sYcN6EXQtknl"
      }
    },
    {
      "cell_type": "code",
      "source": [
        "gb.fit(x_train,y_train)\n",
        "y_pred = gb.predict(x_test)\n",
        "\n",
        "print(f'Control test:\\nRMSE: {root_mean_squared_error(y_test,y_pred):.4f}\\n'\n",
        "      f'MAE: {mean_absolute_error(y_test,y_pred):.4f}\\n'\n",
        "      f'R2: {r2_score(y_test,y_pred):.4f}')"
      ],
      "metadata": {
        "colab": {
          "base_uri": "https://localhost:8080/"
        },
        "outputId": "8865360e-1210-48ef-91ec-58a443527de3",
        "id": "wAOAI53gtknl"
      },
      "execution_count": null,
      "outputs": [
        {
          "output_type": "stream",
          "name": "stdout",
          "text": [
            "Control test:\n",
            "RMSE: 1277959.4416\n",
            "MAE: 917304.4042\n",
            "R2: 0.6456\n"
          ]
        }
      ]
    },
    {
      "cell_type": "code",
      "source": [
        "gb.feature_importances_"
      ],
      "metadata": {
        "colab": {
          "base_uri": "https://localhost:8080/"
        },
        "id": "TWVNCOpswS6p",
        "outputId": "09077f73-5f52-438b-efe7-e7924688ac78"
      },
      "execution_count": null,
      "outputs": [
        {
          "output_type": "execute_result",
          "data": {
            "text/plain": [
              "array([0.34460479, 0.05708285, 0.18117433, 0.07034336, 0.02027618,\n",
              "       0.01986069, 0.03576371, 0.02783896, 0.0936727 , 0.07894033,\n",
              "       0.02794755, 0.04249455])"
            ]
          },
          "metadata": {},
          "execution_count": 514
        }
      ]
    },
    {
      "cell_type": "markdown",
      "source": [
        "**Visualization of the model work.**"
      ],
      "metadata": {
        "id": "HzcihW4ktknl"
      }
    },
    {
      "cell_type": "code",
      "source": [
        "plt.figure(figsize=(12,6))\n",
        "\n",
        "plt.scatter(x=y_test,y=y_pred,alpha=0.6)\n",
        "plt.plot([y_test.min(), y_test.max()], [y_test.min(), y_test.max()], color='red', linestyle='--')"
      ],
      "metadata": {
        "colab": {
          "base_uri": "https://localhost:8080/",
          "height": 573
        },
        "outputId": "65fd038c-ba4c-4c33-d741-6f3cdb1500fb",
        "id": "0Rjzc2U1tknm"
      },
      "execution_count": null,
      "outputs": [
        {
          "output_type": "execute_result",
          "data": {
            "text/plain": [
              "[<matplotlib.lines.Line2D at 0x7f044992d690>]"
            ]
          },
          "metadata": {},
          "execution_count": 515
        },
        {
          "output_type": "display_data",
          "data": {
            "text/plain": [
              "<Figure size 1200x600 with 1 Axes>"
            ],
            "image/png": "[encoded data removed]"
          },
          "metadata": {}
        }
      ]
    },
    {
      "cell_type": "markdown",
      "source": [
        "## Evaluation of algorithms."
      ],
      "metadata": {
        "id": "LcqA66xjYKau"
      }
    },
    {
      "cell_type": "markdown",
      "source": [
        "\n",
        "Let's prepare estimates for visualization."
      ],
      "metadata": {
        "id": "HkiDR9dsiw7O"
      }
    },
    {
      "cell_type": "code",
      "source": [
        "models = ['Linear Regression', 'Linear Regression (Zero)', 'Linear Regression (Analysis)', 'Lasso', 'Random Forest','Gradient Boosting']\n",
        "all_scores = (scores_line_reg,\n",
        "              scores_line_reg_zero,\n",
        "              scores_line_reg_analysis,\n",
        "              scores_lasso,\n",
        "              scores_forest,\n",
        "              scores_gb)\n",
        "\n",
        "all_rmse = [score['RMSE'] for score in all_scores]\n",
        "all_mae = [score['MAE'] for score in all_scores]\n",
        "all_r2 = [score['R2'] for score in all_scores]\n",
        "\n",
        "for model,rmse_one,mae_one,r2_one in zip(models,all_rmse,all_mae,all_r2):\n",
        "    print(f'{model}:\\nRMSE: {rmse_one:.4f}\\nMAE: {mae_one:.4f}\\nR2: {r2_one:.4f}\\n')"
      ],
      "metadata": {
        "colab": {
          "base_uri": "https://localhost:8080/"
        },
        "id": "29sXsQHkv0bM",
        "outputId": "4a4c7f34-c014-4bb4-a59d-29fb0cb7ae74"
      },
      "execution_count": null,
      "outputs": [
        {
          "output_type": "stream",
          "name": "stdout",
          "text": [
            "Linear Regression:\n",
            "RMSE: 1095661.2519\n",
            "MAE: 817581.9344\n",
            "R2: 0.6351\n",
            "\n",
            "Linear Regression (Zero):\n",
            "RMSE: 1114398.0484\n",
            "MAE: 823742.0093\n",
            "R2: 0.6550\n",
            "\n",
            "Linear Regression (Analysis):\n",
            "RMSE: 1114879.6457\n",
            "MAE: 824206.1228\n",
            "R2: 0.6547\n",
            "\n",
            "Lasso:\n",
            "RMSE: 1056228.5534\n",
            "MAE: 768210.7474\n",
            "R2: 0.6831\n",
            "\n",
            "Random Forest:\n",
            "RMSE: 1173384.9640\n",
            "MAE: 827325.7326\n",
            "R2: 0.6253\n",
            "\n",
            "Gradient Boosting:\n",
            "RMSE: 1089761.3512\n",
            "MAE: 776995.0883\n",
            "R2: 0.6763\n",
            "\n"
          ]
        }
      ]
    },
    {
      "cell_type": "markdown",
      "source": [
        "**We compare RMSE and MAE between different models.**"
      ],
      "metadata": {
        "id": "cENEuPaawSPF"
      }
    },
    {
      "cell_type": "code",
      "source": [
        "plt.figure(figsize=(13,5))\n",
        "\n",
        "x = np.arange(len(all_scores))\n",
        "width = 0.3\n",
        "\n",
        "plt.bar(x=x - width / 2,height=all_rmse,width=width,color='r',edgecolor='black',linewidth=1.5,label='RMSE',zorder=2)\n",
        "\n",
        "plt.bar(x=x + width / 2,height=all_mae,width=width,color='y',edgecolor='black',linewidth=1.5,label='MAE',zorder=3)\n",
        "\n",
        "plt.title('RMSE and MAE between different models')\n",
        "plt.xticks(x,models)\n",
        "plt.ylabel('Metrics')\n",
        "\n",
        "plt.grid(zorder=1)\n",
        "plt.tight_layout()\n",
        "plt.legend()\n",
        "plt.show()"
      ],
      "metadata": {
        "colab": {
          "base_uri": "https://localhost:8080/",
          "height": 489
        },
        "id": "oDx_LO0rYTWb",
        "outputId": "410b89c0-4ace-40a3-de09-20a900120e28"
      },
      "execution_count": null,
      "outputs": [
        {
          "output_type": "display_data",
          "data": {
            "text/plain": [
              "<Figure size 1300x500 with 1 Axes>"
            ],
            "image/png": "[encoded data removed]"
          },
          "metadata": {}
        }
      ]
    },
    {
      "cell_type": "markdown",
      "source": [
        "**And now let's compare R2.**"
      ],
      "metadata": {
        "id": "3XUXfQCXx8Eu"
      }
    },
    {
      "cell_type": "code",
      "source": [
        "plt.figure(figsize=(13,5))\n",
        "\n",
        "x = np.arange(len(all_scores))\n",
        "width = 0.5\n",
        "\n",
        "plt.bar(x=x,height=all_r2,width=width,color='g',edgecolor='black',linewidth=1.5,zorder=2)\n",
        "\n",
        "plt.title('R2 between different models')\n",
        "plt.xticks(x,models)\n",
        "plt.ylabel('R2')\n",
        "\n",
        "plt.grid(zorder=1)\n",
        "plt.tight_layout()\n",
        "plt.show()"
      ],
      "metadata": {
        "colab": {
          "base_uri": "https://localhost:8080/",
          "height": 489
        },
        "id": "6r_YxxI1x660",
        "outputId": "e33f827c-0c1c-4ef9-8f91-baaed9aeca0e"
      },
      "execution_count": null,
      "outputs": [
        {
          "output_type": "display_data",
          "data": {
            "text/plain": [
              "<Figure size 1300x500 with 1 Axes>"
            ],
            "image/png": "[encoded data removed]"
          },
          "metadata": {}
        }
      ]
    },
    {
      "cell_type": "markdown",
      "source": [
        "# Conclusion."
      ],
      "metadata": {
        "id": "qOkxp1Ym-TjN"
      }
    },
    {
      "cell_type": "markdown",
      "source": [
        "Based on the results obtained, the Lasso model showed the best results in all metrics, which indicates its effectiveness for this task. Gradient boosting also shows good results and can be considered as an alternative. Linear regression and random forest models showed less satisfactory results."
      ],
      "metadata": {
        "id": "8XY5pjt3-bCl"
      }
    }
  ]
}